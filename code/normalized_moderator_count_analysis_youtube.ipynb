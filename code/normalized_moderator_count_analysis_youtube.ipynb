{
 "cells": [
  {
   "cell_type": "code",
   "execution_count": null,
   "id": "383302f3",
   "metadata": {},
   "outputs": [],
   "source": [
    "import pandas as pd\n",
    "import joblib\n",
    "import os\n",
    "import numpy as np"
   ]
  },
  {
   "cell_type": "code",
   "execution_count": null,
   "id": "71300856",
   "metadata": {},
   "outputs": [],
   "source": [
    "df = pd.read_parquet('/home/manuel/Documents/oii/moderation_workforce/data/youtube/ryan_raw_samples/processed_fasttext_pred.parquet')\n",
    "df.head()"
   ]
  },
  {
   "cell_type": "code",
   "execution_count": null,
   "id": "a78a6c0a",
   "metadata": {},
   "outputs": [],
   "source": [
    "df.shape"
   ]
  },
  {
   "cell_type": "code",
   "execution_count": null,
   "id": "7fd897d3",
   "metadata": {},
   "outputs": [],
   "source": [
    "id_df = pd.read_csv('/home/manuel/Documents/oii/moderation_workforce/data/youtube/ryan_raw_samples/random_prefix_26000_20240617_163129_706620 trimmed.csv')\n",
    "id_df.head()"
   ]
  },
  {
   "cell_type": "code",
   "execution_count": null,
   "id": "43f0b854",
   "metadata": {},
   "outputs": [],
   "source": [
    "id_df = id_df.drop_duplicates(subset=['id'])"
   ]
  },
  {
   "cell_type": "code",
   "execution_count": null,
   "id": "885faed8",
   "metadata": {},
   "outputs": [],
   "source": [
    "id_df.shape"
   ]
  },
  {
   "cell_type": "code",
   "execution_count": null,
   "id": "ff072a79",
   "metadata": {},
   "outputs": [],
   "source": [
    "id_list = id_df['id'].tolist()"
   ]
  },
  {
   "cell_type": "code",
   "execution_count": null,
   "id": "bfc01154",
   "metadata": {},
   "outputs": [],
   "source": [
    "df = df.loc[df['id'].isin(id_list)]"
   ]
  },
  {
   "cell_type": "code",
   "execution_count": null,
   "id": "ceb459d9",
   "metadata": {},
   "outputs": [],
   "source": [
    "langs = ['__label__bul_Cyrl', '__label__hrv_Latn',\n",
    "       '__label__ces_Latn', '__label__dan_Latn', '__label__est_Latn',\n",
    "       '__label__fin_Latn', '__label__ell_Grek', '__label__hun_Latn',\n",
    "       '__label__lvs_Latn', '__label__lit_Latn', \n",
    "       '__label__ron_Latn', '__label__slk_Latn', '__label__slv_Latn',\n",
    "       '__label__swe_Latn', '__label__nld_Latn', '__label__eng_Latn',\n",
    "       '__label__fra_Latn', '__label__deu_Latn', '__label__ita_Latn',\n",
    "       '__label__pol_Latn', '__label__por_Latn', '__label__spa_Latn']"
   ]
  },
  {
   "cell_type": "markdown",
   "id": "3564398f",
   "metadata": {},
   "source": [
    "## calibration"
   ]
  },
  {
   "cell_type": "code",
   "execution_count": null,
   "id": "c89c24a1",
   "metadata": {},
   "outputs": [],
   "source": [
    "model_path = '/home/manuel/Documents/oii/moderation_workforce/data/calibration_fasttext/youtube/calibration_models'"
   ]
  },
  {
   "cell_type": "code",
   "execution_count": null,
   "id": "1a423b78",
   "metadata": {},
   "outputs": [],
   "source": [
    "for lang in langs:\n",
    "    lang_abbr = lang.replace('__label__', '')\n",
    "    model = joblib.load(os.path.join(model_path, f\"isotonic_regression_model_{lang_abbr}.joblib\"))\n",
    "    df[f'calibrated_{lang}'] = model.transform(df[lang])"
   ]
  },
  {
   "cell_type": "markdown",
   "id": "336934f2",
   "metadata": {},
   "source": [
    "## load mod count data"
   ]
  },
  {
   "cell_type": "code",
   "execution_count": null,
   "id": "8e41fc36",
   "metadata": {},
   "outputs": [],
   "source": [
    "estimate_dict = dict()"
   ]
  },
  {
   "cell_type": "code",
   "execution_count": null,
   "id": "a05fdbe0",
   "metadata": {
    "scrolled": false
   },
   "outputs": [],
   "source": [
    "mod_count_df = pd.read_csv('/home/manuel/Documents/oii/moderation_workforce/data/youtube/moderator_workforce_data - youtube_moderator_count_new.csv')\n",
    "mod_count_df.head()"
   ]
  },
  {
   "cell_type": "code",
   "execution_count": null,
   "id": "4b4b5340",
   "metadata": {},
   "outputs": [],
   "source": [
    "mod_count_df = mod_count_df[['Language', 'Average moderator count']]\n",
    "mod_count_df.columns = ['language_full', 'avg_mod_count']\n",
    "mod_count_df.head()"
   ]
  },
  {
   "cell_type": "code",
   "execution_count": null,
   "id": "eeb21169",
   "metadata": {},
   "outputs": [],
   "source": [
    "mod_count_df.head(50)"
   ]
  },
  {
   "cell_type": "code",
   "execution_count": null,
   "id": "1f03af8b",
   "metadata": {},
   "outputs": [],
   "source": [
    "lang_map = {\n",
    "    \"Lithuanian\": \"lit_Latn\",\n",
    "    \"Hungarian\": \"hun_Latn\",\n",
    "    \"Polish\": \"pol_Latn\",\n",
    "    \"Latvian\": \"lvs_Latn\",\n",
    "    \"Czech\": \"ces_Latn\",\n",
    "    \"Greek\": \"ell_Grek\",\n",
    "    \"German\": \"deu_Latn\",\n",
    "    \"Dutch\": \"nld_Latn\",\n",
    "    \"Finnish\": \"fin_Latn\",\n",
    "    \"Slovak\": \"slk_Latn\",\n",
    "    \"Bulgarian\": \"bul_Cyrl\",\n",
    "    \"Danish\": \"dan_Latn\",\n",
    "    \"Italian\": \"ita_Latn\",\n",
    "    \"Swedish\": \"swe_Latn\",\n",
    "    \"French\": \"fra_Latn\",\n",
    "    \"Croatian\": \"hrv_Latn\",\n",
    "    \"Romanian\": \"ron_Latn\",\n",
    "    \"English\": \"eng_Latn\",\n",
    "    \"Spanish\": \"spa_Latn\",\n",
    "    \"Portuguese\": \"por_Latn\",\n",
    "    \"Estonian\": \"est_Latn\",\n",
    "    \"Irish\": \"gle_Latn\",\n",
    "    \"Maltese\": \"mlt_Latn\",\n",
    "    \"Slovenian\": \"slv_Latn\",\n",
    "    \"Agnostic\": None  # or \"agnostic\"\n",
    "}\n",
    "\n",
    "# Create the new column\n",
    "mod_count_df[\"lang\"] = mod_count_df[\"language_full\"].map(lang_map)"
   ]
  },
  {
   "cell_type": "code",
   "execution_count": null,
   "id": "2af56222",
   "metadata": {},
   "outputs": [],
   "source": [
    "mod_count_df.head()"
   ]
  },
  {
   "cell_type": "code",
   "execution_count": null,
   "id": "a695d793",
   "metadata": {},
   "outputs": [],
   "source": [
    "mod_count_df.head(30)"
   ]
  },
  {
   "cell_type": "code",
   "execution_count": null,
   "id": "cb4bca6f",
   "metadata": {},
   "outputs": [],
   "source": [
    "lang_to_avg_mod_count = dict(zip(mod_count_df[\"lang\"], mod_count_df[\"avg_mod_count\"]))"
   ]
  },
  {
   "cell_type": "markdown",
   "id": "51fe2bf0",
   "metadata": {},
   "source": [
    "## estimation"
   ]
  },
  {
   "cell_type": "code",
   "execution_count": null,
   "id": "f44893f8",
   "metadata": {},
   "outputs": [],
   "source": [
    "# Example: langs = [\"lit_Latn\", \"hun_Latn\", \"pol_Latn\", ...]\n",
    "results = {}\n",
    "\n",
    "n_bootstrap = 5000\n",
    "\n",
    "for lang in langs:\n",
    "    lang_abbr = lang.replace('__label__', '')\n",
    "    print(lang)\n",
    "    col_name = f\"calibrated_{lang}\"\n",
    "    boot_sums = []\n",
    "    mod_count = lang_to_avg_mod_count[lang_abbr]\n",
    "    # Bootstrap sampling\n",
    "    for _ in range(n_bootstrap):\n",
    "        sample = df.sample(frac=1, replace=True)  # same size as df, with replacement\n",
    "        count_estimate =  sample[col_name].sum()\n",
    "        daily_overall_count_estimate = count_estimate * (571443/7009)\n",
    "        if daily_overall_count_estimate>0:\n",
    "            normalized_mod_count = mod_count/(daily_overall_count_estimate/1000)\n",
    "            boot_sums.append(normalized_mod_count)\n",
    "\n",
    "    boot_sums = np.array(boot_sums)\n",
    "    \n",
    "    # Compute stats\n",
    "    mean_sum = boot_sums.mean()\n",
    "    lower_ci = np.percentile(boot_sums, 2.5)\n",
    "    upper_ci = np.percentile(boot_sums, 97.5)\n",
    "\n",
    "    results[lang] = {\n",
    "        \"mean\": mean_sum,\n",
    "        \"ci_lower\": lower_ci,\n",
    "        \"ci_upper\": upper_ci\n",
    "    }\n",
    "\n",
    "# Convert to DataFrame for nice viewing\n",
    "bootstrap_df = pd.DataFrame.from_dict(results, orient=\"index\")\n",
    "bootstrap_df.reset_index(names=\"lang\", inplace=True)\n"
   ]
  },
  {
   "cell_type": "code",
   "execution_count": null,
   "id": "c3ec4d3e",
   "metadata": {},
   "outputs": [],
   "source": [
    "bootstrap_df.head(50)"
   ]
  },
  {
   "cell_type": "code",
   "execution_count": null,
   "id": "52762a59",
   "metadata": {},
   "outputs": [],
   "source": [
    "bootstrap_df['lang_abbr'] = bootstrap_df['lang'].apply(lambda x: x.replace('__label__', ''))"
   ]
  },
  {
   "cell_type": "code",
   "execution_count": null,
   "id": "55acd49c",
   "metadata": {},
   "outputs": [],
   "source": [
    "bootstrap_df.head()"
   ]
  },
  {
   "cell_type": "code",
   "execution_count": null,
   "id": "bb5deed8",
   "metadata": {},
   "outputs": [],
   "source": [
    "# Invert lang_map: fasttext code → full language name\n",
    "abbr_to_full = {v: k for k, v in lang_map.items() if v is not None}\n",
    "\n",
    "# Map 'lang_abbr' to 'lang_full'\n",
    "bootstrap_df['lang_full'] = bootstrap_df['lang_abbr'].map(abbr_to_full)\n"
   ]
  },
  {
   "cell_type": "code",
   "execution_count": null,
   "id": "6f01f9ab",
   "metadata": {},
   "outputs": [],
   "source": [
    "bootstrap_df.head()"
   ]
  },
  {
   "cell_type": "code",
   "execution_count": null,
   "id": "79849d9a",
   "metadata": {},
   "outputs": [],
   "source": [
    "import matplotlib.pyplot as plt\n",
    "\n",
    "# Sort by mean descending\n",
    "bootstrap_df_sorted = bootstrap_df.sort_values('mean', ascending=False)\n",
    "\n",
    "# Bar positions\n",
    "y_pos = range(len(bootstrap_df_sorted))\n",
    "\n",
    "# Plot\n",
    "plt.figure(figsize=(10, 7))\n",
    "plt.barh(\n",
    "    y=y_pos, \n",
    "    width=bootstrap_df_sorted['mean'], \n",
    "    xerr=[bootstrap_df_sorted['mean'] - bootstrap_df_sorted['ci_lower'], \n",
    "          bootstrap_df_sorted['ci_upper'] - bootstrap_df_sorted['mean']],\n",
    "    color='skyblue', \n",
    "    ecolor='gray',\n",
    "    capsize=4\n",
    ")\n",
    "plt.yticks(y_pos, bootstrap_df_sorted['lang_full'])\n",
    "plt.gca().invert_yaxis()  # Highest values on top\n",
    "plt.xlabel('Moderator count per thousand daily videos')\n",
    "plt.title('YouTube')\n",
    "plt.tight_layout()\n",
    "plt.show()\n"
   ]
  },
  {
   "cell_type": "markdown",
   "id": "7a76f2f3",
   "metadata": {},
   "source": [
    "## estimation, duration"
   ]
  },
  {
   "cell_type": "code",
   "execution_count": null,
   "id": "34b06e4f",
   "metadata": {},
   "outputs": [],
   "source": [
    "df.shape"
   ]
  },
  {
   "cell_type": "code",
   "execution_count": null,
   "id": "665266a3",
   "metadata": {},
   "outputs": [],
   "source": [
    "df = df.merge(id_df[['id', 'duration']], on=['id'])\n",
    "df.head()"
   ]
  },
  {
   "cell_type": "code",
   "execution_count": null,
   "id": "e7763652",
   "metadata": {},
   "outputs": [],
   "source": [
    "# Example: langs = [\"lit_Latn\", \"hun_Latn\", \"pol_Latn\", ...]\n",
    "results = {}\n",
    "\n",
    "n_bootstrap = 1000\n",
    "\n",
    "for lang in langs:\n",
    "    lang_abbr = lang.replace('__label__', '')\n",
    "    print(lang)\n",
    "    col_name = f\"calibrated_{lang}\"\n",
    "    boot_sums = []\n",
    "    mod_count = lang_to_avg_mod_count[lang_abbr]\n",
    "    # Bootstrap sampling\n",
    "    for _ in range(n_bootstrap):\n",
    "        sample = df.sample(frac=1, replace=True)  # same size as df, with replacement\n",
    "        sample[f'{col_name}_weighted'] = sample[col_name] * sample['duration']\n",
    "        count_estimate =  sample[f'{col_name}_weighted'].sum()\n",
    "        daily_overall_hours_estimate = (count_estimate/60)/60 * (571443/7009)\n",
    "        if daily_overall_count_estimate>0:\n",
    "            normalized_mod_count = mod_count/daily_overall_hours_estimate\n",
    "            boot_sums.append(normalized_mod_count)\n",
    "\n",
    "    boot_sums = np.array(boot_sums)\n",
    "    \n",
    "    # Compute stats\n",
    "    mean_sum = boot_sums.mean()\n",
    "    lower_ci = np.percentile(boot_sums, 2.5)\n",
    "    upper_ci = np.percentile(boot_sums, 97.5)\n",
    "\n",
    "    results[lang] = {\n",
    "        \"mean\": mean_sum,\n",
    "        \"ci_lower\": lower_ci,\n",
    "        \"ci_upper\": upper_ci\n",
    "    }\n",
    "\n",
    "# Convert to DataFrame for nice viewing\n",
    "bootstrap_df = pd.DataFrame.from_dict(results, orient=\"index\")\n",
    "bootstrap_df.reset_index(names=\"lang\", inplace=True)"
   ]
  },
  {
   "cell_type": "code",
   "execution_count": null,
   "id": "0b00a54f",
   "metadata": {},
   "outputs": [],
   "source": []
  },
  {
   "cell_type": "code",
   "execution_count": null,
   "id": "cb17cabf",
   "metadata": {},
   "outputs": [],
   "source": [
    "bootstrap_df.head(50)"
   ]
  },
  {
   "cell_type": "code",
   "execution_count": null,
   "id": "59d4bcdf",
   "metadata": {},
   "outputs": [],
   "source": [
    "bootstrap_df['lang_abbr'] = bootstrap_df['lang'].apply(lambda x: x.replace('__label__', ''))"
   ]
  },
  {
   "cell_type": "code",
   "execution_count": null,
   "id": "f8e11729",
   "metadata": {},
   "outputs": [],
   "source": [
    "bootstrap_df.head()"
   ]
  },
  {
   "cell_type": "code",
   "execution_count": null,
   "id": "10efe4b3",
   "metadata": {},
   "outputs": [],
   "source": [
    "# Invert lang_map: fasttext code → full language name\n",
    "abbr_to_full = {v: k for k, v in lang_map.items() if v is not None}\n",
    "\n",
    "# Map 'lang_abbr' to 'lang_full'\n",
    "bootstrap_df['lang_full'] = bootstrap_df['lang_abbr'].map(abbr_to_full)\n"
   ]
  },
  {
   "cell_type": "code",
   "execution_count": null,
   "id": "f31a6327",
   "metadata": {},
   "outputs": [],
   "source": [
    "bootstrap_df.head()"
   ]
  },
  {
   "cell_type": "code",
   "execution_count": null,
   "id": "5ed955f8",
   "metadata": {},
   "outputs": [],
   "source": [
    "import matplotlib.pyplot as plt\n",
    "\n",
    "# Sort by mean descending\n",
    "bootstrap_df_sorted = bootstrap_df.sort_values('mean', ascending=False)\n",
    "\n",
    "# Bar positions\n",
    "y_pos = range(len(bootstrap_df_sorted))\n",
    "\n",
    "# Plot\n",
    "plt.figure(figsize=(10, 7))\n",
    "plt.barh(\n",
    "    y=y_pos, \n",
    "    width=bootstrap_df_sorted['mean'], \n",
    "    xerr=[bootstrap_df_sorted['mean'] - bootstrap_df_sorted['ci_lower'], \n",
    "          bootstrap_df_sorted['ci_upper'] - bootstrap_df_sorted['mean']],\n",
    "    color='skyblue', \n",
    "    ecolor='gray',\n",
    "    capsize=4\n",
    ")\n",
    "plt.yticks(y_pos, bootstrap_df_sorted['lang_full'])\n",
    "plt.gca().invert_yaxis()  # Highest values on top\n",
    "plt.xlabel('Moderator count per daily video hour')\n",
    "plt.title('YouTube')\n",
    "plt.tight_layout()\n",
    "plt.show()\n"
   ]
  },
  {
   "cell_type": "markdown",
   "id": "a9bc7023",
   "metadata": {},
   "source": [
    "## estimation, grouping baltic state languages"
   ]
  },
  {
   "cell_type": "code",
   "execution_count": null,
   "id": "5ce5c913",
   "metadata": {},
   "outputs": [],
   "source": [
    "# # Example: langs = [\"lit_Latn\", \"hun_Latn\", \"pol_Latn\", ...]\n",
    "# results = {}\n",
    "\n",
    "# n_bootstrap = 5000\n",
    "\n",
    "# for lang in langs:\n",
    "#     lang_abbr = lang.replace('__label__', '')\n",
    "#     print(lang)\n",
    "#     col_name = f\"calibrated_{lang}\"\n",
    "#     boot_sums = []\n",
    "#     mod_count = lang_to_avg_mod_count[lang_abbr]\n",
    "#     # Bootstrap sampling\n",
    "#     for _ in range(n_bootstrap):\n",
    "#         sample = df.sample(frac=1, replace=True)  # same size as df, with replacement\n",
    "#         count_estimate =  sample[col_name].sum()\n",
    "#         daily_overall_count_estimate = count_estimate * (571443/7009)\n",
    "#         if daily_overall_count_estimate>0:\n",
    "#             normalized_mod_count = mod_count/(daily_overall_count_estimate/1000)\n",
    "#             boot_sums.append(normalized_mod_count)\n",
    "\n",
    "#     boot_sums = np.array(boot_sums)\n",
    "    \n",
    "#     # Compute stats\n",
    "#     mean_sum = boot_sums.mean()\n",
    "#     lower_ci = np.percentile(boot_sums, 2.5)\n",
    "#     upper_ci = np.percentile(boot_sums, 97.5)\n",
    "\n",
    "#     results[lang] = {\n",
    "#         \"mean\": mean_sum,\n",
    "#         \"ci_lower\": lower_ci,\n",
    "#         \"ci_upper\": upper_ci\n",
    "#     }\n",
    "\n",
    "# # Convert to DataFrame for nice viewing\n",
    "# bootstrap_df = pd.DataFrame.from_dict(results, orient=\"index\")\n",
    "# bootstrap_df.reset_index(names=\"lang\", inplace=True)"
   ]
  },
  {
   "cell_type": "code",
   "execution_count": null,
   "id": "f1e048fb",
   "metadata": {},
   "outputs": [],
   "source": []
  },
  {
   "cell_type": "code",
   "execution_count": null,
   "id": "f9cb5442",
   "metadata": {},
   "outputs": [],
   "source": [
    "langs"
   ]
  },
  {
   "cell_type": "code",
   "execution_count": null,
   "id": "61445701",
   "metadata": {},
   "outputs": [],
   "source": [
    "langs = ['__label__baltic',\n",
    "    '__label__bul_Cyrl',\n",
    " '__label__hrv_Latn',\n",
    " '__label__ces_Latn',\n",
    " '__label__dan_Latn',\n",
    " '__label__fin_Latn',\n",
    " '__label__ell_Grek',\n",
    " '__label__hun_Latn',\n",
    " '__label__ron_Latn',\n",
    " '__label__slk_Latn',\n",
    " '__label__slv_Latn',\n",
    " '__label__swe_Latn',\n",
    " '__label__nld_Latn',\n",
    " '__label__eng_Latn',\n",
    " '__label__fra_Latn',\n",
    " '__label__deu_Latn',\n",
    " '__label__ita_Latn',\n",
    " '__label__pol_Latn',\n",
    " '__label__por_Latn',\n",
    " '__label__spa_Latn',\n",
    "]"
   ]
  },
  {
   "cell_type": "code",
   "execution_count": null,
   "id": "04e8dbf2",
   "metadata": {},
   "outputs": [],
   "source": [
    "lang_to_avg_mod_count"
   ]
  },
  {
   "cell_type": "code",
   "execution_count": null,
   "id": "63c185b2",
   "metadata": {},
   "outputs": [],
   "source": [
    "# Example: langs = [\"lit_Latn\", \"hun_Latn\", \"pol_Latn\", ...]\n",
    "results = {}\n",
    "\n",
    "n_bootstrap = 1000\n",
    "\n",
    "for lang in langs:\n",
    "    lang_abbr = lang.replace('__label__', '')\n",
    "    print(lang)\n",
    "    col_name = f\"calibrated_{lang}\"\n",
    "    boot_sums = []\n",
    "    if lang == '__label__baltic':\n",
    "        mod_count = lang_to_avg_mod_count['est_Latn'] + lang_to_avg_mod_count['lvs_Latn'] + lang_to_avg_mod_count['lit_Latn']\n",
    "    else:\n",
    "        mod_count = lang_to_avg_mod_count[lang_abbr]\n",
    "    # Bootstrap sampling\n",
    "    for _ in range(n_bootstrap):\n",
    "        sample = df.sample(frac=1, replace=True)  # same size as df, with replacement\n",
    "        if lang == '__label__baltic':\n",
    "            count_estimate = sample['calibrated___label__est_Latn'].sum() + sample['calibrated___label__lit_Latn'].sum() + sample['calibrated___label__lvs_Latn'].sum()\n",
    "        else:\n",
    "            count_estimate =  sample[col_name].sum()\n",
    "        daily_overall_count_estimate = count_estimate * (571443/7009)\n",
    "        if daily_overall_count_estimate>0:\n",
    "            normalized_mod_count = mod_count/(daily_overall_count_estimate/1000)\n",
    "            boot_sums.append(normalized_mod_count)\n",
    "\n",
    "    boot_sums = np.array(boot_sums)\n",
    "    \n",
    "    # Compute stats\n",
    "    mean_sum = boot_sums.mean()\n",
    "    lower_ci = np.percentile(boot_sums, 2.5)\n",
    "    upper_ci = np.percentile(boot_sums, 97.5)\n",
    "\n",
    "    results[lang] = {\n",
    "        \"mean\": mean_sum,\n",
    "        \"ci_lower\": lower_ci,\n",
    "        \"ci_upper\": upper_ci\n",
    "    }\n",
    "\n",
    "# Convert to DataFrame for nice viewing\n",
    "bootstrap_df = pd.DataFrame.from_dict(results, orient=\"index\")\n",
    "bootstrap_df.reset_index(names=\"lang\", inplace=True)"
   ]
  },
  {
   "cell_type": "code",
   "execution_count": null,
   "id": "d45f2803",
   "metadata": {},
   "outputs": [],
   "source": [
    "bootstrap_df.head(50)"
   ]
  },
  {
   "cell_type": "code",
   "execution_count": null,
   "id": "ad187014",
   "metadata": {},
   "outputs": [],
   "source": [
    "bootstrap_df['lang_abbr'] = bootstrap_df['lang'].apply(lambda x: x.replace('__label__', ''))"
   ]
  },
  {
   "cell_type": "code",
   "execution_count": null,
   "id": "9ae99f70",
   "metadata": {},
   "outputs": [],
   "source": [
    "bootstrap_df.head()"
   ]
  },
  {
   "cell_type": "code",
   "execution_count": null,
   "id": "8d848d8b",
   "metadata": {},
   "outputs": [],
   "source": [
    "lang_map['Baltic State Languages'] = 'baltic'"
   ]
  },
  {
   "cell_type": "code",
   "execution_count": null,
   "id": "5118b9dc",
   "metadata": {},
   "outputs": [],
   "source": [
    "# Invert lang_map: fasttext code → full language name\n",
    "abbr_to_full = {v: k for k, v in lang_map.items() if v is not None}\n",
    "\n",
    "# Map 'lang_abbr' to 'lang_full'\n",
    "bootstrap_df['lang_full'] = bootstrap_df['lang_abbr'].map(abbr_to_full)\n"
   ]
  },
  {
   "cell_type": "code",
   "execution_count": null,
   "id": "ac6f07bb",
   "metadata": {},
   "outputs": [],
   "source": [
    "bootstrap_df.head()"
   ]
  },
  {
   "cell_type": "code",
   "execution_count": null,
   "id": "f659d8e7",
   "metadata": {},
   "outputs": [],
   "source": [
    "import matplotlib.pyplot as plt\n",
    "\n",
    "# Sort by mean descending\n",
    "bootstrap_df_sorted = bootstrap_df.sort_values('mean', ascending=False)\n",
    "\n",
    "# Bar positions\n",
    "y_pos = range(len(bootstrap_df_sorted))\n",
    "\n",
    "# Plot\n",
    "plt.figure(figsize=(10, 7))\n",
    "plt.barh(\n",
    "    y=y_pos, \n",
    "    width=bootstrap_df_sorted['mean'], \n",
    "    xerr=[bootstrap_df_sorted['mean'] - bootstrap_df_sorted['ci_lower'], \n",
    "          bootstrap_df_sorted['ci_upper'] - bootstrap_df_sorted['mean']],\n",
    "    color='skyblue', \n",
    "    ecolor='gray',\n",
    "    capsize=4\n",
    ")\n",
    "plt.yticks(y_pos, bootstrap_df_sorted['lang_full'])\n",
    "plt.gca().invert_yaxis()  # Highest values on top\n",
    "plt.xlabel('Moderator count per thousand daily videos')\n",
    "plt.title('YouTube')\n",
    "plt.tight_layout()\n",
    "plt.show()\n"
   ]
  },
  {
   "cell_type": "code",
   "execution_count": null,
   "id": "ad1404f2",
   "metadata": {},
   "outputs": [],
   "source": [
    "bootstrap_df.to_csv('/home/manuel/Documents/oii/moderation_workforce/data/plots/plot_data/bar_plot_normalized_counts_youtube_latest.csv',\n",
    "                 index=False)"
   ]
  },
  {
   "cell_type": "markdown",
   "id": "5ad04195",
   "metadata": {},
   "source": [
    "## produce data for scatter plot"
   ]
  },
  {
   "cell_type": "code",
   "execution_count": null,
   "id": "fd78f3af",
   "metadata": {},
   "outputs": [],
   "source": [
    "langs = ['__label__bul_Cyrl', '__label__hrv_Latn',\n",
    "       '__label__ces_Latn', '__label__dan_Latn', '__label__est_Latn',\n",
    "       '__label__fin_Latn', '__label__ell_Grek', '__label__hun_Latn',\n",
    "       '__label__lvs_Latn', '__label__lit_Latn', \n",
    "       '__label__ron_Latn', '__label__slk_Latn', '__label__slv_Latn',\n",
    "       '__label__swe_Latn', '__label__nld_Latn', '__label__eng_Latn',\n",
    "       '__label__fra_Latn', '__label__deu_Latn', '__label__ita_Latn',\n",
    "       '__label__pol_Latn', '__label__por_Latn', '__label__spa_Latn']"
   ]
  },
  {
   "cell_type": "code",
   "execution_count": null,
   "id": "68f2d42e",
   "metadata": {},
   "outputs": [],
   "source": [
    "mod_count_df.head()"
   ]
  },
  {
   "cell_type": "code",
   "execution_count": null,
   "id": "b7679fe3",
   "metadata": {},
   "outputs": [],
   "source": [
    "mod_count_df['avg_daily_video_count'] = [None]*mod_count_df.shape[0]"
   ]
  },
  {
   "cell_type": "code",
   "execution_count": null,
   "id": "dff5f061",
   "metadata": {},
   "outputs": [],
   "source": [
    "mod_count_df.head(50)"
   ]
  },
  {
   "cell_type": "code",
   "execution_count": null,
   "id": "7e6e21fa",
   "metadata": {},
   "outputs": [],
   "source": [
    "for i in range(mod_count_df.shape[0]):\n",
    "    lang = mod_count_df['lang'][i]\n",
    "    col_name = f\"calibrated___label__{lang}\"\n",
    "    if col_name in df:\n",
    "        video_count_sample = df[col_name].sum()\n",
    "        daily_video_count_avg_total = video_count_sample * (571443/7009) \n",
    "        mod_count_df['avg_daily_video_count'][i] = daily_video_count_avg_total"
   ]
  },
  {
   "cell_type": "code",
   "execution_count": null,
   "id": "69d45e04",
   "metadata": {},
   "outputs": [],
   "source": [
    "mod_count_df = mod_count_df.loc[~mod_count_df['avg_daily_video_count'].isnull()]"
   ]
  },
  {
   "cell_type": "code",
   "execution_count": null,
   "id": "9a6db0e8",
   "metadata": {},
   "outputs": [],
   "source": [
    "mod_count_df"
   ]
  },
  {
   "cell_type": "code",
   "execution_count": null,
   "id": "dc3bb421",
   "metadata": {},
   "outputs": [],
   "source": [
    "import matplotlib.pyplot as plt\n",
    "\n",
    "plt.figure(figsize=(8, 6))\n",
    "\n",
    "# Scatter plot\n",
    "plt.scatter(mod_count_df[\"avg_daily_video_count\"], mod_count_df[\"avg_mod_count\"], s=60)\n",
    "\n",
    "# Add labels for each language ISO code\n",
    "for i, row in mod_count_df.iterrows():\n",
    "    plt.text(row[\"avg_daily_video_count\"], row[\"avg_mod_count\"], \n",
    "             row[\"lang\"], fontsize=9, ha='center', va='bottom')\n",
    "\n",
    "# Log scale for both axes\n",
    "plt.xscale(\"log\")\n",
    "plt.yscale(\"log\")\n",
    "\n",
    "# Labels and title\n",
    "plt.xlabel(\"Average Daily Video Count (log scale)\")\n",
    "plt.ylabel(\"Average Moderator Count (log scale)\")\n",
    "plt.title(\"Moderators vs Daily Videos by Language (Log-Log Plot)\")\n",
    "\n",
    "plt.tight_layout()\n",
    "plt.show()\n"
   ]
  },
  {
   "cell_type": "code",
   "execution_count": null,
   "id": "4192b73b",
   "metadata": {},
   "outputs": [],
   "source": [
    "mod_count_df.to_csv('/home/manuel/Documents/oii/moderation_workforce/data/plots/plot_data/scatter_plot_data_youtube.csv',\n",
    "                   index=False)"
   ]
  },
  {
   "cell_type": "code",
   "execution_count": null,
   "id": "2d1c0968",
   "metadata": {},
   "outputs": [],
   "source": []
  }
 ],
 "metadata": {
  "kernelspec": {
   "display_name": "Python 3 (ipykernel)",
   "language": "python",
   "name": "python3"
  },
  "language_info": {
   "codemirror_mode": {
    "name": "ipython",
    "version": 3
   },
   "file_extension": ".py",
   "mimetype": "text/x-python",
   "name": "python",
   "nbconvert_exporter": "python",
   "pygments_lexer": "ipython3",
   "version": "3.12.3"
  }
 },
 "nbformat": 4,
 "nbformat_minor": 5
}
