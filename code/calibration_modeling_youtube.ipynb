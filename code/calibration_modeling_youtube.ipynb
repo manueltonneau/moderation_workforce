{
 "cells": [
  {
   "cell_type": "code",
   "execution_count": null,
   "id": "63f2b9b2",
   "metadata": {},
   "outputs": [],
   "source": [
    "import pandas as pd"
   ]
  },
  {
   "cell_type": "code",
   "execution_count": null,
   "id": "554d6e17",
   "metadata": {},
   "outputs": [],
   "source": [
    "import joblib"
   ]
  },
  {
   "cell_type": "markdown",
   "id": "55129307",
   "metadata": {},
   "source": [
    "## german"
   ]
  },
  {
   "cell_type": "code",
   "execution_count": null,
   "id": "09d03d8d",
   "metadata": {},
   "outputs": [],
   "source": [
    "lang = 'deu_Latn'"
   ]
  },
  {
   "cell_type": "code",
   "execution_count": null,
   "id": "ce0b55b4",
   "metadata": {},
   "outputs": [],
   "source": [
    "df = pd.read_csv(f'/home/manuel/Documents/oii/moderation_workforce/data/calibration_fasttext/youtube/samples_annotated/calibration_fasttext_youtube - {lang}.csv')\n",
    "df.head()"
   ]
  },
  {
   "cell_type": "code",
   "execution_count": null,
   "id": "409fc38a",
   "metadata": {},
   "outputs": [],
   "source": [
    "df['video_lang'].value_counts(dropna=False)"
   ]
  },
  {
   "cell_type": "code",
   "execution_count": null,
   "id": "4de409ab",
   "metadata": {},
   "outputs": [],
   "source": [
    "df = df.loc[df['video_lang'].isin(['0', '1', '0,5'])]\n",
    "df.head()"
   ]
  },
  {
   "cell_type": "code",
   "execution_count": null,
   "id": "8abea914",
   "metadata": {},
   "outputs": [],
   "source": [
    "df['video_lang'] = df['video_lang'].apply(lambda x: x.replace(',', '.')).astype(float)"
   ]
  },
  {
   "cell_type": "code",
   "execution_count": null,
   "id": "89f873da",
   "metadata": {},
   "outputs": [],
   "source": [
    "df['video_lang'].value_counts(dropna=False)"
   ]
  },
  {
   "cell_type": "code",
   "execution_count": null,
   "id": "1710fe83",
   "metadata": {},
   "outputs": [],
   "source": [
    "import numpy as np\n",
    "import pandas as pd\n",
    "from sklearn.isotonic import IsotonicRegression\n",
    "from sklearn.linear_model import LogisticRegression\n",
    "\n",
    "# Assuming df with columns 'label_deu' (raw scores) and 'class' (binary labels)\n",
    "\n",
    "X = df[f'__label__{lang}'].values.reshape(-1, 1)  # raw model scores (e.g., predicted probs or logits)\n",
    "y = df['video_lang'].values                     # true binary labels (0/1)\n",
    "\n",
    "# # Fit Platt scaling logistic regression on the raw scores\n",
    "# platt_scaler = LogisticRegression(solver='lbfgs')  # default params are fine\n",
    "# platt_scaler.fit(X, y)\n",
    "\n",
    "# # Predict calibrated probabilities using Platt scaling\n",
    "# calibrated_platt = platt_scaler.predict_proba(X)[:, 1]\n",
    "\n",
    "# Fit isotonic regression calibration (for comparison)\n",
    "iso_reg = IsotonicRegression(out_of_bounds='clip')\n",
    "calibrated_isotonic = iso_reg.fit_transform(df[f'__label__{lang}'], y)\n",
    "\n",
    "# Add calibrated scores to DataFrame\n",
    "# df['calibrated_platt'] = calibrated_platt\n",
    "df['calibrated_isotonic'] = calibrated_isotonic"
   ]
  },
  {
   "cell_type": "code",
   "execution_count": null,
   "id": "a50d7922",
   "metadata": {},
   "outputs": [],
   "source": [
    "iso_reg.transform([0.0000001])"
   ]
  },
  {
   "cell_type": "code",
   "execution_count": null,
   "id": "f5a9f1af",
   "metadata": {},
   "outputs": [],
   "source": [
    "df.tail()"
   ]
  },
  {
   "cell_type": "code",
   "execution_count": null,
   "id": "a6927ac1",
   "metadata": {},
   "outputs": [],
   "source": [
    "df['bin'] = (np.arange(len(df)) // 10)\n",
    "df.head()"
   ]
  },
  {
   "cell_type": "code",
   "execution_count": null,
   "id": "84301825",
   "metadata": {},
   "outputs": [],
   "source": [
    "bin_averages = df.groupby('bin').agg({\n",
    "    'video_lang': 'mean',\n",
    "#     'calibrated_platt': 'mean',    \n",
    "    'calibrated_isotonic': 'mean',\n",
    "    '__label__deu_Latn': 'mean',}).reset_index()\n",
    "bin_averages"
   ]
  },
  {
   "cell_type": "code",
   "execution_count": null,
   "id": "3f4548a8",
   "metadata": {},
   "outputs": [],
   "source": [
    "import matplotlib.pyplot as plt\n",
    "\n",
    "# Use your DataFrame\n",
    "# df = your DataFrame with columns: 'calibrated_isotonic', 'label_arb_Arab'\n",
    "\n",
    "plt.figure(figsize=(6, 6))\n",
    "plt.plot(bin_averages[\"calibrated_isotonic\"], bin_averages[f\"video_lang\"], \"s-\", label=\"Isotonic calibrated\")\n",
    "plt.plot([0, 1], [0, 1], \"k--\", label=\"Perfect calibration\")\n",
    "plt.xlabel(\"Mean predicted probability (bin average)\")\n",
    "plt.ylabel(\"Fraction of positives\")\n",
    "plt.title(\"Calibration Curve (Isotonic)\")\n",
    "plt.legend()\n",
    "plt.grid(True)\n",
    "plt.tight_layout()\n",
    "plt.show()\n"
   ]
  },
  {
   "cell_type": "code",
   "execution_count": null,
   "id": "cf068336",
   "metadata": {},
   "outputs": [],
   "source": [
    "# Save the model\n",
    "joblib.dump(iso_reg, f'/home/manuel/Documents/oii/moderation_workforce/data/calibration_fasttext/youtube/calibration_models/isotonic_regression_model_{lang}.joblib')"
   ]
  },
  {
   "cell_type": "code",
   "execution_count": null,
   "id": "2169ecec",
   "metadata": {},
   "outputs": [],
   "source": []
  },
  {
   "cell_type": "markdown",
   "id": "a19f7492",
   "metadata": {},
   "source": [
    "## fra"
   ]
  },
  {
   "cell_type": "code",
   "execution_count": null,
   "id": "e492722c",
   "metadata": {},
   "outputs": [],
   "source": [
    "lang = 'fra_Latn'"
   ]
  },
  {
   "cell_type": "code",
   "execution_count": null,
   "id": "948cdb94",
   "metadata": {},
   "outputs": [],
   "source": [
    "df = pd.read_csv(f'/home/manuel/Documents/oii/moderation_workforce/data/calibration_fasttext/youtube/samples_annotated/calibration_fasttext_youtube - {lang}.csv')\n",
    "df.head()"
   ]
  },
  {
   "cell_type": "code",
   "execution_count": null,
   "id": "2833a23a",
   "metadata": {},
   "outputs": [],
   "source": [
    "df['video_lang'].value_counts(dropna=False)"
   ]
  },
  {
   "cell_type": "code",
   "execution_count": null,
   "id": "c9640fbc",
   "metadata": {},
   "outputs": [],
   "source": [
    "df = df.loc[df['video_lang'].isin(['0', '1', '0,5'])]\n",
    "df.head()"
   ]
  },
  {
   "cell_type": "code",
   "execution_count": null,
   "id": "7eed7852",
   "metadata": {},
   "outputs": [],
   "source": [
    "df['video_lang'] = df['video_lang'].apply(lambda x: x.replace(',', '.')).astype(float)"
   ]
  },
  {
   "cell_type": "code",
   "execution_count": null,
   "id": "5f269bf7",
   "metadata": {},
   "outputs": [],
   "source": [
    "df['video_lang'].value_counts(dropna=False)"
   ]
  },
  {
   "cell_type": "code",
   "execution_count": null,
   "id": "bcb9b294",
   "metadata": {},
   "outputs": [],
   "source": [
    "import numpy as np\n",
    "import pandas as pd\n",
    "from sklearn.isotonic import IsotonicRegression\n",
    "from sklearn.linear_model import LogisticRegression\n",
    "\n",
    "# Assuming df with columns 'label_deu' (raw scores) and 'class' (binary labels)\n",
    "\n",
    "X = df[f'__label__{lang}'].values.reshape(-1, 1)  # raw model scores (e.g., predicted probs or logits)\n",
    "y = df['video_lang'].values                     # true binary labels (0/1)\n",
    "\n",
    "# # Fit Platt scaling logistic regression on the raw scores\n",
    "# platt_scaler = LogisticRegression(solver='lbfgs')  # default params are fine\n",
    "# platt_scaler.fit(X, y)\n",
    "\n",
    "# # Predict calibrated probabilities using Platt scaling\n",
    "# calibrated_platt = platt_scaler.predict_proba(X)[:, 1]\n",
    "\n",
    "# Fit isotonic regression calibration (for comparison)\n",
    "iso_reg = IsotonicRegression(out_of_bounds='clip')\n",
    "calibrated_isotonic = iso_reg.fit_transform(df[f'__label__{lang}'], y)\n",
    "\n",
    "# Add calibrated scores to DataFrame\n",
    "# df['calibrated_platt'] = calibrated_platt\n",
    "df['calibrated_isotonic'] = calibrated_isotonic"
   ]
  },
  {
   "cell_type": "code",
   "execution_count": null,
   "id": "2df23ba3",
   "metadata": {},
   "outputs": [],
   "source": [
    "iso_reg.transform([0.0000001])"
   ]
  },
  {
   "cell_type": "code",
   "execution_count": null,
   "id": "175ed7e6",
   "metadata": {},
   "outputs": [],
   "source": [
    "iso_reg.transform([0.01])"
   ]
  },
  {
   "cell_type": "code",
   "execution_count": null,
   "id": "3132ccd0",
   "metadata": {},
   "outputs": [],
   "source": [
    "iso_reg.transform([0.1])"
   ]
  },
  {
   "cell_type": "code",
   "execution_count": null,
   "id": "3cb6bd3a",
   "metadata": {},
   "outputs": [],
   "source": [
    "df.tail()"
   ]
  },
  {
   "cell_type": "code",
   "execution_count": null,
   "id": "5a9dded9",
   "metadata": {},
   "outputs": [],
   "source": [
    "df['bin'] = (np.arange(len(df)) // 10)\n",
    "df.head()"
   ]
  },
  {
   "cell_type": "code",
   "execution_count": null,
   "id": "7b92dd40",
   "metadata": {},
   "outputs": [],
   "source": [
    "bin_averages = df.groupby('bin').agg({\n",
    "    'video_lang': 'mean',\n",
    "#     'calibrated_platt': 'mean',    \n",
    "    'calibrated_isotonic': 'mean',\n",
    "    f'__label__{lang}': 'mean',}).reset_index()\n",
    "bin_averages"
   ]
  },
  {
   "cell_type": "code",
   "execution_count": null,
   "id": "b10c501d",
   "metadata": {},
   "outputs": [],
   "source": [
    "import matplotlib.pyplot as plt\n",
    "\n",
    "# Use your DataFrame\n",
    "# df = your DataFrame with columns: 'calibrated_isotonic', 'label_arb_Arab'\n",
    "\n",
    "plt.figure(figsize=(6, 6))\n",
    "plt.plot(bin_averages[\"calibrated_isotonic\"], bin_averages[f\"video_lang\"], \"s-\", label=\"Isotonic calibrated\")\n",
    "plt.plot([0, 1], [0, 1], \"k--\", label=\"Perfect calibration\")\n",
    "plt.xlabel(\"Mean predicted probability (bin average)\")\n",
    "plt.ylabel(\"Fraction of positives\")\n",
    "plt.title(\"Calibration Curve (Isotonic)\")\n",
    "plt.legend()\n",
    "plt.grid(True)\n",
    "plt.tight_layout()\n",
    "plt.show()\n"
   ]
  },
  {
   "cell_type": "code",
   "execution_count": null,
   "id": "4340b329",
   "metadata": {},
   "outputs": [],
   "source": [
    "# Save the model\n",
    "joblib.dump(iso_reg, f'/home/manuel/Documents/oii/moderation_workforce/data/calibration_fasttext/youtube/calibration_models/isotonic_regression_model_{lang}.joblib')"
   ]
  },
  {
   "cell_type": "code",
   "execution_count": null,
   "id": "4ba706c7",
   "metadata": {},
   "outputs": [],
   "source": []
  },
  {
   "cell_type": "markdown",
   "id": "8313d931",
   "metadata": {},
   "source": [
    "## bul_Cyrl"
   ]
  },
  {
   "cell_type": "code",
   "execution_count": null,
   "id": "36b0eae6",
   "metadata": {},
   "outputs": [],
   "source": [
    "lang = 'bul_Cyrl'"
   ]
  },
  {
   "cell_type": "code",
   "execution_count": null,
   "id": "48023acb",
   "metadata": {},
   "outputs": [],
   "source": [
    "df = pd.read_csv(f'/home/manuel/Documents/oii/moderation_workforce/data/calibration_fasttext/youtube/samples_annotated/calibration_fasttext_youtube - {lang}.csv')\n",
    "df.head()"
   ]
  },
  {
   "cell_type": "code",
   "execution_count": null,
   "id": "d3055722",
   "metadata": {},
   "outputs": [],
   "source": [
    "df['video_lang'].value_counts(dropna=False)"
   ]
  },
  {
   "cell_type": "code",
   "execution_count": null,
   "id": "537d71a9",
   "metadata": {},
   "outputs": [],
   "source": [
    "df = df.loc[df['video_lang'].isin(['0', '1', '0,5'])]\n",
    "df.head()"
   ]
  },
  {
   "cell_type": "code",
   "execution_count": null,
   "id": "743ec450",
   "metadata": {},
   "outputs": [],
   "source": [
    "df['video_lang'] = df['video_lang'].apply(lambda x: x.replace(',', '.')).astype(float)"
   ]
  },
  {
   "cell_type": "code",
   "execution_count": null,
   "id": "d3d735bd",
   "metadata": {},
   "outputs": [],
   "source": [
    "df['video_lang'].value_counts(dropna=False)"
   ]
  },
  {
   "cell_type": "code",
   "execution_count": null,
   "id": "899afc17",
   "metadata": {},
   "outputs": [],
   "source": [
    "import numpy as np\n",
    "import pandas as pd\n",
    "from sklearn.isotonic import IsotonicRegression\n",
    "from sklearn.linear_model import LogisticRegression\n",
    "\n",
    "# Assuming df with columns 'label_deu' (raw scores) and 'class' (binary labels)\n",
    "\n",
    "X = df[f'__label__{lang}'].values.reshape(-1, 1)  # raw model scores (e.g., predicted probs or logits)\n",
    "y = df['video_lang'].values                     # true binary labels (0/1)\n",
    "\n",
    "# # Fit Platt scaling logistic regression on the raw scores\n",
    "# platt_scaler = LogisticRegression(solver='lbfgs')  # default params are fine\n",
    "# platt_scaler.fit(X, y)\n",
    "\n",
    "# # Predict calibrated probabilities using Platt scaling\n",
    "# calibrated_platt = platt_scaler.predict_proba(X)[:, 1]\n",
    "\n",
    "# Fit isotonic regression calibration (for comparison)\n",
    "iso_reg = IsotonicRegression(out_of_bounds='clip')\n",
    "calibrated_isotonic = iso_reg.fit_transform(df[f'__label__{lang}'], y)\n",
    "\n",
    "# Add calibrated scores to DataFrame\n",
    "# df['calibrated_platt'] = calibrated_platt\n",
    "df['calibrated_isotonic'] = calibrated_isotonic"
   ]
  },
  {
   "cell_type": "code",
   "execution_count": null,
   "id": "8240ff27",
   "metadata": {},
   "outputs": [],
   "source": [
    "iso_reg.transform([0.0000001])"
   ]
  },
  {
   "cell_type": "code",
   "execution_count": null,
   "id": "b8e53ec0",
   "metadata": {},
   "outputs": [],
   "source": [
    "iso_reg.transform([0.01])"
   ]
  },
  {
   "cell_type": "code",
   "execution_count": null,
   "id": "9c761c53",
   "metadata": {},
   "outputs": [],
   "source": [
    "iso_reg.transform([0.1])"
   ]
  },
  {
   "cell_type": "code",
   "execution_count": null,
   "id": "f0efd090",
   "metadata": {},
   "outputs": [],
   "source": [
    "df.tail()"
   ]
  },
  {
   "cell_type": "code",
   "execution_count": null,
   "id": "660bd836",
   "metadata": {},
   "outputs": [],
   "source": [
    "df['bin'] = (np.arange(len(df)) // 10)\n",
    "df.head()"
   ]
  },
  {
   "cell_type": "code",
   "execution_count": null,
   "id": "a5e165d8",
   "metadata": {},
   "outputs": [],
   "source": [
    "bin_averages = df.groupby('bin').agg({\n",
    "    'video_lang': 'mean',\n",
    "#     'calibrated_platt': 'mean',    \n",
    "    'calibrated_isotonic': 'mean',\n",
    "    f'__label__{lang}': 'mean',}).reset_index()\n",
    "bin_averages"
   ]
  },
  {
   "cell_type": "code",
   "execution_count": null,
   "id": "1459820d",
   "metadata": {},
   "outputs": [],
   "source": [
    "import matplotlib.pyplot as plt\n",
    "\n",
    "# Use your DataFrame\n",
    "# df = your DataFrame with columns: 'calibrated_isotonic', 'label_arb_Arab'\n",
    "\n",
    "plt.figure(figsize=(6, 6))\n",
    "plt.plot(bin_averages[\"calibrated_isotonic\"], bin_averages[f\"video_lang\"], \"s-\", label=\"Isotonic calibrated\")\n",
    "plt.plot([0, 1], [0, 1], \"k--\", label=\"Perfect calibration\")\n",
    "plt.xlabel(\"Mean predicted probability (bin average)\")\n",
    "plt.ylabel(\"Fraction of positives\")\n",
    "plt.title(\"Calibration Curve (Isotonic)\")\n",
    "plt.legend()\n",
    "plt.grid(True)\n",
    "plt.tight_layout()\n",
    "plt.show()\n"
   ]
  },
  {
   "cell_type": "code",
   "execution_count": null,
   "id": "d0fa85ef",
   "metadata": {},
   "outputs": [],
   "source": [
    "# Save the model\n",
    "joblib.dump(iso_reg, f'/home/manuel/Documents/oii/moderation_workforce/data/calibration_fasttext/youtube/calibration_models/isotonic_regression_model_{lang}.joblib')"
   ]
  },
  {
   "cell_type": "markdown",
   "id": "a32112da",
   "metadata": {},
   "source": [
    "## dan_Latn"
   ]
  },
  {
   "cell_type": "code",
   "execution_count": null,
   "id": "673c9674",
   "metadata": {},
   "outputs": [],
   "source": [
    "lang = 'dan_Latn'"
   ]
  },
  {
   "cell_type": "code",
   "execution_count": null,
   "id": "749db4b7",
   "metadata": {},
   "outputs": [],
   "source": [
    "df = pd.read_csv(f'/home/manuel/Documents/oii/moderation_workforce/data/calibration_fasttext/youtube/samples_annotated/calibration_fasttext_youtube - {lang}.csv')\n",
    "df.head()"
   ]
  },
  {
   "cell_type": "code",
   "execution_count": null,
   "id": "543b842d",
   "metadata": {},
   "outputs": [],
   "source": [
    "df['video_lang'].value_counts(dropna=False)"
   ]
  },
  {
   "cell_type": "code",
   "execution_count": null,
   "id": "249250e3",
   "metadata": {},
   "outputs": [],
   "source": [
    "df = df.loc[~df['video_lang'].isnull()]"
   ]
  },
  {
   "cell_type": "code",
   "execution_count": null,
   "id": "3081b7d2",
   "metadata": {},
   "outputs": [],
   "source": [
    "import numpy as np\n",
    "import pandas as pd\n",
    "from sklearn.isotonic import IsotonicRegression\n",
    "from sklearn.linear_model import LogisticRegression\n",
    "\n",
    "# Assuming df with columns 'label_deu' (raw scores) and 'class' (binary labels)\n",
    "\n",
    "X = df[f'__label__{lang}'].values.reshape(-1, 1)  # raw model scores (e.g., predicted probs or logits)\n",
    "y = df['video_lang'].values                     # true binary labels (0/1)\n",
    "\n",
    "# # Fit Platt scaling logistic regression on the raw scores\n",
    "# platt_scaler = LogisticRegression(solver='lbfgs')  # default params are fine\n",
    "# platt_scaler.fit(X, y)\n",
    "\n",
    "# # Predict calibrated probabilities using Platt scaling\n",
    "# calibrated_platt = platt_scaler.predict_proba(X)[:, 1]\n",
    "\n",
    "# Fit isotonic regression calibration (for comparison)\n",
    "iso_reg = IsotonicRegression(out_of_bounds='clip')\n",
    "calibrated_isotonic = iso_reg.fit_transform(df[f'__label__{lang}'], y)\n",
    "\n",
    "# Add calibrated scores to DataFrame\n",
    "# df['calibrated_platt'] = calibrated_platt\n",
    "df['calibrated_isotonic'] = calibrated_isotonic"
   ]
  },
  {
   "cell_type": "code",
   "execution_count": null,
   "id": "f77153f7",
   "metadata": {},
   "outputs": [],
   "source": [
    "iso_reg.transform([0.0000001])"
   ]
  },
  {
   "cell_type": "code",
   "execution_count": null,
   "id": "65835375",
   "metadata": {},
   "outputs": [],
   "source": [
    "iso_reg.transform([0.01])"
   ]
  },
  {
   "cell_type": "code",
   "execution_count": null,
   "id": "f5e8a609",
   "metadata": {},
   "outputs": [],
   "source": [
    "iso_reg.transform([0.1])"
   ]
  },
  {
   "cell_type": "code",
   "execution_count": null,
   "id": "39af1a8c",
   "metadata": {},
   "outputs": [],
   "source": [
    "df.tail()"
   ]
  },
  {
   "cell_type": "code",
   "execution_count": null,
   "id": "d1cc9d0c",
   "metadata": {},
   "outputs": [],
   "source": [
    "df['bin'] = (np.arange(len(df)) // 10)\n",
    "df.head()"
   ]
  },
  {
   "cell_type": "code",
   "execution_count": null,
   "id": "e97b6761",
   "metadata": {},
   "outputs": [],
   "source": [
    "bin_averages = df.groupby('bin').agg({\n",
    "    'video_lang': 'mean',\n",
    "#     'calibrated_platt': 'mean',    \n",
    "    'calibrated_isotonic': 'mean',\n",
    "    f'__label__{lang}': 'mean',}).reset_index()\n",
    "bin_averages"
   ]
  },
  {
   "cell_type": "code",
   "execution_count": null,
   "id": "b6460c15",
   "metadata": {},
   "outputs": [],
   "source": [
    "import matplotlib.pyplot as plt\n",
    "\n",
    "# Use your DataFrame\n",
    "# df = your DataFrame with columns: 'calibrated_isotonic', 'label_arb_Arab'\n",
    "\n",
    "plt.figure(figsize=(6, 6))\n",
    "plt.plot(bin_averages[\"calibrated_isotonic\"], bin_averages[f\"video_lang\"], \"s-\", label=\"Isotonic calibrated\")\n",
    "plt.plot([0, 1], [0, 1], \"k--\", label=\"Perfect calibration\")\n",
    "plt.xlabel(\"Mean predicted probability (bin average)\")\n",
    "plt.ylabel(\"Fraction of positives\")\n",
    "plt.title(\"Calibration Curve (Isotonic)\")\n",
    "plt.legend()\n",
    "plt.grid(True)\n",
    "plt.tight_layout()\n",
    "plt.show()"
   ]
  },
  {
   "cell_type": "code",
   "execution_count": null,
   "id": "cef1187c",
   "metadata": {},
   "outputs": [],
   "source": [
    "# Save the model\n",
    "joblib.dump(iso_reg, f'/home/manuel/Documents/oii/moderation_workforce/data/calibration_fasttext/youtube/calibration_models/isotonic_regression_model_{lang}.joblib')"
   ]
  },
  {
   "cell_type": "code",
   "execution_count": null,
   "id": "d08f29a6",
   "metadata": {},
   "outputs": [],
   "source": []
  },
  {
   "cell_type": "markdown",
   "id": "06a4f800",
   "metadata": {},
   "source": [
    "## ell_Grek"
   ]
  },
  {
   "cell_type": "code",
   "execution_count": null,
   "id": "b9564e7c",
   "metadata": {},
   "outputs": [],
   "source": [
    "lang = 'ell_Grek'"
   ]
  },
  {
   "cell_type": "code",
   "execution_count": null,
   "id": "8eeda4cd",
   "metadata": {},
   "outputs": [],
   "source": [
    "df = pd.read_csv(f'/home/manuel/Documents/oii/moderation_workforce/data/calibration_fasttext/youtube/samples_annotated/calibration_fasttext_youtube - {lang}.csv')\n",
    "df.head()"
   ]
  },
  {
   "cell_type": "code",
   "execution_count": null,
   "id": "94cc61e6",
   "metadata": {},
   "outputs": [],
   "source": [
    "df['video_language'].value_counts(dropna=False)"
   ]
  },
  {
   "cell_type": "code",
   "execution_count": null,
   "id": "fc230b84",
   "metadata": {},
   "outputs": [],
   "source": [
    "df = df.loc[~df['video_language'].isnull()]\n",
    "df.head()"
   ]
  },
  {
   "cell_type": "code",
   "execution_count": null,
   "id": "0793c9ca",
   "metadata": {},
   "outputs": [],
   "source": [
    "df['video_lang'] = df['video_language']"
   ]
  },
  {
   "cell_type": "code",
   "execution_count": null,
   "id": "37cf4c78",
   "metadata": {},
   "outputs": [],
   "source": [
    "df['video_lang'].value_counts(dropna=False)"
   ]
  },
  {
   "cell_type": "code",
   "execution_count": null,
   "id": "a1bf77db",
   "metadata": {},
   "outputs": [],
   "source": [
    "import numpy as np\n",
    "import pandas as pd\n",
    "from sklearn.isotonic import IsotonicRegression\n",
    "from sklearn.linear_model import LogisticRegression\n",
    "\n",
    "# Assuming df with columns 'label_deu' (raw scores) and 'class' (binary labels)\n",
    "\n",
    "X = df[f'__label__{lang}'].values.reshape(-1, 1)  # raw model scores (e.g., predicted probs or logits)\n",
    "y = df['video_lang'].values                     # true binary labels (0/1)\n",
    "\n",
    "# # Fit Platt scaling logistic regression on the raw scores\n",
    "# platt_scaler = LogisticRegression(solver='lbfgs')  # default params are fine\n",
    "# platt_scaler.fit(X, y)\n",
    "\n",
    "# # Predict calibrated probabilities using Platt scaling\n",
    "# calibrated_platt = platt_scaler.predict_proba(X)[:, 1]\n",
    "\n",
    "# Fit isotonic regression calibration (for comparison)\n",
    "iso_reg = IsotonicRegression(out_of_bounds='clip')\n",
    "calibrated_isotonic = iso_reg.fit_transform(df[f'__label__{lang}'], y)\n",
    "\n",
    "# Add calibrated scores to DataFrame\n",
    "# df['calibrated_platt'] = calibrated_platt\n",
    "df['calibrated_isotonic'] = calibrated_isotonic"
   ]
  },
  {
   "cell_type": "code",
   "execution_count": null,
   "id": "e052a1d3",
   "metadata": {},
   "outputs": [],
   "source": [
    "iso_reg.transform([0.0000001])"
   ]
  },
  {
   "cell_type": "code",
   "execution_count": null,
   "id": "6033819a",
   "metadata": {},
   "outputs": [],
   "source": [
    "iso_reg.transform([0.01])"
   ]
  },
  {
   "cell_type": "code",
   "execution_count": null,
   "id": "d58ab6fa",
   "metadata": {},
   "outputs": [],
   "source": [
    "iso_reg.transform([0.1])"
   ]
  },
  {
   "cell_type": "code",
   "execution_count": null,
   "id": "d0f28314",
   "metadata": {},
   "outputs": [],
   "source": [
    "df.tail()"
   ]
  },
  {
   "cell_type": "code",
   "execution_count": null,
   "id": "801193df",
   "metadata": {},
   "outputs": [],
   "source": [
    "df['bin'] = (np.arange(len(df)) // 10)\n",
    "df.head()"
   ]
  },
  {
   "cell_type": "code",
   "execution_count": null,
   "id": "2099075f",
   "metadata": {},
   "outputs": [],
   "source": [
    "bin_averages = df.groupby('bin').agg({\n",
    "    'video_lang': 'mean',\n",
    "#     'calibrated_platt': 'mean',    \n",
    "    'calibrated_isotonic': 'mean',\n",
    "    f'__label__{lang}': 'mean',}).reset_index()\n",
    "bin_averages"
   ]
  },
  {
   "cell_type": "code",
   "execution_count": null,
   "id": "a865a9e4",
   "metadata": {},
   "outputs": [],
   "source": [
    "import matplotlib.pyplot as plt\n",
    "\n",
    "# Use your DataFrame\n",
    "# df = your DataFrame with columns: 'calibrated_isotonic', 'label_arb_Arab'\n",
    "\n",
    "plt.figure(figsize=(6, 6))\n",
    "plt.plot(bin_averages[\"calibrated_isotonic\"], bin_averages[f\"video_lang\"], \"s-\", label=\"Isotonic calibrated\")\n",
    "plt.plot([0, 1], [0, 1], \"k--\", label=\"Perfect calibration\")\n",
    "plt.xlabel(\"Mean predicted probability (bin average)\")\n",
    "plt.ylabel(\"Fraction of positives\")\n",
    "plt.title(\"Calibration Curve (Isotonic)\")\n",
    "plt.legend()\n",
    "plt.grid(True)\n",
    "plt.tight_layout()\n",
    "plt.show()\n"
   ]
  },
  {
   "cell_type": "code",
   "execution_count": null,
   "id": "32f410e9",
   "metadata": {},
   "outputs": [],
   "source": [
    "# Save the model\n",
    "joblib.dump(iso_reg, f'/home/manuel/Documents/oii/moderation_workforce/data/calibration_fasttext/youtube/calibration_models/isotonic_regression_model_{lang}.joblib')"
   ]
  },
  {
   "cell_type": "code",
   "execution_count": null,
   "id": "e0e6015e",
   "metadata": {},
   "outputs": [],
   "source": []
  },
  {
   "cell_type": "markdown",
   "id": "3bba7022",
   "metadata": {},
   "source": [
    "## eng_Latn"
   ]
  },
  {
   "cell_type": "code",
   "execution_count": null,
   "id": "2f80c71c",
   "metadata": {},
   "outputs": [],
   "source": [
    "lang = 'eng_Latn'"
   ]
  },
  {
   "cell_type": "code",
   "execution_count": null,
   "id": "fef457b1",
   "metadata": {},
   "outputs": [],
   "source": [
    "df = pd.read_csv(f'/home/manuel/Documents/oii/moderation_workforce/data/calibration_fasttext/youtube/samples_annotated/calibration_fasttext_youtube - {lang}.csv')\n",
    "df.head()"
   ]
  },
  {
   "cell_type": "code",
   "execution_count": null,
   "id": "12e29115",
   "metadata": {},
   "outputs": [],
   "source": [
    "df['video_language'].value_counts(dropna=False)"
   ]
  },
  {
   "cell_type": "code",
   "execution_count": null,
   "id": "5ada488e",
   "metadata": {},
   "outputs": [],
   "source": [
    "df = df.loc[~df['video_language'].isnull()]\n",
    "df.head()"
   ]
  },
  {
   "cell_type": "code",
   "execution_count": null,
   "id": "85f18afa",
   "metadata": {},
   "outputs": [],
   "source": [
    "df['video_lang'] = df['video_language']"
   ]
  },
  {
   "cell_type": "code",
   "execution_count": null,
   "id": "88e201fa",
   "metadata": {},
   "outputs": [],
   "source": [
    "df['video_lang'].value_counts(dropna=False)"
   ]
  },
  {
   "cell_type": "code",
   "execution_count": null,
   "id": "7df84831",
   "metadata": {},
   "outputs": [],
   "source": [
    "import numpy as np\n",
    "import pandas as pd\n",
    "from sklearn.isotonic import IsotonicRegression\n",
    "from sklearn.linear_model import LogisticRegression\n",
    "\n",
    "# Assuming df with columns 'label_deu' (raw scores) and 'class' (binary labels)\n",
    "\n",
    "X = df[f'__label__{lang}'].values.reshape(-1, 1)  # raw model scores (e.g., predicted probs or logits)\n",
    "y = df['video_lang'].values                     # true binary labels (0/1)\n",
    "\n",
    "# # Fit Platt scaling logistic regression on the raw scores\n",
    "# platt_scaler = LogisticRegression(solver='lbfgs')  # default params are fine\n",
    "# platt_scaler.fit(X, y)\n",
    "\n",
    "# # Predict calibrated probabilities using Platt scaling\n",
    "# calibrated_platt = platt_scaler.predict_proba(X)[:, 1]\n",
    "\n",
    "# Fit isotonic regression calibration (for comparison)\n",
    "iso_reg = IsotonicRegression(out_of_bounds='clip')\n",
    "calibrated_isotonic = iso_reg.fit_transform(df[f'__label__{lang}'], y)\n",
    "\n",
    "# Add calibrated scores to DataFrame\n",
    "# df['calibrated_platt'] = calibrated_platt\n",
    "df['calibrated_isotonic'] = calibrated_isotonic"
   ]
  },
  {
   "cell_type": "code",
   "execution_count": null,
   "id": "84c91a58",
   "metadata": {},
   "outputs": [],
   "source": [
    "iso_reg.transform([0.0000001])"
   ]
  },
  {
   "cell_type": "code",
   "execution_count": null,
   "id": "758ece04",
   "metadata": {},
   "outputs": [],
   "source": [
    "iso_reg.transform([0.01])"
   ]
  },
  {
   "cell_type": "code",
   "execution_count": null,
   "id": "fcf2a89f",
   "metadata": {},
   "outputs": [],
   "source": [
    "iso_reg.transform([0.1])"
   ]
  },
  {
   "cell_type": "code",
   "execution_count": null,
   "id": "3a9ac529",
   "metadata": {},
   "outputs": [],
   "source": [
    "df.tail()"
   ]
  },
  {
   "cell_type": "code",
   "execution_count": null,
   "id": "c56146cb",
   "metadata": {},
   "outputs": [],
   "source": [
    "df['bin'] = (np.arange(len(df)) // 10)\n",
    "df.head()"
   ]
  },
  {
   "cell_type": "code",
   "execution_count": null,
   "id": "c80aa9c2",
   "metadata": {},
   "outputs": [],
   "source": [
    "bin_averages = df.groupby('bin').agg({\n",
    "    'video_lang': 'mean',\n",
    "#     'calibrated_platt': 'mean',    \n",
    "    'calibrated_isotonic': 'mean',\n",
    "    f'__label__{lang}': 'mean',}).reset_index()\n",
    "bin_averages"
   ]
  },
  {
   "cell_type": "code",
   "execution_count": null,
   "id": "9fa13776",
   "metadata": {},
   "outputs": [],
   "source": [
    "import matplotlib.pyplot as plt\n",
    "\n",
    "# Use your DataFrame\n",
    "# df = your DataFrame with columns: 'calibrated_isotonic', 'label_arb_Arab'\n",
    "\n",
    "plt.figure(figsize=(6, 6))\n",
    "plt.plot(bin_averages[\"calibrated_isotonic\"], bin_averages[f\"video_lang\"], \"s-\", label=\"Isotonic calibrated\")\n",
    "plt.plot([0, 1], [0, 1], \"k--\", label=\"Perfect calibration\")\n",
    "plt.xlabel(\"Mean predicted probability (bin average)\")\n",
    "plt.ylabel(\"Fraction of positives\")\n",
    "plt.title(\"Calibration Curve (Isotonic)\")\n",
    "plt.legend()\n",
    "plt.grid(True)\n",
    "plt.tight_layout()\n",
    "plt.show()\n"
   ]
  },
  {
   "cell_type": "code",
   "execution_count": null,
   "id": "0c4d1d97",
   "metadata": {},
   "outputs": [],
   "source": [
    "# Save the model\n",
    "joblib.dump(iso_reg, f'/home/manuel/Documents/oii/moderation_workforce/data/calibration_fasttext/youtube/calibration_models/isotonic_regression_model_{lang}.joblib')"
   ]
  },
  {
   "cell_type": "code",
   "execution_count": null,
   "id": "ec220d2d",
   "metadata": {},
   "outputs": [],
   "source": []
  },
  {
   "cell_type": "markdown",
   "id": "5fa3542d",
   "metadata": {},
   "source": [
    "## fin_Latn"
   ]
  },
  {
   "cell_type": "code",
   "execution_count": null,
   "id": "77ecad5d",
   "metadata": {},
   "outputs": [],
   "source": [
    "lang = 'fin_Latn'"
   ]
  },
  {
   "cell_type": "code",
   "execution_count": null,
   "id": "3b191ebb",
   "metadata": {},
   "outputs": [],
   "source": [
    "df = pd.read_csv(f'/home/manuel/Documents/oii/moderation_workforce/data/calibration_fasttext/youtube/samples_annotated/calibration_fasttext_youtube - {lang}.csv')\n",
    "df.head()"
   ]
  },
  {
   "cell_type": "code",
   "execution_count": null,
   "id": "bdaa697f",
   "metadata": {},
   "outputs": [],
   "source": [
    "df['video_lang'].value_counts(dropna=False)"
   ]
  },
  {
   "cell_type": "code",
   "execution_count": null,
   "id": "3518d195",
   "metadata": {},
   "outputs": [],
   "source": [
    "df = df.loc[~df['video_lang'].isnull()]\n",
    "df.head()"
   ]
  },
  {
   "cell_type": "code",
   "execution_count": null,
   "id": "1df7086e",
   "metadata": {},
   "outputs": [],
   "source": [
    "df['video_lang'].value_counts(dropna=False)"
   ]
  },
  {
   "cell_type": "code",
   "execution_count": null,
   "id": "76a45cca",
   "metadata": {},
   "outputs": [],
   "source": [
    "import numpy as np\n",
    "import pandas as pd\n",
    "from sklearn.isotonic import IsotonicRegression\n",
    "from sklearn.linear_model import LogisticRegression\n",
    "\n",
    "# Assuming df with columns 'label_deu' (raw scores) and 'class' (binary labels)\n",
    "\n",
    "X = df[f'__label__{lang}'].values.reshape(-1, 1)  # raw model scores (e.g., predicted probs or logits)\n",
    "y = df['video_lang'].values                     # true binary labels (0/1)\n",
    "\n",
    "# # Fit Platt scaling logistic regression on the raw scores\n",
    "# platt_scaler = LogisticRegression(solver='lbfgs')  # default params are fine\n",
    "# platt_scaler.fit(X, y)\n",
    "\n",
    "# # Predict calibrated probabilities using Platt scaling\n",
    "# calibrated_platt = platt_scaler.predict_proba(X)[:, 1]\n",
    "\n",
    "# Fit isotonic regression calibration (for comparison)\n",
    "iso_reg = IsotonicRegression(out_of_bounds='clip')\n",
    "calibrated_isotonic = iso_reg.fit_transform(df[f'__label__{lang}'], y)\n",
    "\n",
    "# Add calibrated scores to DataFrame\n",
    "# df['calibrated_platt'] = calibrated_platt\n",
    "df['calibrated_isotonic'] = calibrated_isotonic"
   ]
  },
  {
   "cell_type": "code",
   "execution_count": null,
   "id": "71e24a5c",
   "metadata": {},
   "outputs": [],
   "source": [
    "iso_reg.transform([0.0000001])"
   ]
  },
  {
   "cell_type": "code",
   "execution_count": null,
   "id": "689d8376",
   "metadata": {},
   "outputs": [],
   "source": [
    "iso_reg.transform([0.01])"
   ]
  },
  {
   "cell_type": "code",
   "execution_count": null,
   "id": "646e2d80",
   "metadata": {},
   "outputs": [],
   "source": [
    "iso_reg.transform([0.1])"
   ]
  },
  {
   "cell_type": "code",
   "execution_count": null,
   "id": "fdd2bd26",
   "metadata": {},
   "outputs": [],
   "source": [
    "df.tail()"
   ]
  },
  {
   "cell_type": "code",
   "execution_count": null,
   "id": "a5cfb1d0",
   "metadata": {},
   "outputs": [],
   "source": [
    "df['bin'] = (np.arange(len(df)) // 10)\n",
    "df.head()"
   ]
  },
  {
   "cell_type": "code",
   "execution_count": null,
   "id": "76263c96",
   "metadata": {},
   "outputs": [],
   "source": [
    "bin_averages = df.groupby('bin').agg({\n",
    "    'video_lang': 'mean',\n",
    "#     'calibrated_platt': 'mean',    \n",
    "    'calibrated_isotonic': 'mean',\n",
    "    f'__label__{lang}': 'mean',}).reset_index()\n",
    "bin_averages"
   ]
  },
  {
   "cell_type": "code",
   "execution_count": null,
   "id": "d37f2751",
   "metadata": {},
   "outputs": [],
   "source": [
    "import matplotlib.pyplot as plt\n",
    "\n",
    "# Use your DataFrame\n",
    "# df = your DataFrame with columns: 'calibrated_isotonic', 'label_arb_Arab'\n",
    "\n",
    "plt.figure(figsize=(6, 6))\n",
    "plt.plot(bin_averages[\"calibrated_isotonic\"], bin_averages[f\"video_lang\"], \"s-\", label=\"Isotonic calibrated\")\n",
    "plt.plot([0, 1], [0, 1], \"k--\", label=\"Perfect calibration\")\n",
    "plt.xlabel(\"Mean predicted probability (bin average)\")\n",
    "plt.ylabel(\"Fraction of positives\")\n",
    "plt.title(\"Calibration Curve (Isotonic)\")\n",
    "plt.legend()\n",
    "plt.grid(True)\n",
    "plt.tight_layout()\n",
    "plt.show()\n"
   ]
  },
  {
   "cell_type": "code",
   "execution_count": null,
   "id": "ece8de19",
   "metadata": {},
   "outputs": [],
   "source": [
    "# Save the model\n",
    "joblib.dump(iso_reg, f'/home/manuel/Documents/oii/moderation_workforce/data/calibration_fasttext/youtube/calibration_models/isotonic_regression_model_{lang}.joblib')"
   ]
  },
  {
   "cell_type": "code",
   "execution_count": null,
   "id": "cb1d3e49",
   "metadata": {},
   "outputs": [],
   "source": []
  },
  {
   "cell_type": "markdown",
   "id": "cd2ec855",
   "metadata": {},
   "source": [
    "## hun_Latn"
   ]
  },
  {
   "cell_type": "code",
   "execution_count": null,
   "id": "f318510c",
   "metadata": {},
   "outputs": [],
   "source": [
    "lang = 'hun_Latn'"
   ]
  },
  {
   "cell_type": "code",
   "execution_count": null,
   "id": "6e0d2d3d",
   "metadata": {},
   "outputs": [],
   "source": [
    "df = pd.read_csv(f'/home/manuel/Documents/oii/moderation_workforce/data/calibration_fasttext/youtube/samples_annotated/calibration_fasttext_youtube - {lang}.csv')\n",
    "df.head()"
   ]
  },
  {
   "cell_type": "code",
   "execution_count": null,
   "id": "c6a0f258",
   "metadata": {},
   "outputs": [],
   "source": [
    "df['video_lang'].value_counts(dropna=False)"
   ]
  },
  {
   "cell_type": "code",
   "execution_count": null,
   "id": "67fb1b9c",
   "metadata": {},
   "outputs": [],
   "source": [
    "df = df.loc[~df['video_lang'].isnull()]\n",
    "df.head()"
   ]
  },
  {
   "cell_type": "code",
   "execution_count": null,
   "id": "0a2aef31",
   "metadata": {},
   "outputs": [],
   "source": [
    "df['video_lang'].value_counts(dropna=False)"
   ]
  },
  {
   "cell_type": "code",
   "execution_count": null,
   "id": "b1a8a721",
   "metadata": {},
   "outputs": [],
   "source": [
    "df.loc[df['__label__hun_Latn']=='-']"
   ]
  },
  {
   "cell_type": "code",
   "execution_count": null,
   "id": "ae49065e",
   "metadata": {},
   "outputs": [],
   "source": [
    "import numpy as np\n",
    "import pandas as pd\n",
    "from sklearn.isotonic import IsotonicRegression\n",
    "from sklearn.linear_model import LogisticRegression\n",
    "\n",
    "# Assuming df with columns 'label_deu' (raw scores) and 'class' (binary labels)\n",
    "\n",
    "X = df[f'__label__{lang}'].values.reshape(-1, 1)  # raw model scores (e.g., predicted probs or logits)\n",
    "y = df['video_lang'].values                     # true binary labels (0/1)\n",
    "\n",
    "# # Fit Platt scaling logistic regression on the raw scores\n",
    "# platt_scaler = LogisticRegression(solver='lbfgs')  # default params are fine\n",
    "# platt_scaler.fit(X, y)\n",
    "\n",
    "# # Predict calibrated probabilities using Platt scaling\n",
    "# calibrated_platt = platt_scaler.predict_proba(X)[:, 1]\n",
    "\n",
    "# Fit isotonic regression calibration (for comparison)\n",
    "iso_reg = IsotonicRegression(out_of_bounds='clip')\n",
    "calibrated_isotonic = iso_reg.fit_transform(df[f'__label__{lang}'], y)\n",
    "\n",
    "# Add calibrated scores to DataFrame\n",
    "# df['calibrated_platt'] = calibrated_platt\n",
    "df['calibrated_isotonic'] = calibrated_isotonic"
   ]
  },
  {
   "cell_type": "code",
   "execution_count": null,
   "id": "308a110c",
   "metadata": {},
   "outputs": [],
   "source": [
    "iso_reg.transform([0.0000001])"
   ]
  },
  {
   "cell_type": "code",
   "execution_count": null,
   "id": "a4a2a4fe",
   "metadata": {},
   "outputs": [],
   "source": [
    "iso_reg.transform([0.01])"
   ]
  },
  {
   "cell_type": "code",
   "execution_count": null,
   "id": "27cfee1c",
   "metadata": {},
   "outputs": [],
   "source": [
    "iso_reg.transform([0.1])"
   ]
  },
  {
   "cell_type": "code",
   "execution_count": null,
   "id": "21a70c47",
   "metadata": {},
   "outputs": [],
   "source": [
    "df.tail()"
   ]
  },
  {
   "cell_type": "code",
   "execution_count": null,
   "id": "b1894163",
   "metadata": {},
   "outputs": [],
   "source": [
    "df['bin'] = (np.arange(len(df)) // 10)\n",
    "df.head()"
   ]
  },
  {
   "cell_type": "code",
   "execution_count": null,
   "id": "b77673bc",
   "metadata": {},
   "outputs": [],
   "source": [
    "bin_averages = df.groupby('bin').agg({\n",
    "    'video_lang': 'mean',\n",
    "#     'calibrated_platt': 'mean',    \n",
    "    'calibrated_isotonic': 'mean',\n",
    "    f'__label__{lang}': 'mean',}).reset_index()\n",
    "bin_averages"
   ]
  },
  {
   "cell_type": "code",
   "execution_count": null,
   "id": "02d3e210",
   "metadata": {},
   "outputs": [],
   "source": [
    "import matplotlib.pyplot as plt\n",
    "\n",
    "# Use your DataFrame\n",
    "# df = your DataFrame with columns: 'calibrated_isotonic', 'label_arb_Arab'\n",
    "\n",
    "plt.figure(figsize=(6, 6))\n",
    "plt.plot(bin_averages[\"calibrated_isotonic\"], bin_averages[f\"video_lang\"], \"s-\", label=\"Isotonic calibrated\")\n",
    "plt.plot([0, 1], [0, 1], \"k--\", label=\"Perfect calibration\")\n",
    "plt.xlabel(\"Mean predicted probability (bin average)\")\n",
    "plt.ylabel(\"Fraction of positives\")\n",
    "plt.title(\"Calibration Curve (Isotonic)\")\n",
    "plt.legend()\n",
    "plt.grid(True)\n",
    "plt.tight_layout()\n",
    "plt.show()\n"
   ]
  },
  {
   "cell_type": "code",
   "execution_count": null,
   "id": "02f27019",
   "metadata": {},
   "outputs": [],
   "source": [
    "# Save the model\n",
    "joblib.dump(iso_reg, f'/home/manuel/Documents/oii/moderation_workforce/data/calibration_fasttext/youtube/calibration_models/isotonic_regression_model_{lang}.joblib')"
   ]
  },
  {
   "cell_type": "code",
   "execution_count": null,
   "id": "dd14aa7f",
   "metadata": {},
   "outputs": [],
   "source": []
  },
  {
   "cell_type": "markdown",
   "id": "60206bc8",
   "metadata": {},
   "source": [
    "## hrv_Latn"
   ]
  },
  {
   "cell_type": "code",
   "execution_count": null,
   "id": "6701e1a2",
   "metadata": {},
   "outputs": [],
   "source": [
    "lang = 'hrv_Latn'"
   ]
  },
  {
   "cell_type": "code",
   "execution_count": null,
   "id": "d9044c4f",
   "metadata": {},
   "outputs": [],
   "source": [
    "df = pd.read_csv(f'/home/manuel/Documents/oii/moderation_workforce/data/calibration_fasttext/youtube/samples_annotated/calibration_fasttext_youtube - {lang}.csv')\n",
    "df.head()"
   ]
  },
  {
   "cell_type": "code",
   "execution_count": null,
   "id": "7d7d24cd",
   "metadata": {},
   "outputs": [],
   "source": [
    "df['video_lang'].value_counts(dropna=False)"
   ]
  },
  {
   "cell_type": "code",
   "execution_count": null,
   "id": "95f111a3",
   "metadata": {},
   "outputs": [],
   "source": [
    "df = df.loc[~df['video_lang'].isnull()]\n",
    "df.head()"
   ]
  },
  {
   "cell_type": "code",
   "execution_count": null,
   "id": "584726d2",
   "metadata": {},
   "outputs": [],
   "source": [
    "df['video_lang'].value_counts(dropna=False)"
   ]
  },
  {
   "cell_type": "code",
   "execution_count": null,
   "id": "380fa9fd",
   "metadata": {},
   "outputs": [],
   "source": [
    "df['video_lang'] = df['video_lang'].apply(lambda x: x.replace('0,5', '0.5').replace('0,,5', '0.5'))"
   ]
  },
  {
   "cell_type": "code",
   "execution_count": null,
   "id": "4d4d5ac3",
   "metadata": {},
   "outputs": [],
   "source": [
    "df['video_lang'].value_counts(dropna=False)"
   ]
  },
  {
   "cell_type": "code",
   "execution_count": null,
   "id": "476144b7",
   "metadata": {},
   "outputs": [],
   "source": [
    "df['video_lang'] = df['video_lang'].astype(float)"
   ]
  },
  {
   "cell_type": "code",
   "execution_count": null,
   "id": "a3bc20a9",
   "metadata": {},
   "outputs": [],
   "source": [
    "import numpy as np\n",
    "import pandas as pd\n",
    "from sklearn.isotonic import IsotonicRegression\n",
    "from sklearn.linear_model import LogisticRegression\n",
    "\n",
    "# Assuming df with columns 'label_deu' (raw scores) and 'class' (binary labels)\n",
    "\n",
    "X = df[f'__label__{lang}'].values.reshape(-1, 1)  # raw model scores (e.g., predicted probs or logits)\n",
    "y = df['video_lang'].values                     # true binary labels (0/1)\n",
    "\n",
    "# # Fit Platt scaling logistic regression on the raw scores\n",
    "# platt_scaler = LogisticRegression(solver='lbfgs')  # default params are fine\n",
    "# platt_scaler.fit(X, y)\n",
    "\n",
    "# # Predict calibrated probabilities using Platt scaling\n",
    "# calibrated_platt = platt_scaler.predict_proba(X)[:, 1]\n",
    "\n",
    "# Fit isotonic regression calibration (for comparison)\n",
    "iso_reg = IsotonicRegression(out_of_bounds='clip')\n",
    "calibrated_isotonic = iso_reg.fit_transform(df[f'__label__{lang}'], y)\n",
    "\n",
    "# Add calibrated scores to DataFrame\n",
    "# df['calibrated_platt'] = calibrated_platt\n",
    "df['calibrated_isotonic'] = calibrated_isotonic"
   ]
  },
  {
   "cell_type": "code",
   "execution_count": null,
   "id": "5b41405e",
   "metadata": {},
   "outputs": [],
   "source": [
    "iso_reg.transform([0.0000001])"
   ]
  },
  {
   "cell_type": "code",
   "execution_count": null,
   "id": "4657e1c4",
   "metadata": {},
   "outputs": [],
   "source": [
    "iso_reg.transform([0.01])"
   ]
  },
  {
   "cell_type": "code",
   "execution_count": null,
   "id": "29733924",
   "metadata": {},
   "outputs": [],
   "source": [
    "iso_reg.transform([0.1])"
   ]
  },
  {
   "cell_type": "code",
   "execution_count": null,
   "id": "69011562",
   "metadata": {},
   "outputs": [],
   "source": [
    "df.tail()"
   ]
  },
  {
   "cell_type": "code",
   "execution_count": null,
   "id": "04dbe695",
   "metadata": {},
   "outputs": [],
   "source": [
    "df['bin'] = (np.arange(len(df)) // 10)\n",
    "df.head()"
   ]
  },
  {
   "cell_type": "code",
   "execution_count": null,
   "id": "152f0fed",
   "metadata": {},
   "outputs": [],
   "source": [
    "bin_averages = df.groupby('bin').agg({\n",
    "    'video_lang': 'mean',\n",
    "#     'calibrated_platt': 'mean',    \n",
    "    'calibrated_isotonic': 'mean',\n",
    "    f'__label__{lang}': 'mean',}).reset_index()\n",
    "bin_averages"
   ]
  },
  {
   "cell_type": "code",
   "execution_count": null,
   "id": "dbefd124",
   "metadata": {},
   "outputs": [],
   "source": [
    "import matplotlib.pyplot as plt\n",
    "\n",
    "# Use your DataFrame\n",
    "# df = your DataFrame with columns: 'calibrated_isotonic', 'label_arb_Arab'\n",
    "\n",
    "plt.figure(figsize=(6, 6))\n",
    "plt.plot(bin_averages[\"calibrated_isotonic\"], bin_averages[f\"video_lang\"], \"s-\", label=\"Isotonic calibrated\")\n",
    "plt.plot([0, 1], [0, 1], \"k--\", label=\"Perfect calibration\")\n",
    "plt.xlabel(\"Mean predicted probability (bin average)\")\n",
    "plt.ylabel(\"Fraction of positives\")\n",
    "plt.title(\"Calibration Curve (Isotonic)\")\n",
    "plt.legend()\n",
    "plt.grid(True)\n",
    "plt.tight_layout()\n",
    "plt.show()\n"
   ]
  },
  {
   "cell_type": "code",
   "execution_count": null,
   "id": "ac033395",
   "metadata": {},
   "outputs": [],
   "source": [
    "# Save the model\n",
    "joblib.dump(iso_reg, f'/home/manuel/Documents/oii/moderation_workforce/data/calibration_fasttext/youtube/calibration_models/isotonic_regression_model_{lang}.joblib')"
   ]
  },
  {
   "cell_type": "code",
   "execution_count": null,
   "id": "074ced4a",
   "metadata": {},
   "outputs": [],
   "source": []
  },
  {
   "cell_type": "markdown",
   "id": "a376dcb2",
   "metadata": {},
   "source": [
    "## ces_Latn"
   ]
  },
  {
   "cell_type": "code",
   "execution_count": null,
   "id": "6fa6392c",
   "metadata": {},
   "outputs": [],
   "source": [
    "lang = 'ces_Latn'"
   ]
  },
  {
   "cell_type": "code",
   "execution_count": null,
   "id": "1b3193a7",
   "metadata": {},
   "outputs": [],
   "source": [
    "df = pd.read_csv(f'/home/manuel/Documents/oii/moderation_workforce/data/calibration_fasttext/youtube/samples_annotated/calibration_fasttext_youtube - {lang}.csv')\n",
    "df.head()"
   ]
  },
  {
   "cell_type": "code",
   "execution_count": null,
   "id": "f68962b1",
   "metadata": {},
   "outputs": [],
   "source": [
    "df['video_lang'].value_counts(dropna=False)"
   ]
  },
  {
   "cell_type": "code",
   "execution_count": null,
   "id": "c2ac806e",
   "metadata": {},
   "outputs": [],
   "source": [
    "df = df.loc[~df['video_lang'].isnull()]\n",
    "df.head()"
   ]
  },
  {
   "cell_type": "code",
   "execution_count": null,
   "id": "da8de6da",
   "metadata": {},
   "outputs": [],
   "source": []
  },
  {
   "cell_type": "code",
   "execution_count": null,
   "id": "f9efd144",
   "metadata": {},
   "outputs": [],
   "source": [
    "df['video_lang'].value_counts(dropna=False)"
   ]
  },
  {
   "cell_type": "code",
   "execution_count": null,
   "id": "5ae812ac",
   "metadata": {},
   "outputs": [],
   "source": [
    "df['video_lang'] = df['video_lang'].apply(lambda x: x.replace('Not available anymore', '').replace('0 - Slovak so not Czech', '0'))\n"
   ]
  },
  {
   "cell_type": "code",
   "execution_count": null,
   "id": "6ee4c119",
   "metadata": {},
   "outputs": [],
   "source": []
  },
  {
   "cell_type": "code",
   "execution_count": null,
   "id": "327eac44",
   "metadata": {},
   "outputs": [],
   "source": [
    "df['video_lang'].value_counts(dropna=False)"
   ]
  },
  {
   "cell_type": "code",
   "execution_count": null,
   "id": "e059023f",
   "metadata": {},
   "outputs": [],
   "source": [
    "df = df[df['video_lang'].isin(['0', '0.5', '1'])]"
   ]
  },
  {
   "cell_type": "code",
   "execution_count": null,
   "id": "be353ac6",
   "metadata": {},
   "outputs": [],
   "source": [
    "df['video_lang'] = df['video_lang'].astype(float)"
   ]
  },
  {
   "cell_type": "code",
   "execution_count": null,
   "id": "517a4e28",
   "metadata": {},
   "outputs": [],
   "source": [
    "import numpy as np\n",
    "import pandas as pd\n",
    "from sklearn.isotonic import IsotonicRegression\n",
    "from sklearn.linear_model import LogisticRegression\n",
    "\n",
    "# Assuming df with columns 'label_deu' (raw scores) and 'class' (binary labels)\n",
    "\n",
    "X = df[f'__label__{lang}'].values.reshape(-1, 1)  # raw model scores (e.g., predicted probs or logits)\n",
    "y = df['video_lang'].values                     # true binary labels (0/1)\n",
    "\n",
    "# # Fit Platt scaling logistic regression on the raw scores\n",
    "# platt_scaler = LogisticRegression(solver='lbfgs')  # default params are fine\n",
    "# platt_scaler.fit(X, y)\n",
    "\n",
    "# # Predict calibrated probabilities using Platt scaling\n",
    "# calibrated_platt = platt_scaler.predict_proba(X)[:, 1]\n",
    "\n",
    "# Fit isotonic regression calibration (for comparison)\n",
    "iso_reg = IsotonicRegression(out_of_bounds='clip')\n",
    "calibrated_isotonic = iso_reg.fit_transform(df[f'__label__{lang}'], y)\n",
    "\n",
    "# Add calibrated scores to DataFrame\n",
    "# df['calibrated_platt'] = calibrated_platt\n",
    "df['calibrated_isotonic'] = calibrated_isotonic"
   ]
  },
  {
   "cell_type": "code",
   "execution_count": null,
   "id": "fa5e1903",
   "metadata": {},
   "outputs": [],
   "source": [
    "iso_reg.transform([0.0000001])"
   ]
  },
  {
   "cell_type": "code",
   "execution_count": null,
   "id": "7ccf6b48",
   "metadata": {},
   "outputs": [],
   "source": [
    "iso_reg.transform([0.01])"
   ]
  },
  {
   "cell_type": "code",
   "execution_count": null,
   "id": "e5552cea",
   "metadata": {},
   "outputs": [],
   "source": [
    "iso_reg.transform([0.1])"
   ]
  },
  {
   "cell_type": "code",
   "execution_count": null,
   "id": "65d3eacb",
   "metadata": {},
   "outputs": [],
   "source": [
    "df.tail()"
   ]
  },
  {
   "cell_type": "code",
   "execution_count": null,
   "id": "0fa2f02d",
   "metadata": {},
   "outputs": [],
   "source": [
    "df['bin'] = (np.arange(len(df)) // 10)\n",
    "df.head()"
   ]
  },
  {
   "cell_type": "code",
   "execution_count": null,
   "id": "734ae9de",
   "metadata": {},
   "outputs": [],
   "source": [
    "bin_averages = df.groupby('bin').agg({\n",
    "    'video_lang': 'mean',\n",
    "#     'calibrated_platt': 'mean',    \n",
    "    'calibrated_isotonic': 'mean',\n",
    "    f'__label__{lang}': 'mean',}).reset_index()\n",
    "bin_averages"
   ]
  },
  {
   "cell_type": "code",
   "execution_count": null,
   "id": "44281841",
   "metadata": {},
   "outputs": [],
   "source": [
    "import matplotlib.pyplot as plt\n",
    "\n",
    "# Use your DataFrame\n",
    "# df = your DataFrame with columns: 'calibrated_isotonic', 'label_arb_Arab'\n",
    "\n",
    "plt.figure(figsize=(6, 6))\n",
    "plt.plot(bin_averages[\"calibrated_isotonic\"], bin_averages[f\"video_lang\"], \"s-\", label=\"Isotonic calibrated\")\n",
    "plt.plot([0, 1], [0, 1], \"k--\", label=\"Perfect calibration\")\n",
    "plt.xlabel(\"Mean predicted probability (bin average)\")\n",
    "plt.ylabel(\"Fraction of positives\")\n",
    "plt.title(\"Calibration Curve (Isotonic)\")\n",
    "plt.legend()\n",
    "plt.grid(True)\n",
    "plt.tight_layout()\n",
    "plt.show()\n"
   ]
  },
  {
   "cell_type": "code",
   "execution_count": null,
   "id": "321d2aa7",
   "metadata": {},
   "outputs": [],
   "source": [
    "# Save the model\n",
    "joblib.dump(iso_reg, f'/home/manuel/Documents/oii/moderation_workforce/data/calibration_fasttext/youtube/calibration_models/isotonic_regression_model_{lang}.joblib')"
   ]
  },
  {
   "cell_type": "code",
   "execution_count": null,
   "id": "ea1340d2",
   "metadata": {},
   "outputs": [],
   "source": []
  },
  {
   "cell_type": "markdown",
   "id": "8f482a3c",
   "metadata": {},
   "source": [
    "## nld_Latn"
   ]
  },
  {
   "cell_type": "code",
   "execution_count": null,
   "id": "74224e52",
   "metadata": {},
   "outputs": [],
   "source": [
    "lang = 'nld_Latn'"
   ]
  },
  {
   "cell_type": "code",
   "execution_count": null,
   "id": "1973ada5",
   "metadata": {},
   "outputs": [],
   "source": [
    "df = pd.read_csv(f'/home/manuel/Documents/oii/moderation_workforce/data/calibration_fasttext/youtube/samples_annotated/calibration_fasttext_youtube - {lang}.csv')\n",
    "df.head()"
   ]
  },
  {
   "cell_type": "code",
   "execution_count": null,
   "id": "14934151",
   "metadata": {},
   "outputs": [],
   "source": [
    "df['video_lang'].value_counts(dropna=False)"
   ]
  },
  {
   "cell_type": "code",
   "execution_count": null,
   "id": "88009135",
   "metadata": {},
   "outputs": [],
   "source": [
    "df = df.loc[~df['video_lang'].isnull()]\n",
    "df.head()"
   ]
  },
  {
   "cell_type": "code",
   "execution_count": null,
   "id": "071e4130",
   "metadata": {},
   "outputs": [],
   "source": []
  },
  {
   "cell_type": "code",
   "execution_count": null,
   "id": "0d230e76",
   "metadata": {},
   "outputs": [],
   "source": [
    "df['video_lang'] = df['video_lang'].astype(float)"
   ]
  },
  {
   "cell_type": "code",
   "execution_count": null,
   "id": "20d182d2",
   "metadata": {},
   "outputs": [],
   "source": [
    "import numpy as np\n",
    "import pandas as pd\n",
    "from sklearn.isotonic import IsotonicRegression\n",
    "from sklearn.linear_model import LogisticRegression\n",
    "\n",
    "# Assuming df with columns 'label_deu' (raw scores) and 'class' (binary labels)\n",
    "\n",
    "X = df[f'__label__{lang}'].values.reshape(-1, 1)  # raw model scores (e.g., predicted probs or logits)\n",
    "y = df['video_lang'].values                     # true binary labels (0/1)\n",
    "\n",
    "# # Fit Platt scaling logistic regression on the raw scores\n",
    "# platt_scaler = LogisticRegression(solver='lbfgs')  # default params are fine\n",
    "# platt_scaler.fit(X, y)\n",
    "\n",
    "# # Predict calibrated probabilities using Platt scaling\n",
    "# calibrated_platt = platt_scaler.predict_proba(X)[:, 1]\n",
    "\n",
    "# Fit isotonic regression calibration (for comparison)\n",
    "iso_reg = IsotonicRegression(out_of_bounds='clip')\n",
    "calibrated_isotonic = iso_reg.fit_transform(df[f'__label__{lang}'], y)\n",
    "\n",
    "# Add calibrated scores to DataFrame\n",
    "# df['calibrated_platt'] = calibrated_platt\n",
    "df['calibrated_isotonic'] = calibrated_isotonic"
   ]
  },
  {
   "cell_type": "code",
   "execution_count": null,
   "id": "4b803a0b",
   "metadata": {},
   "outputs": [],
   "source": [
    "iso_reg.transform([0.0000001])"
   ]
  },
  {
   "cell_type": "code",
   "execution_count": null,
   "id": "1fbd630d",
   "metadata": {},
   "outputs": [],
   "source": [
    "iso_reg.transform([0.01])"
   ]
  },
  {
   "cell_type": "code",
   "execution_count": null,
   "id": "67a656ce",
   "metadata": {},
   "outputs": [],
   "source": [
    "iso_reg.transform([0.1])"
   ]
  },
  {
   "cell_type": "code",
   "execution_count": null,
   "id": "4230a5a8",
   "metadata": {},
   "outputs": [],
   "source": [
    "df.tail()"
   ]
  },
  {
   "cell_type": "code",
   "execution_count": null,
   "id": "c142639d",
   "metadata": {},
   "outputs": [],
   "source": [
    "df['bin'] = (np.arange(len(df)) // 10)\n",
    "df.head()"
   ]
  },
  {
   "cell_type": "code",
   "execution_count": null,
   "id": "9cc9e589",
   "metadata": {},
   "outputs": [],
   "source": [
    "bin_averages = df.groupby('bin').agg({\n",
    "    'video_lang': 'mean',\n",
    "#     'calibrated_platt': 'mean',    \n",
    "    'calibrated_isotonic': 'mean',\n",
    "    f'__label__{lang}': 'mean',}).reset_index()\n",
    "bin_averages"
   ]
  },
  {
   "cell_type": "code",
   "execution_count": null,
   "id": "5af06bc3",
   "metadata": {},
   "outputs": [],
   "source": [
    "import matplotlib.pyplot as plt\n",
    "\n",
    "# Use your DataFrame\n",
    "# df = your DataFrame with columns: 'calibrated_isotonic', 'label_arb_Arab'\n",
    "\n",
    "plt.figure(figsize=(6, 6))\n",
    "plt.plot(bin_averages[\"calibrated_isotonic\"], bin_averages[f\"video_lang\"], \"s-\", label=\"Isotonic calibrated\")\n",
    "plt.plot([0, 1], [0, 1], \"k--\", label=\"Perfect calibration\")\n",
    "plt.xlabel(\"Mean predicted probability (bin average)\")\n",
    "plt.ylabel(\"Fraction of positives\")\n",
    "plt.title(\"Calibration Curve (Isotonic)\")\n",
    "plt.legend()\n",
    "plt.grid(True)\n",
    "plt.tight_layout()\n",
    "plt.show()\n"
   ]
  },
  {
   "cell_type": "code",
   "execution_count": null,
   "id": "a9e9d927",
   "metadata": {},
   "outputs": [],
   "source": [
    "# Save the model\n",
    "joblib.dump(iso_reg, f'/home/manuel/Documents/oii/moderation_workforce/data/calibration_fasttext/youtube/calibration_models/isotonic_regression_model_{lang}.joblib')"
   ]
  },
  {
   "cell_type": "code",
   "execution_count": null,
   "id": "a7c427c8",
   "metadata": {},
   "outputs": [],
   "source": []
  },
  {
   "cell_type": "markdown",
   "id": "fe9e37c6",
   "metadata": {},
   "source": [
    "## est_Latn"
   ]
  },
  {
   "cell_type": "code",
   "execution_count": null,
   "id": "56cca13b",
   "metadata": {},
   "outputs": [],
   "source": [
    "lang = 'est_Latn'"
   ]
  },
  {
   "cell_type": "code",
   "execution_count": null,
   "id": "d0447350",
   "metadata": {},
   "outputs": [],
   "source": [
    "df = pd.read_csv(f'/home/manuel/Documents/oii/moderation_workforce/data/calibration_fasttext/youtube/samples_annotated/calibration_fasttext_youtube - {lang}.csv')\n",
    "df.head()"
   ]
  },
  {
   "cell_type": "code",
   "execution_count": null,
   "id": "a0911e96",
   "metadata": {},
   "outputs": [],
   "source": [
    "df['video_lang'].value_counts(dropna=False)"
   ]
  },
  {
   "cell_type": "code",
   "execution_count": null,
   "id": "40205f92",
   "metadata": {},
   "outputs": [],
   "source": [
    "df = df.loc[~df['video_lang'].isnull()]\n",
    "df.head()"
   ]
  },
  {
   "cell_type": "code",
   "execution_count": null,
   "id": "65feb7b3",
   "metadata": {},
   "outputs": [],
   "source": []
  },
  {
   "cell_type": "code",
   "execution_count": null,
   "id": "ceff02e7",
   "metadata": {},
   "outputs": [],
   "source": [
    "df['video_lang'] = df['video_lang'].astype(float)"
   ]
  },
  {
   "cell_type": "code",
   "execution_count": null,
   "id": "4fea431a",
   "metadata": {},
   "outputs": [],
   "source": [
    "import numpy as np\n",
    "import pandas as pd\n",
    "from sklearn.isotonic import IsotonicRegression\n",
    "from sklearn.linear_model import LogisticRegression\n",
    "\n",
    "# Assuming df with columns 'label_deu' (raw scores) and 'class' (binary labels)\n",
    "\n",
    "X = df[f'__label__{lang}'].values.reshape(-1, 1)  # raw model scores (e.g., predicted probs or logits)\n",
    "y = df['video_lang'].values                     # true binary labels (0/1)\n",
    "\n",
    "# # Fit Platt scaling logistic regression on the raw scores\n",
    "# platt_scaler = LogisticRegression(solver='lbfgs')  # default params are fine\n",
    "# platt_scaler.fit(X, y)\n",
    "\n",
    "# # Predict calibrated probabilities using Platt scaling\n",
    "# calibrated_platt = platt_scaler.predict_proba(X)[:, 1]\n",
    "\n",
    "# Fit isotonic regression calibration (for comparison)\n",
    "iso_reg = IsotonicRegression(out_of_bounds='clip')\n",
    "calibrated_isotonic = iso_reg.fit_transform(df[f'__label__{lang}'], y)\n",
    "\n",
    "# Add calibrated scores to DataFrame\n",
    "# df['calibrated_platt'] = calibrated_platt\n",
    "df['calibrated_isotonic'] = calibrated_isotonic"
   ]
  },
  {
   "cell_type": "code",
   "execution_count": null,
   "id": "00a2095f",
   "metadata": {},
   "outputs": [],
   "source": [
    "iso_reg.transform([0.0000001])"
   ]
  },
  {
   "cell_type": "code",
   "execution_count": null,
   "id": "e56ae65a",
   "metadata": {},
   "outputs": [],
   "source": [
    "iso_reg.transform([0.01])"
   ]
  },
  {
   "cell_type": "code",
   "execution_count": null,
   "id": "dfb253f6",
   "metadata": {},
   "outputs": [],
   "source": [
    "iso_reg.transform([0.1])"
   ]
  },
  {
   "cell_type": "code",
   "execution_count": null,
   "id": "bc2b3fba",
   "metadata": {},
   "outputs": [],
   "source": [
    "df.tail()"
   ]
  },
  {
   "cell_type": "code",
   "execution_count": null,
   "id": "06856a89",
   "metadata": {},
   "outputs": [],
   "source": [
    "df['bin'] = (np.arange(len(df)) // 10)\n",
    "df.head()"
   ]
  },
  {
   "cell_type": "code",
   "execution_count": null,
   "id": "a941f25b",
   "metadata": {},
   "outputs": [],
   "source": [
    "bin_averages = df.groupby('bin').agg({\n",
    "    'video_lang': 'mean',\n",
    "#     'calibrated_platt': 'mean',    \n",
    "    'calibrated_isotonic': 'mean',\n",
    "    f'__label__{lang}': 'mean',}).reset_index()\n",
    "bin_averages"
   ]
  },
  {
   "cell_type": "code",
   "execution_count": null,
   "id": "81abf43c",
   "metadata": {},
   "outputs": [],
   "source": [
    "import matplotlib.pyplot as plt\n",
    "\n",
    "# Use your DataFrame\n",
    "# df = your DataFrame with columns: 'calibrated_isotonic', 'label_arb_Arab'\n",
    "\n",
    "plt.figure(figsize=(6, 6))\n",
    "plt.plot(bin_averages[\"calibrated_isotonic\"], bin_averages[f\"video_lang\"], \"s-\", label=\"Isotonic calibrated\")\n",
    "plt.plot([0, 1], [0, 1], \"k--\", label=\"Perfect calibration\")\n",
    "plt.xlabel(\"Mean predicted probability (bin average)\")\n",
    "plt.ylabel(\"Fraction of positives\")\n",
    "plt.title(\"Calibration Curve (Isotonic)\")\n",
    "plt.legend()\n",
    "plt.grid(True)\n",
    "plt.tight_layout()\n",
    "plt.show()\n"
   ]
  },
  {
   "cell_type": "code",
   "execution_count": null,
   "id": "bed56fa4",
   "metadata": {},
   "outputs": [],
   "source": [
    "# Save the model\n",
    "joblib.dump(iso_reg, f'/home/manuel/Documents/oii/moderation_workforce/data/calibration_fasttext/youtube/calibration_models/isotonic_regression_model_{lang}.joblib')"
   ]
  },
  {
   "cell_type": "code",
   "execution_count": null,
   "id": "33e83a56",
   "metadata": {},
   "outputs": [],
   "source": []
  },
  {
   "cell_type": "markdown",
   "id": "1e852d3a",
   "metadata": {},
   "source": [
    "## ita_Latn"
   ]
  },
  {
   "cell_type": "code",
   "execution_count": null,
   "id": "b55bf89e",
   "metadata": {},
   "outputs": [],
   "source": [
    "lang = 'ita_Latn'"
   ]
  },
  {
   "cell_type": "code",
   "execution_count": null,
   "id": "61bab00d",
   "metadata": {},
   "outputs": [],
   "source": [
    "df = pd.read_csv(f'/home/manuel/Documents/oii/moderation_workforce/data/calibration_fasttext/youtube/samples_annotated/calibration_fasttext_youtube - {lang}.csv')\n",
    "df.head()"
   ]
  },
  {
   "cell_type": "code",
   "execution_count": null,
   "id": "babc9de5",
   "metadata": {},
   "outputs": [],
   "source": [
    "df['video_lang'].value_counts(dropna=False)"
   ]
  },
  {
   "cell_type": "code",
   "execution_count": null,
   "id": "c308c46a",
   "metadata": {},
   "outputs": [],
   "source": [
    "df = df.loc[~df['video_lang'].isnull()]\n",
    "df.head()"
   ]
  },
  {
   "cell_type": "code",
   "execution_count": null,
   "id": "dd0f124e",
   "metadata": {},
   "outputs": [],
   "source": []
  },
  {
   "cell_type": "code",
   "execution_count": null,
   "id": "27d1004a",
   "metadata": {},
   "outputs": [],
   "source": [
    "df['video_lang'] = df['video_lang'].astype(float)"
   ]
  },
  {
   "cell_type": "code",
   "execution_count": null,
   "id": "5d85f537",
   "metadata": {},
   "outputs": [],
   "source": [
    "import numpy as np\n",
    "import pandas as pd\n",
    "from sklearn.isotonic import IsotonicRegression\n",
    "from sklearn.linear_model import LogisticRegression\n",
    "\n",
    "# Assuming df with columns 'label_deu' (raw scores) and 'class' (binary labels)\n",
    "\n",
    "X = df[f'__label__{lang}'].values.reshape(-1, 1)  # raw model scores (e.g., predicted probs or logits)\n",
    "y = df['video_lang'].values                     # true binary labels (0/1)\n",
    "\n",
    "# # Fit Platt scaling logistic regression on the raw scores\n",
    "# platt_scaler = LogisticRegression(solver='lbfgs')  # default params are fine\n",
    "# platt_scaler.fit(X, y)\n",
    "\n",
    "# # Predict calibrated probabilities using Platt scaling\n",
    "# calibrated_platt = platt_scaler.predict_proba(X)[:, 1]\n",
    "\n",
    "# Fit isotonic regression calibration (for comparison)\n",
    "iso_reg = IsotonicRegression(out_of_bounds='clip')\n",
    "calibrated_isotonic = iso_reg.fit_transform(df[f'__label__{lang}'], y)\n",
    "\n",
    "# Add calibrated scores to DataFrame\n",
    "# df['calibrated_platt'] = calibrated_platt\n",
    "df['calibrated_isotonic'] = calibrated_isotonic"
   ]
  },
  {
   "cell_type": "code",
   "execution_count": null,
   "id": "6b2ad63b",
   "metadata": {},
   "outputs": [],
   "source": [
    "iso_reg.transform([0.0000001])"
   ]
  },
  {
   "cell_type": "code",
   "execution_count": null,
   "id": "581445fb",
   "metadata": {},
   "outputs": [],
   "source": [
    "iso_reg.transform([0.01])"
   ]
  },
  {
   "cell_type": "code",
   "execution_count": null,
   "id": "ec582d68",
   "metadata": {},
   "outputs": [],
   "source": [
    "iso_reg.transform([0.1])"
   ]
  },
  {
   "cell_type": "code",
   "execution_count": null,
   "id": "d5f4ae39",
   "metadata": {},
   "outputs": [],
   "source": [
    "df.tail()"
   ]
  },
  {
   "cell_type": "code",
   "execution_count": null,
   "id": "707544b4",
   "metadata": {},
   "outputs": [],
   "source": [
    "df['bin'] = (np.arange(len(df)) // 10)\n",
    "df.head()"
   ]
  },
  {
   "cell_type": "code",
   "execution_count": null,
   "id": "ec810ed6",
   "metadata": {},
   "outputs": [],
   "source": [
    "bin_averages = df.groupby('bin').agg({\n",
    "    'video_lang': 'mean',\n",
    "#     'calibrated_platt': 'mean',    \n",
    "    'calibrated_isotonic': 'mean',\n",
    "    f'__label__{lang}': 'mean',}).reset_index()\n",
    "bin_averages"
   ]
  },
  {
   "cell_type": "code",
   "execution_count": null,
   "id": "b5f6208c",
   "metadata": {},
   "outputs": [],
   "source": [
    "import matplotlib.pyplot as plt\n",
    "\n",
    "# Use your DataFrame\n",
    "# df = your DataFrame with columns: 'calibrated_isotonic', 'label_arb_Arab'\n",
    "\n",
    "plt.figure(figsize=(6, 6))\n",
    "plt.plot(bin_averages[\"calibrated_isotonic\"], bin_averages[f\"video_lang\"], \"s-\", label=\"Isotonic calibrated\")\n",
    "plt.plot([0, 1], [0, 1], \"k--\", label=\"Perfect calibration\")\n",
    "plt.xlabel(\"Mean predicted probability (bin average)\")\n",
    "plt.ylabel(\"Fraction of positives\")\n",
    "plt.title(\"Calibration Curve (Isotonic)\")\n",
    "plt.legend()\n",
    "plt.grid(True)\n",
    "plt.tight_layout()\n",
    "plt.show()\n"
   ]
  },
  {
   "cell_type": "code",
   "execution_count": null,
   "id": "7df3addf",
   "metadata": {},
   "outputs": [],
   "source": [
    "# Save the model\n",
    "joblib.dump(iso_reg, f'/home/manuel/Documents/oii/moderation_workforce/data/calibration_fasttext/youtube/calibration_models/isotonic_regression_model_{lang}.joblib')"
   ]
  },
  {
   "cell_type": "code",
   "execution_count": null,
   "id": "61c80f1f",
   "metadata": {},
   "outputs": [],
   "source": []
  },
  {
   "cell_type": "markdown",
   "id": "39b0c1c4",
   "metadata": {},
   "source": [
    "## lvs_Latn"
   ]
  },
  {
   "cell_type": "code",
   "execution_count": null,
   "id": "0837cc96",
   "metadata": {},
   "outputs": [],
   "source": [
    "lang = 'lvs_Latn'"
   ]
  },
  {
   "cell_type": "code",
   "execution_count": null,
   "id": "9dc5851b",
   "metadata": {},
   "outputs": [],
   "source": [
    "df = pd.read_csv(f'/home/manuel/Documents/oii/moderation_workforce/data/calibration_fasttext/youtube/samples_annotated/calibration_fasttext_youtube - {lang}.csv')\n",
    "df.head()"
   ]
  },
  {
   "cell_type": "code",
   "execution_count": null,
   "id": "71b0e790",
   "metadata": {},
   "outputs": [],
   "source": [
    "df['video_lang'].value_counts(dropna=False)"
   ]
  },
  {
   "cell_type": "code",
   "execution_count": null,
   "id": "fe98c984",
   "metadata": {},
   "outputs": [],
   "source": [
    "df = df.loc[~df['video_lang'].isnull()]\n",
    "df.head()"
   ]
  },
  {
   "cell_type": "code",
   "execution_count": null,
   "id": "c530ccdb",
   "metadata": {},
   "outputs": [],
   "source": []
  },
  {
   "cell_type": "code",
   "execution_count": null,
   "id": "014fefdf",
   "metadata": {},
   "outputs": [],
   "source": [
    "df['video_lang'] = df['video_lang'].astype(float)"
   ]
  },
  {
   "cell_type": "code",
   "execution_count": null,
   "id": "1cdd7723",
   "metadata": {},
   "outputs": [],
   "source": [
    "import numpy as np\n",
    "import pandas as pd\n",
    "from sklearn.isotonic import IsotonicRegression\n",
    "from sklearn.linear_model import LogisticRegression\n",
    "\n",
    "# Assuming df with columns 'label_deu' (raw scores) and 'class' (binary labels)\n",
    "\n",
    "X = df[f'__label__{lang}'].values.reshape(-1, 1)  # raw model scores (e.g., predicted probs or logits)\n",
    "y = df['video_lang'].values                     # true binary labels (0/1)\n",
    "\n",
    "# # Fit Platt scaling logistic regression on the raw scores\n",
    "# platt_scaler = LogisticRegression(solver='lbfgs')  # default params are fine\n",
    "# platt_scaler.fit(X, y)\n",
    "\n",
    "# # Predict calibrated probabilities using Platt scaling\n",
    "# calibrated_platt = platt_scaler.predict_proba(X)[:, 1]\n",
    "\n",
    "# Fit isotonic regression calibration (for comparison)\n",
    "iso_reg = IsotonicRegression(out_of_bounds='clip')\n",
    "calibrated_isotonic = iso_reg.fit_transform(df[f'__label__{lang}'], y)\n",
    "\n",
    "# Add calibrated scores to DataFrame\n",
    "# df['calibrated_platt'] = calibrated_platt\n",
    "df['calibrated_isotonic'] = calibrated_isotonic"
   ]
  },
  {
   "cell_type": "code",
   "execution_count": null,
   "id": "dfff8f12",
   "metadata": {},
   "outputs": [],
   "source": [
    "iso_reg.transform([0.0000001])"
   ]
  },
  {
   "cell_type": "code",
   "execution_count": null,
   "id": "11d0bd23",
   "metadata": {},
   "outputs": [],
   "source": [
    "iso_reg.transform([0.01])"
   ]
  },
  {
   "cell_type": "code",
   "execution_count": null,
   "id": "794210e5",
   "metadata": {},
   "outputs": [],
   "source": [
    "iso_reg.transform([0.1])"
   ]
  },
  {
   "cell_type": "code",
   "execution_count": null,
   "id": "d6d439c5",
   "metadata": {},
   "outputs": [],
   "source": [
    "df.tail()"
   ]
  },
  {
   "cell_type": "code",
   "execution_count": null,
   "id": "2c3e078b",
   "metadata": {},
   "outputs": [],
   "source": [
    "df['bin'] = (np.arange(len(df)) // 10)\n",
    "df.head()"
   ]
  },
  {
   "cell_type": "code",
   "execution_count": null,
   "id": "96165d08",
   "metadata": {},
   "outputs": [],
   "source": [
    "bin_averages = df.groupby('bin').agg({\n",
    "    'video_lang': 'mean',\n",
    "#     'calibrated_platt': 'mean',    \n",
    "    'calibrated_isotonic': 'mean',\n",
    "    f'__label__{lang}': 'mean',}).reset_index()\n",
    "bin_averages"
   ]
  },
  {
   "cell_type": "code",
   "execution_count": null,
   "id": "8db8b708",
   "metadata": {},
   "outputs": [],
   "source": [
    "import matplotlib.pyplot as plt\n",
    "\n",
    "# Use your DataFrame\n",
    "# df = your DataFrame with columns: 'calibrated_isotonic', 'label_arb_Arab'\n",
    "\n",
    "plt.figure(figsize=(6, 6))\n",
    "plt.plot(bin_averages[\"calibrated_isotonic\"], bin_averages[f\"video_lang\"], \"s-\", label=\"Isotonic calibrated\")\n",
    "plt.plot([0, 1], [0, 1], \"k--\", label=\"Perfect calibration\")\n",
    "plt.xlabel(\"Mean predicted probability (bin average)\")\n",
    "plt.ylabel(\"Fraction of positives\")\n",
    "plt.title(\"Calibration Curve (Isotonic)\")\n",
    "plt.legend()\n",
    "plt.grid(True)\n",
    "plt.tight_layout()\n",
    "plt.show()\n"
   ]
  },
  {
   "cell_type": "code",
   "execution_count": null,
   "id": "4bb13231",
   "metadata": {},
   "outputs": [],
   "source": [
    "# Save the model\n",
    "joblib.dump(iso_reg, f'/home/manuel/Documents/oii/moderation_workforce/data/calibration_fasttext/youtube/calibration_models/isotonic_regression_model_{lang}.joblib')"
   ]
  },
  {
   "cell_type": "code",
   "execution_count": null,
   "id": "42a7ff91",
   "metadata": {},
   "outputs": [],
   "source": []
  },
  {
   "cell_type": "markdown",
   "id": "a57d460d",
   "metadata": {},
   "source": [
    "## lit_Latn"
   ]
  },
  {
   "cell_type": "code",
   "execution_count": null,
   "id": "e529ba6b",
   "metadata": {},
   "outputs": [],
   "source": [
    "lang = 'lit_Latn'"
   ]
  },
  {
   "cell_type": "code",
   "execution_count": null,
   "id": "fd55b19d",
   "metadata": {},
   "outputs": [],
   "source": [
    "df = pd.read_csv(f'/home/manuel/Documents/oii/moderation_workforce/data/calibration_fasttext/youtube/samples_annotated/calibration_fasttext_youtube - {lang}.csv')\n",
    "df.head()"
   ]
  },
  {
   "cell_type": "code",
   "execution_count": null,
   "id": "7382ef07",
   "metadata": {},
   "outputs": [],
   "source": [
    "df['video_lang'].value_counts(dropna=False)"
   ]
  },
  {
   "cell_type": "code",
   "execution_count": null,
   "id": "7b9dd449",
   "metadata": {},
   "outputs": [],
   "source": [
    "df = df.loc[~df['video_lang'].isnull()]\n",
    "df.head()"
   ]
  },
  {
   "cell_type": "code",
   "execution_count": null,
   "id": "e8160853",
   "metadata": {},
   "outputs": [],
   "source": []
  },
  {
   "cell_type": "code",
   "execution_count": null,
   "id": "3e8d1b95",
   "metadata": {},
   "outputs": [],
   "source": [
    "df['video_lang'] = df['video_lang'].astype(float)"
   ]
  },
  {
   "cell_type": "code",
   "execution_count": null,
   "id": "d9e548f5",
   "metadata": {},
   "outputs": [],
   "source": [
    "import numpy as np\n",
    "import pandas as pd\n",
    "from sklearn.isotonic import IsotonicRegression\n",
    "from sklearn.linear_model import LogisticRegression\n",
    "\n",
    "# Assuming df with columns 'label_deu' (raw scores) and 'class' (binary labels)\n",
    "\n",
    "X = df[f'__label__{lang}'].values.reshape(-1, 1)  # raw model scores (e.g., predicted probs or logits)\n",
    "y = df['video_lang'].values                     # true binary labels (0/1)\n",
    "\n",
    "# # Fit Platt scaling logistic regression on the raw scores\n",
    "# platt_scaler = LogisticRegression(solver='lbfgs')  # default params are fine\n",
    "# platt_scaler.fit(X, y)\n",
    "\n",
    "# # Predict calibrated probabilities using Platt scaling\n",
    "# calibrated_platt = platt_scaler.predict_proba(X)[:, 1]\n",
    "\n",
    "# Fit isotonic regression calibration (for comparison)\n",
    "iso_reg = IsotonicRegression(out_of_bounds='clip')\n",
    "calibrated_isotonic = iso_reg.fit_transform(df[f'__label__{lang}'], y)\n",
    "\n",
    "# Add calibrated scores to DataFrame\n",
    "# df['calibrated_platt'] = calibrated_platt\n",
    "df['calibrated_isotonic'] = calibrated_isotonic"
   ]
  },
  {
   "cell_type": "code",
   "execution_count": null,
   "id": "314614d2",
   "metadata": {},
   "outputs": [],
   "source": [
    "iso_reg.transform([0.0000001])"
   ]
  },
  {
   "cell_type": "code",
   "execution_count": null,
   "id": "7b264f43",
   "metadata": {},
   "outputs": [],
   "source": [
    "iso_reg.transform([0.01])"
   ]
  },
  {
   "cell_type": "code",
   "execution_count": null,
   "id": "292932f7",
   "metadata": {},
   "outputs": [],
   "source": [
    "iso_reg.transform([0.1])"
   ]
  },
  {
   "cell_type": "code",
   "execution_count": null,
   "id": "f7061015",
   "metadata": {},
   "outputs": [],
   "source": [
    "df.tail()"
   ]
  },
  {
   "cell_type": "code",
   "execution_count": null,
   "id": "2b3c3c5d",
   "metadata": {},
   "outputs": [],
   "source": [
    "df['bin'] = (np.arange(len(df)) // 10)\n",
    "df.head()"
   ]
  },
  {
   "cell_type": "code",
   "execution_count": null,
   "id": "a0df93b2",
   "metadata": {},
   "outputs": [],
   "source": [
    "bin_averages = df.groupby('bin').agg({\n",
    "    'video_lang': 'mean',\n",
    "#     'calibrated_platt': 'mean',    \n",
    "    'calibrated_isotonic': 'mean',\n",
    "    f'__label__{lang}': 'mean',}).reset_index()\n",
    "bin_averages"
   ]
  },
  {
   "cell_type": "code",
   "execution_count": null,
   "id": "f296c7fa",
   "metadata": {},
   "outputs": [],
   "source": [
    "import matplotlib.pyplot as plt\n",
    "\n",
    "# Use your DataFrame\n",
    "# df = your DataFrame with columns: 'calibrated_isotonic', 'label_arb_Arab'\n",
    "\n",
    "plt.figure(figsize=(6, 6))\n",
    "plt.plot(bin_averages[\"calibrated_isotonic\"], bin_averages[f\"video_lang\"], \"s-\", label=\"Isotonic calibrated\")\n",
    "plt.plot([0, 1], [0, 1], \"k--\", label=\"Perfect calibration\")\n",
    "plt.xlabel(\"Mean predicted probability (bin average)\")\n",
    "plt.ylabel(\"Fraction of positives\")\n",
    "plt.title(\"Calibration Curve (Isotonic)\")\n",
    "plt.legend()\n",
    "plt.grid(True)\n",
    "plt.tight_layout()\n",
    "plt.show()\n"
   ]
  },
  {
   "cell_type": "code",
   "execution_count": null,
   "id": "65ac2905",
   "metadata": {},
   "outputs": [],
   "source": [
    "# Save the model\n",
    "joblib.dump(iso_reg, f'/home/manuel/Documents/oii/moderation_workforce/data/calibration_fasttext/youtube/calibration_models/isotonic_regression_model_{lang}.joblib')"
   ]
  },
  {
   "cell_type": "code",
   "execution_count": null,
   "id": "92b8ef7b",
   "metadata": {},
   "outputs": [],
   "source": []
  },
  {
   "cell_type": "markdown",
   "id": "8bb3c330",
   "metadata": {},
   "source": [
    "## pol_Latn"
   ]
  },
  {
   "cell_type": "code",
   "execution_count": null,
   "id": "a350f00e",
   "metadata": {},
   "outputs": [],
   "source": [
    "lang = 'pol_Latn'"
   ]
  },
  {
   "cell_type": "code",
   "execution_count": null,
   "id": "5b188993",
   "metadata": {},
   "outputs": [],
   "source": [
    "df = pd.read_csv(f'/home/manuel/Documents/oii/moderation_workforce/data/calibration_fasttext/youtube/samples_annotated/calibration_fasttext_youtube - {lang}.csv')\n",
    "df.head()"
   ]
  },
  {
   "cell_type": "code",
   "execution_count": null,
   "id": "cbdda40e",
   "metadata": {},
   "outputs": [],
   "source": [
    "df['video_lang'].value_counts(dropna=False)"
   ]
  },
  {
   "cell_type": "code",
   "execution_count": null,
   "id": "9e798b10",
   "metadata": {},
   "outputs": [],
   "source": [
    "df = df.loc[~df['video_lang'].isnull()]\n",
    "df.head()"
   ]
  },
  {
   "cell_type": "code",
   "execution_count": null,
   "id": "2c3dd2dd",
   "metadata": {},
   "outputs": [],
   "source": []
  },
  {
   "cell_type": "code",
   "execution_count": null,
   "id": "7cec4452",
   "metadata": {},
   "outputs": [],
   "source": [
    "df['video_lang'] = df['video_lang'].astype(float)"
   ]
  },
  {
   "cell_type": "code",
   "execution_count": null,
   "id": "f2f00e11",
   "metadata": {},
   "outputs": [],
   "source": [
    "import numpy as np\n",
    "import pandas as pd\n",
    "from sklearn.isotonic import IsotonicRegression\n",
    "from sklearn.linear_model import LogisticRegression\n",
    "\n",
    "# Assuming df with columns 'label_deu' (raw scores) and 'class' (binary labels)\n",
    "\n",
    "X = df[f'__label__{lang}'].values.reshape(-1, 1)  # raw model scores (e.g., predicted probs or logits)\n",
    "y = df['video_lang'].values                     # true binary labels (0/1)\n",
    "\n",
    "# # Fit Platt scaling logistic regression on the raw scores\n",
    "# platt_scaler = LogisticRegression(solver='lbfgs')  # default params are fine\n",
    "# platt_scaler.fit(X, y)\n",
    "\n",
    "# # Predict calibrated probabilities using Platt scaling\n",
    "# calibrated_platt = platt_scaler.predict_proba(X)[:, 1]\n",
    "\n",
    "# Fit isotonic regression calibration (for comparison)\n",
    "iso_reg = IsotonicRegression(out_of_bounds='clip')\n",
    "calibrated_isotonic = iso_reg.fit_transform(df[f'__label__{lang}'], y)\n",
    "\n",
    "# Add calibrated scores to DataFrame\n",
    "# df['calibrated_platt'] = calibrated_platt\n",
    "df['calibrated_isotonic'] = calibrated_isotonic"
   ]
  },
  {
   "cell_type": "code",
   "execution_count": null,
   "id": "8f7f27e9",
   "metadata": {},
   "outputs": [],
   "source": [
    "iso_reg.transform([0.0000001])"
   ]
  },
  {
   "cell_type": "code",
   "execution_count": null,
   "id": "83b1d0af",
   "metadata": {},
   "outputs": [],
   "source": [
    "iso_reg.transform([0.01])"
   ]
  },
  {
   "cell_type": "code",
   "execution_count": null,
   "id": "f1753ac4",
   "metadata": {},
   "outputs": [],
   "source": [
    "iso_reg.transform([0.1])"
   ]
  },
  {
   "cell_type": "code",
   "execution_count": null,
   "id": "6fdfff69",
   "metadata": {},
   "outputs": [],
   "source": [
    "df.tail()"
   ]
  },
  {
   "cell_type": "code",
   "execution_count": null,
   "id": "31e4ec6b",
   "metadata": {},
   "outputs": [],
   "source": [
    "df['bin'] = (np.arange(len(df)) // 10)\n",
    "df.head()"
   ]
  },
  {
   "cell_type": "code",
   "execution_count": null,
   "id": "d816f716",
   "metadata": {},
   "outputs": [],
   "source": [
    "bin_averages = df.groupby('bin').agg({\n",
    "    'video_lang': 'mean',\n",
    "#     'calibrated_platt': 'mean',    \n",
    "    'calibrated_isotonic': 'mean',\n",
    "    f'__label__{lang}': 'mean',}).reset_index()\n",
    "bin_averages"
   ]
  },
  {
   "cell_type": "code",
   "execution_count": null,
   "id": "89b15937",
   "metadata": {},
   "outputs": [],
   "source": [
    "import matplotlib.pyplot as plt\n",
    "\n",
    "# Use your DataFrame\n",
    "# df = your DataFrame with columns: 'calibrated_isotonic', 'label_arb_Arab'\n",
    "\n",
    "plt.figure(figsize=(6, 6))\n",
    "plt.plot(bin_averages[\"calibrated_isotonic\"], bin_averages[f\"video_lang\"], \"s-\", label=\"Isotonic calibrated\")\n",
    "plt.plot([0, 1], [0, 1], \"k--\", label=\"Perfect calibration\")\n",
    "plt.xlabel(\"Mean predicted probability (bin average)\")\n",
    "plt.ylabel(\"Fraction of positives\")\n",
    "plt.title(\"Calibration Curve (Isotonic)\")\n",
    "plt.legend()\n",
    "plt.grid(True)\n",
    "plt.tight_layout()\n",
    "plt.show()\n"
   ]
  },
  {
   "cell_type": "code",
   "execution_count": null,
   "id": "7716ec59",
   "metadata": {},
   "outputs": [],
   "source": [
    "# Save the model\n",
    "joblib.dump(iso_reg, f'/home/manuel/Documents/oii/moderation_workforce/data/calibration_fasttext/youtube/calibration_models/isotonic_regression_model_{lang}.joblib')"
   ]
  },
  {
   "cell_type": "code",
   "execution_count": null,
   "id": "0c6077a1",
   "metadata": {},
   "outputs": [],
   "source": []
  },
  {
   "cell_type": "markdown",
   "id": "b59f4188",
   "metadata": {},
   "source": [
    "## por_Latn"
   ]
  },
  {
   "cell_type": "code",
   "execution_count": null,
   "id": "b5f18f17",
   "metadata": {},
   "outputs": [],
   "source": [
    "lang = 'por_Latn'"
   ]
  },
  {
   "cell_type": "code",
   "execution_count": null,
   "id": "af0ce763",
   "metadata": {},
   "outputs": [],
   "source": [
    "df = pd.read_csv(f'/home/manuel/Documents/oii/moderation_workforce/data/calibration_fasttext/youtube/samples_annotated/calibration_fasttext_youtube - {lang}.csv')\n",
    "df.head()"
   ]
  },
  {
   "cell_type": "code",
   "execution_count": null,
   "id": "23bff485",
   "metadata": {},
   "outputs": [],
   "source": [
    "df['video_lang'].value_counts(dropna=False)"
   ]
  },
  {
   "cell_type": "code",
   "execution_count": null,
   "id": "d615a6ab",
   "metadata": {},
   "outputs": [],
   "source": [
    "df = df.loc[~df['video_lang'].isnull()]\n",
    "df.head()"
   ]
  },
  {
   "cell_type": "code",
   "execution_count": null,
   "id": "82a3c0b1",
   "metadata": {},
   "outputs": [],
   "source": [
    "df['video_lang'] = df['video_lang'].apply(lambda x: x.replace('0,5', '0.5'))"
   ]
  },
  {
   "cell_type": "code",
   "execution_count": null,
   "id": "92578ffd",
   "metadata": {},
   "outputs": [],
   "source": [
    "df['video_lang'] = df['video_lang'].astype(float)"
   ]
  },
  {
   "cell_type": "code",
   "execution_count": null,
   "id": "c2bb1d35",
   "metadata": {},
   "outputs": [],
   "source": [
    "import numpy as np\n",
    "import pandas as pd\n",
    "from sklearn.isotonic import IsotonicRegression\n",
    "from sklearn.linear_model import LogisticRegression\n",
    "\n",
    "# Assuming df with columns 'label_deu' (raw scores) and 'class' (binary labels)\n",
    "\n",
    "X = df[f'__label__{lang}'].values.reshape(-1, 1)  # raw model scores (e.g., predicted probs or logits)\n",
    "y = df['video_lang'].values                     # true binary labels (0/1)\n",
    "\n",
    "# # Fit Platt scaling logistic regression on the raw scores\n",
    "# platt_scaler = LogisticRegression(solver='lbfgs')  # default params are fine\n",
    "# platt_scaler.fit(X, y)\n",
    "\n",
    "# # Predict calibrated probabilities using Platt scaling\n",
    "# calibrated_platt = platt_scaler.predict_proba(X)[:, 1]\n",
    "\n",
    "# Fit isotonic regression calibration (for comparison)\n",
    "iso_reg = IsotonicRegression(out_of_bounds='clip')\n",
    "calibrated_isotonic = iso_reg.fit_transform(df[f'__label__{lang}'], y)\n",
    "\n",
    "# Add calibrated scores to DataFrame\n",
    "# df['calibrated_platt'] = calibrated_platt\n",
    "df['calibrated_isotonic'] = calibrated_isotonic"
   ]
  },
  {
   "cell_type": "code",
   "execution_count": null,
   "id": "c3e2152f",
   "metadata": {},
   "outputs": [],
   "source": [
    "iso_reg.transform([0.0000001])"
   ]
  },
  {
   "cell_type": "code",
   "execution_count": null,
   "id": "ea47f62b",
   "metadata": {},
   "outputs": [],
   "source": [
    "iso_reg.transform([0.01])"
   ]
  },
  {
   "cell_type": "code",
   "execution_count": null,
   "id": "c7a8a6d0",
   "metadata": {},
   "outputs": [],
   "source": [
    "iso_reg.transform([0.1])"
   ]
  },
  {
   "cell_type": "code",
   "execution_count": null,
   "id": "fa05e17c",
   "metadata": {},
   "outputs": [],
   "source": [
    "df.tail()"
   ]
  },
  {
   "cell_type": "code",
   "execution_count": null,
   "id": "0e6a6ce1",
   "metadata": {},
   "outputs": [],
   "source": [
    "df['bin'] = (np.arange(len(df)) // 10)\n",
    "df.head()"
   ]
  },
  {
   "cell_type": "code",
   "execution_count": null,
   "id": "afb0dc13",
   "metadata": {},
   "outputs": [],
   "source": [
    "bin_averages = df.groupby('bin').agg({\n",
    "    'video_lang': 'mean',\n",
    "#     'calibrated_platt': 'mean',    \n",
    "    'calibrated_isotonic': 'mean',\n",
    "    f'__label__{lang}': 'mean',}).reset_index()\n",
    "bin_averages"
   ]
  },
  {
   "cell_type": "code",
   "execution_count": null,
   "id": "d89cb5d9",
   "metadata": {},
   "outputs": [],
   "source": [
    "import matplotlib.pyplot as plt\n",
    "\n",
    "# Use your DataFrame\n",
    "# df = your DataFrame with columns: 'calibrated_isotonic', 'label_arb_Arab'\n",
    "\n",
    "plt.figure(figsize=(6, 6))\n",
    "plt.plot(bin_averages[\"calibrated_isotonic\"], bin_averages[f\"video_lang\"], \"s-\", label=\"Isotonic calibrated\")\n",
    "plt.plot([0, 1], [0, 1], \"k--\", label=\"Perfect calibration\")\n",
    "plt.xlabel(\"Mean predicted probability (bin average)\")\n",
    "plt.ylabel(\"Fraction of positives\")\n",
    "plt.title(\"Calibration Curve (Isotonic)\")\n",
    "plt.legend()\n",
    "plt.grid(True)\n",
    "plt.tight_layout()\n",
    "plt.show()\n"
   ]
  },
  {
   "cell_type": "code",
   "execution_count": null,
   "id": "aa5999fb",
   "metadata": {},
   "outputs": [],
   "source": [
    "# Save the model\n",
    "joblib.dump(iso_reg, f'/home/manuel/Documents/oii/moderation_workforce/data/calibration_fasttext/youtube/calibration_models/isotonic_regression_model_{lang}.joblib')"
   ]
  },
  {
   "cell_type": "code",
   "execution_count": null,
   "id": "20d35e6b",
   "metadata": {},
   "outputs": [],
   "source": []
  },
  {
   "cell_type": "markdown",
   "id": "63d1462c",
   "metadata": {},
   "source": [
    "## ron_Latn"
   ]
  },
  {
   "cell_type": "code",
   "execution_count": null,
   "id": "4cdf98c7",
   "metadata": {},
   "outputs": [],
   "source": [
    "lang = 'ron_Latn'"
   ]
  },
  {
   "cell_type": "code",
   "execution_count": null,
   "id": "3513aa41",
   "metadata": {},
   "outputs": [],
   "source": [
    "df = pd.read_csv(f'/home/manuel/Documents/oii/moderation_workforce/data/calibration_fasttext/youtube/samples_annotated/calibration_fasttext_youtube - {lang}.csv')\n",
    "df.head()"
   ]
  },
  {
   "cell_type": "code",
   "execution_count": null,
   "id": "c2a4545d",
   "metadata": {},
   "outputs": [],
   "source": [
    "df['video_lang'].value_counts(dropna=False)"
   ]
  },
  {
   "cell_type": "code",
   "execution_count": null,
   "id": "6230332d",
   "metadata": {},
   "outputs": [],
   "source": [
    "df = df.loc[~df['video_lang'].isnull()]\n",
    "df.head()"
   ]
  },
  {
   "cell_type": "code",
   "execution_count": null,
   "id": "7ca6926b",
   "metadata": {},
   "outputs": [],
   "source": [
    "df['video_lang'] = df['video_lang'].astype(float)"
   ]
  },
  {
   "cell_type": "code",
   "execution_count": null,
   "id": "e0a1432f",
   "metadata": {},
   "outputs": [],
   "source": [
    "import numpy as np\n",
    "import pandas as pd\n",
    "from sklearn.isotonic import IsotonicRegression\n",
    "from sklearn.linear_model import LogisticRegression\n",
    "\n",
    "# Assuming df with columns 'label_deu' (raw scores) and 'class' (binary labels)\n",
    "\n",
    "X = df[f'__label__{lang}'].values.reshape(-1, 1)  # raw model scores (e.g., predicted probs or logits)\n",
    "y = df['video_lang'].values                     # true binary labels (0/1)\n",
    "\n",
    "# # Fit Platt scaling logistic regression on the raw scores\n",
    "# platt_scaler = LogisticRegression(solver='lbfgs')  # default params are fine\n",
    "# platt_scaler.fit(X, y)\n",
    "\n",
    "# # Predict calibrated probabilities using Platt scaling\n",
    "# calibrated_platt = platt_scaler.predict_proba(X)[:, 1]\n",
    "\n",
    "# Fit isotonic regression calibration (for comparison)\n",
    "iso_reg = IsotonicRegression(out_of_bounds='clip')\n",
    "calibrated_isotonic = iso_reg.fit_transform(df[f'__label__{lang}'], y)\n",
    "\n",
    "# Add calibrated scores to DataFrame\n",
    "# df['calibrated_platt'] = calibrated_platt\n",
    "df['calibrated_isotonic'] = calibrated_isotonic"
   ]
  },
  {
   "cell_type": "code",
   "execution_count": null,
   "id": "f855a08e",
   "metadata": {},
   "outputs": [],
   "source": [
    "iso_reg.transform([0.0000001])"
   ]
  },
  {
   "cell_type": "code",
   "execution_count": null,
   "id": "4d04bfa1",
   "metadata": {},
   "outputs": [],
   "source": [
    "iso_reg.transform([0.01])"
   ]
  },
  {
   "cell_type": "code",
   "execution_count": null,
   "id": "1d547c3f",
   "metadata": {},
   "outputs": [],
   "source": [
    "iso_reg.transform([0.1])"
   ]
  },
  {
   "cell_type": "code",
   "execution_count": null,
   "id": "b0f0a3e8",
   "metadata": {},
   "outputs": [],
   "source": [
    "df.tail()"
   ]
  },
  {
   "cell_type": "code",
   "execution_count": null,
   "id": "d2a11f43",
   "metadata": {},
   "outputs": [],
   "source": [
    "df['bin'] = (np.arange(len(df)) // 10)\n",
    "df.head()"
   ]
  },
  {
   "cell_type": "code",
   "execution_count": null,
   "id": "1394cae0",
   "metadata": {},
   "outputs": [],
   "source": [
    "bin_averages = df.groupby('bin').agg({\n",
    "    'video_lang': 'mean',\n",
    "#     'calibrated_platt': 'mean',    \n",
    "    'calibrated_isotonic': 'mean',\n",
    "    f'__label__{lang}': 'mean',}).reset_index()\n",
    "bin_averages"
   ]
  },
  {
   "cell_type": "code",
   "execution_count": null,
   "id": "16e26e63",
   "metadata": {},
   "outputs": [],
   "source": [
    "import matplotlib.pyplot as plt\n",
    "\n",
    "# Use your DataFrame\n",
    "# df = your DataFrame with columns: 'calibrated_isotonic', 'label_arb_Arab'\n",
    "\n",
    "plt.figure(figsize=(6, 6))\n",
    "plt.plot(bin_averages[\"calibrated_isotonic\"], bin_averages[f\"video_lang\"], \"s-\", label=\"Isotonic calibrated\")\n",
    "plt.plot([0, 1], [0, 1], \"k--\", label=\"Perfect calibration\")\n",
    "plt.xlabel(\"Mean predicted probability (bin average)\")\n",
    "plt.ylabel(\"Fraction of positives\")\n",
    "plt.title(\"Calibration Curve (Isotonic)\")\n",
    "plt.legend()\n",
    "plt.grid(True)\n",
    "plt.tight_layout()\n",
    "plt.show()\n"
   ]
  },
  {
   "cell_type": "code",
   "execution_count": null,
   "id": "61fca038",
   "metadata": {},
   "outputs": [],
   "source": [
    "# Save the model\n",
    "joblib.dump(iso_reg, f'/home/manuel/Documents/oii/moderation_workforce/data/calibration_fasttext/youtube/calibration_models/isotonic_regression_model_{lang}.joblib')"
   ]
  },
  {
   "cell_type": "code",
   "execution_count": null,
   "id": "f0d15c1f",
   "metadata": {},
   "outputs": [],
   "source": []
  },
  {
   "cell_type": "markdown",
   "id": "b1a112b5",
   "metadata": {},
   "source": [
    "## slk_Latn"
   ]
  },
  {
   "cell_type": "code",
   "execution_count": null,
   "id": "88ddf458",
   "metadata": {},
   "outputs": [],
   "source": [
    "lang = 'slk_Latn'"
   ]
  },
  {
   "cell_type": "code",
   "execution_count": null,
   "id": "ad5c0f96",
   "metadata": {},
   "outputs": [],
   "source": [
    "df = pd.read_csv(f'/home/manuel/Documents/oii/moderation_workforce/data/calibration_fasttext/youtube/samples_annotated/calibration_fasttext_youtube - {lang}.csv')\n",
    "df.head()"
   ]
  },
  {
   "cell_type": "code",
   "execution_count": null,
   "id": "2a5bae0a",
   "metadata": {},
   "outputs": [],
   "source": [
    "df['video_lang'].value_counts(dropna=False)"
   ]
  },
  {
   "cell_type": "code",
   "execution_count": null,
   "id": "bbd46d13",
   "metadata": {},
   "outputs": [],
   "source": [
    "df = df.loc[~df['video_lang'].isnull()]\n",
    "df.head()"
   ]
  },
  {
   "cell_type": "code",
   "execution_count": null,
   "id": "b1f185f6",
   "metadata": {},
   "outputs": [],
   "source": [
    "df['video_lang'] = df['video_lang'].astype(float)"
   ]
  },
  {
   "cell_type": "code",
   "execution_count": null,
   "id": "521843b3",
   "metadata": {},
   "outputs": [],
   "source": [
    "import numpy as np\n",
    "import pandas as pd\n",
    "from sklearn.isotonic import IsotonicRegression\n",
    "from sklearn.linear_model import LogisticRegression\n",
    "\n",
    "# Assuming df with columns 'label_deu' (raw scores) and 'class' (binary labels)\n",
    "\n",
    "X = df[f'__label__{lang}'].values.reshape(-1, 1)  # raw model scores (e.g., predicted probs or logits)\n",
    "y = df['video_lang'].values                     # true binary labels (0/1)\n",
    "\n",
    "# # Fit Platt scaling logistic regression on the raw scores\n",
    "# platt_scaler = LogisticRegression(solver='lbfgs')  # default params are fine\n",
    "# platt_scaler.fit(X, y)\n",
    "\n",
    "# # Predict calibrated probabilities using Platt scaling\n",
    "# calibrated_platt = platt_scaler.predict_proba(X)[:, 1]\n",
    "\n",
    "# Fit isotonic regression calibration (for comparison)\n",
    "iso_reg = IsotonicRegression(out_of_bounds='clip')\n",
    "calibrated_isotonic = iso_reg.fit_transform(df[f'__label__{lang}'], y)\n",
    "\n",
    "# Add calibrated scores to DataFrame\n",
    "# df['calibrated_platt'] = calibrated_platt\n",
    "df['calibrated_isotonic'] = calibrated_isotonic"
   ]
  },
  {
   "cell_type": "code",
   "execution_count": null,
   "id": "51575131",
   "metadata": {},
   "outputs": [],
   "source": [
    "iso_reg.transform([0.0000001])"
   ]
  },
  {
   "cell_type": "code",
   "execution_count": null,
   "id": "5db847bb",
   "metadata": {},
   "outputs": [],
   "source": [
    "iso_reg.transform([0.01])"
   ]
  },
  {
   "cell_type": "code",
   "execution_count": null,
   "id": "7fd22529",
   "metadata": {},
   "outputs": [],
   "source": [
    "iso_reg.transform([0.1])"
   ]
  },
  {
   "cell_type": "code",
   "execution_count": null,
   "id": "b6ad8a3e",
   "metadata": {},
   "outputs": [],
   "source": [
    "df.tail()"
   ]
  },
  {
   "cell_type": "code",
   "execution_count": null,
   "id": "8e9faa7b",
   "metadata": {},
   "outputs": [],
   "source": [
    "df['bin'] = (np.arange(len(df)) // 10)\n",
    "df.head()"
   ]
  },
  {
   "cell_type": "code",
   "execution_count": null,
   "id": "b5324485",
   "metadata": {},
   "outputs": [],
   "source": [
    "bin_averages = df.groupby('bin').agg({\n",
    "    'video_lang': 'mean',\n",
    "#     'calibrated_platt': 'mean',    \n",
    "    'calibrated_isotonic': 'mean',\n",
    "    f'__label__{lang}': 'mean',}).reset_index()\n",
    "bin_averages"
   ]
  },
  {
   "cell_type": "code",
   "execution_count": null,
   "id": "e2f27f87",
   "metadata": {},
   "outputs": [],
   "source": [
    "import matplotlib.pyplot as plt\n",
    "\n",
    "# Use your DataFrame\n",
    "# df = your DataFrame with columns: 'calibrated_isotonic', 'label_arb_Arab'\n",
    "\n",
    "plt.figure(figsize=(6, 6))\n",
    "plt.plot(bin_averages[\"calibrated_isotonic\"], bin_averages[f\"video_lang\"], \"s-\", label=\"Isotonic calibrated\")\n",
    "plt.plot([0, 1], [0, 1], \"k--\", label=\"Perfect calibration\")\n",
    "plt.xlabel(\"Mean predicted probability (bin average)\")\n",
    "plt.ylabel(\"Fraction of positives\")\n",
    "plt.title(\"Calibration Curve (Isotonic)\")\n",
    "plt.legend()\n",
    "plt.grid(True)\n",
    "plt.tight_layout()\n",
    "plt.show()\n"
   ]
  },
  {
   "cell_type": "code",
   "execution_count": null,
   "id": "d422afe1",
   "metadata": {},
   "outputs": [],
   "source": [
    "# Save the model\n",
    "joblib.dump(iso_reg, f'/home/manuel/Documents/oii/moderation_workforce/data/calibration_fasttext/youtube/calibration_models/isotonic_regression_model_{lang}.joblib')"
   ]
  },
  {
   "cell_type": "code",
   "execution_count": null,
   "id": "68c522de",
   "metadata": {},
   "outputs": [],
   "source": []
  },
  {
   "cell_type": "markdown",
   "id": "5d25bbee",
   "metadata": {},
   "source": [
    "## slv_Latn"
   ]
  },
  {
   "cell_type": "code",
   "execution_count": null,
   "id": "0ee959c2",
   "metadata": {},
   "outputs": [],
   "source": [
    "lang = 'slv_Latn'"
   ]
  },
  {
   "cell_type": "code",
   "execution_count": null,
   "id": "7173ba72",
   "metadata": {},
   "outputs": [],
   "source": [
    "df = pd.read_csv(f'/home/manuel/Documents/oii/moderation_workforce/data/calibration_fasttext/youtube/samples_annotated/calibration_fasttext_youtube - {lang}.csv')\n",
    "df.head()"
   ]
  },
  {
   "cell_type": "code",
   "execution_count": null,
   "id": "84320fd1",
   "metadata": {},
   "outputs": [],
   "source": [
    "df['video_lang'].value_counts(dropna=False)"
   ]
  },
  {
   "cell_type": "code",
   "execution_count": null,
   "id": "27870062",
   "metadata": {},
   "outputs": [],
   "source": [
    "df = df.loc[~df['video_lang'].isnull()]\n",
    "df.head()"
   ]
  },
  {
   "cell_type": "code",
   "execution_count": null,
   "id": "837dae94",
   "metadata": {},
   "outputs": [],
   "source": [
    "df['video_lang'] = df['video_lang'].apply(lambda x: x.replace('0,5', '0.5'))"
   ]
  },
  {
   "cell_type": "code",
   "execution_count": null,
   "id": "196a5de5",
   "metadata": {},
   "outputs": [],
   "source": [
    "df['video_lang'] = df['video_lang'].astype(float)"
   ]
  },
  {
   "cell_type": "code",
   "execution_count": null,
   "id": "bc4c16c9",
   "metadata": {},
   "outputs": [],
   "source": [
    "import numpy as np\n",
    "import pandas as pd\n",
    "from sklearn.isotonic import IsotonicRegression\n",
    "from sklearn.linear_model import LogisticRegression\n",
    "\n",
    "# Assuming df with columns 'label_deu' (raw scores) and 'class' (binary labels)\n",
    "\n",
    "X = df[f'__label__{lang}'].values.reshape(-1, 1)  # raw model scores (e.g., predicted probs or logits)\n",
    "y = df['video_lang'].values                     # true binary labels (0/1)\n",
    "\n",
    "# # Fit Platt scaling logistic regression on the raw scores\n",
    "# platt_scaler = LogisticRegression(solver='lbfgs')  # default params are fine\n",
    "# platt_scaler.fit(X, y)\n",
    "\n",
    "# # Predict calibrated probabilities using Platt scaling\n",
    "# calibrated_platt = platt_scaler.predict_proba(X)[:, 1]\n",
    "\n",
    "# Fit isotonic regression calibration (for comparison)\n",
    "iso_reg = IsotonicRegression(out_of_bounds='clip')\n",
    "calibrated_isotonic = iso_reg.fit_transform(df[f'__label__{lang}'], y)\n",
    "\n",
    "# Add calibrated scores to DataFrame\n",
    "# df['calibrated_platt'] = calibrated_platt\n",
    "df['calibrated_isotonic'] = calibrated_isotonic"
   ]
  },
  {
   "cell_type": "code",
   "execution_count": null,
   "id": "d1f50927",
   "metadata": {},
   "outputs": [],
   "source": [
    "iso_reg.transform([0.0000001])"
   ]
  },
  {
   "cell_type": "code",
   "execution_count": null,
   "id": "121195b0",
   "metadata": {},
   "outputs": [],
   "source": [
    "iso_reg.transform([0.01])"
   ]
  },
  {
   "cell_type": "code",
   "execution_count": null,
   "id": "b536e962",
   "metadata": {},
   "outputs": [],
   "source": [
    "iso_reg.transform([0.1])"
   ]
  },
  {
   "cell_type": "code",
   "execution_count": null,
   "id": "e3b86060",
   "metadata": {},
   "outputs": [],
   "source": [
    "df.tail()"
   ]
  },
  {
   "cell_type": "code",
   "execution_count": null,
   "id": "bb3d46ab",
   "metadata": {},
   "outputs": [],
   "source": [
    "df['bin'] = (np.arange(len(df)) // 10)\n",
    "df.head()"
   ]
  },
  {
   "cell_type": "code",
   "execution_count": null,
   "id": "39efb592",
   "metadata": {},
   "outputs": [],
   "source": [
    "bin_averages = df.groupby('bin').agg({\n",
    "    'video_lang': 'mean',\n",
    "#     'calibrated_platt': 'mean',    \n",
    "    'calibrated_isotonic': 'mean',\n",
    "    f'__label__{lang}': 'mean',}).reset_index()\n",
    "bin_averages"
   ]
  },
  {
   "cell_type": "code",
   "execution_count": null,
   "id": "400b3406",
   "metadata": {},
   "outputs": [],
   "source": [
    "import matplotlib.pyplot as plt\n",
    "\n",
    "# Use your DataFrame\n",
    "# df = your DataFrame with columns: 'calibrated_isotonic', 'label_arb_Arab'\n",
    "\n",
    "plt.figure(figsize=(6, 6))\n",
    "plt.plot(bin_averages[\"calibrated_isotonic\"], bin_averages[f\"video_lang\"], \"s-\", label=\"Isotonic calibrated\")\n",
    "plt.plot([0, 1], [0, 1], \"k--\", label=\"Perfect calibration\")\n",
    "plt.xlabel(\"Mean predicted probability (bin average)\")\n",
    "plt.ylabel(\"Fraction of positives\")\n",
    "plt.title(\"Calibration Curve (Isotonic)\")\n",
    "plt.legend()\n",
    "plt.grid(True)\n",
    "plt.tight_layout()\n",
    "plt.show()\n"
   ]
  },
  {
   "cell_type": "code",
   "execution_count": null,
   "id": "1c496116",
   "metadata": {},
   "outputs": [],
   "source": [
    "# Save the model\n",
    "joblib.dump(iso_reg, f'/home/manuel/Documents/oii/moderation_workforce/data/calibration_fasttext/youtube/calibration_models/isotonic_regression_model_{lang}.joblib')"
   ]
  },
  {
   "cell_type": "code",
   "execution_count": null,
   "id": "73e25df5",
   "metadata": {},
   "outputs": [],
   "source": []
  },
  {
   "cell_type": "markdown",
   "id": "6e082ab2",
   "metadata": {},
   "source": [
    "## spa_Latn"
   ]
  },
  {
   "cell_type": "code",
   "execution_count": null,
   "id": "293e86c1",
   "metadata": {},
   "outputs": [],
   "source": [
    "lang = 'spa_Latn'"
   ]
  },
  {
   "cell_type": "code",
   "execution_count": null,
   "id": "96d83335",
   "metadata": {},
   "outputs": [],
   "source": [
    "df = pd.read_csv(f'/home/manuel/Documents/oii/moderation_workforce/data/calibration_fasttext/youtube/samples_annotated/calibration_fasttext_youtube - {lang}.csv')\n",
    "df.head()"
   ]
  },
  {
   "cell_type": "code",
   "execution_count": null,
   "id": "84890d52",
   "metadata": {},
   "outputs": [],
   "source": [
    "df['video_lang'].value_counts(dropna=False)"
   ]
  },
  {
   "cell_type": "code",
   "execution_count": null,
   "id": "49bbbc98",
   "metadata": {},
   "outputs": [],
   "source": [
    "df = df.loc[~df['video_lang'].isnull()]\n",
    "df.head()"
   ]
  },
  {
   "cell_type": "code",
   "execution_count": null,
   "id": "746f2a8c",
   "metadata": {},
   "outputs": [],
   "source": [
    "df['video_lang'] = df['video_lang'].astype(float)"
   ]
  },
  {
   "cell_type": "code",
   "execution_count": null,
   "id": "1cdf6311",
   "metadata": {},
   "outputs": [],
   "source": [
    "import numpy as np\n",
    "import pandas as pd\n",
    "from sklearn.isotonic import IsotonicRegression\n",
    "from sklearn.linear_model import LogisticRegression\n",
    "\n",
    "# Assuming df with columns 'label_deu' (raw scores) and 'class' (binary labels)\n",
    "\n",
    "X = df[f'__label__{lang}'].values.reshape(-1, 1)  # raw model scores (e.g., predicted probs or logits)\n",
    "y = df['video_lang'].values                     # true binary labels (0/1)\n",
    "\n",
    "# # Fit Platt scaling logistic regression on the raw scores\n",
    "# platt_scaler = LogisticRegression(solver='lbfgs')  # default params are fine\n",
    "# platt_scaler.fit(X, y)\n",
    "\n",
    "# # Predict calibrated probabilities using Platt scaling\n",
    "# calibrated_platt = platt_scaler.predict_proba(X)[:, 1]\n",
    "\n",
    "# Fit isotonic regression calibration (for comparison)\n",
    "iso_reg = IsotonicRegression(out_of_bounds='clip')\n",
    "calibrated_isotonic = iso_reg.fit_transform(df[f'__label__{lang}'], y)\n",
    "\n",
    "# Add calibrated scores to DataFrame\n",
    "# df['calibrated_platt'] = calibrated_platt\n",
    "df['calibrated_isotonic'] = calibrated_isotonic"
   ]
  },
  {
   "cell_type": "code",
   "execution_count": null,
   "id": "34a78088",
   "metadata": {},
   "outputs": [],
   "source": [
    "iso_reg.transform([0.0000001])"
   ]
  },
  {
   "cell_type": "code",
   "execution_count": null,
   "id": "ccf8b87f",
   "metadata": {},
   "outputs": [],
   "source": [
    "iso_reg.transform([0.01])"
   ]
  },
  {
   "cell_type": "code",
   "execution_count": null,
   "id": "9f0acf6e",
   "metadata": {},
   "outputs": [],
   "source": [
    "iso_reg.transform([0.1])"
   ]
  },
  {
   "cell_type": "code",
   "execution_count": null,
   "id": "c0d1af9f",
   "metadata": {},
   "outputs": [],
   "source": [
    "df.tail()"
   ]
  },
  {
   "cell_type": "code",
   "execution_count": null,
   "id": "f4b1193b",
   "metadata": {},
   "outputs": [],
   "source": [
    "df['bin'] = (np.arange(len(df)) // 10)\n",
    "df.head()"
   ]
  },
  {
   "cell_type": "code",
   "execution_count": null,
   "id": "952dc3c2",
   "metadata": {},
   "outputs": [],
   "source": [
    "bin_averages = df.groupby('bin').agg({\n",
    "    'video_lang': 'mean',\n",
    "#     'calibrated_platt': 'mean',    \n",
    "    'calibrated_isotonic': 'mean',\n",
    "    f'__label__{lang}': 'mean',}).reset_index()\n",
    "bin_averages"
   ]
  },
  {
   "cell_type": "code",
   "execution_count": null,
   "id": "b0fc75f0",
   "metadata": {},
   "outputs": [],
   "source": [
    "import matplotlib.pyplot as plt\n",
    "\n",
    "# Use your DataFrame\n",
    "# df = your DataFrame with columns: 'calibrated_isotonic', 'label_arb_Arab'\n",
    "\n",
    "plt.figure(figsize=(6, 6))\n",
    "plt.plot(bin_averages[\"calibrated_isotonic\"], bin_averages[f\"video_lang\"], \"s-\", label=\"Isotonic calibrated\")\n",
    "plt.plot([0, 1], [0, 1], \"k--\", label=\"Perfect calibration\")\n",
    "plt.xlabel(\"Mean predicted probability (bin average)\")\n",
    "plt.ylabel(\"Fraction of positives\")\n",
    "plt.title(\"Calibration Curve (Isotonic)\")\n",
    "plt.legend()\n",
    "plt.grid(True)\n",
    "plt.tight_layout()\n",
    "plt.show()\n"
   ]
  },
  {
   "cell_type": "code",
   "execution_count": null,
   "id": "8d13ef57",
   "metadata": {},
   "outputs": [],
   "source": [
    "# Save the model\n",
    "joblib.dump(iso_reg, f'/home/manuel/Documents/oii/moderation_workforce/data/calibration_fasttext/youtube/calibration_models/isotonic_regression_model_{lang}.joblib')"
   ]
  },
  {
   "cell_type": "code",
   "execution_count": null,
   "id": "737a4b17",
   "metadata": {},
   "outputs": [],
   "source": []
  },
  {
   "cell_type": "markdown",
   "id": "d4f7edc0",
   "metadata": {},
   "source": [
    "## swe_Latn"
   ]
  },
  {
   "cell_type": "code",
   "execution_count": null,
   "id": "ba1b5da3",
   "metadata": {},
   "outputs": [],
   "source": [
    "lang = 'swe_Latn'"
   ]
  },
  {
   "cell_type": "code",
   "execution_count": null,
   "id": "e81ea6a4",
   "metadata": {},
   "outputs": [],
   "source": [
    "df = pd.read_csv(f'/home/manuel/Documents/oii/moderation_workforce/data/calibration_fasttext/youtube/samples_annotated/calibration_fasttext_youtube - {lang}.csv')\n",
    "df.head()"
   ]
  },
  {
   "cell_type": "code",
   "execution_count": null,
   "id": "944d5419",
   "metadata": {},
   "outputs": [],
   "source": [
    "df['video_lang'].value_counts(dropna=False)"
   ]
  },
  {
   "cell_type": "code",
   "execution_count": null,
   "id": "9d14d08b",
   "metadata": {},
   "outputs": [],
   "source": [
    "df = df.loc[~df['video_lang'].isnull()]\n",
    "df.head()"
   ]
  },
  {
   "cell_type": "code",
   "execution_count": null,
   "id": "20d78cbe",
   "metadata": {},
   "outputs": [],
   "source": [
    "df['video_lang'] = df['video_lang'].astype(float)"
   ]
  },
  {
   "cell_type": "code",
   "execution_count": null,
   "id": "5eafbe8a",
   "metadata": {},
   "outputs": [],
   "source": [
    "import numpy as np\n",
    "import pandas as pd\n",
    "from sklearn.isotonic import IsotonicRegression\n",
    "from sklearn.linear_model import LogisticRegression\n",
    "\n",
    "# Assuming df with columns 'label_deu' (raw scores) and 'class' (binary labels)\n",
    "\n",
    "X = df[f'__label__{lang}'].values.reshape(-1, 1)  # raw model scores (e.g., predicted probs or logits)\n",
    "y = df['video_lang'].values                     # true binary labels (0/1)\n",
    "\n",
    "# # Fit Platt scaling logistic regression on the raw scores\n",
    "# platt_scaler = LogisticRegression(solver='lbfgs')  # default params are fine\n",
    "# platt_scaler.fit(X, y)\n",
    "\n",
    "# # Predict calibrated probabilities using Platt scaling\n",
    "# calibrated_platt = platt_scaler.predict_proba(X)[:, 1]\n",
    "\n",
    "# Fit isotonic regression calibration (for comparison)\n",
    "iso_reg = IsotonicRegression(out_of_bounds='clip')\n",
    "calibrated_isotonic = iso_reg.fit_transform(df[f'__label__{lang}'], y)\n",
    "\n",
    "# Add calibrated scores to DataFrame\n",
    "# df['calibrated_platt'] = calibrated_platt\n",
    "df['calibrated_isotonic'] = calibrated_isotonic"
   ]
  },
  {
   "cell_type": "code",
   "execution_count": null,
   "id": "289357c1",
   "metadata": {},
   "outputs": [],
   "source": [
    "iso_reg.transform([0.0000001])"
   ]
  },
  {
   "cell_type": "code",
   "execution_count": null,
   "id": "0e617316",
   "metadata": {},
   "outputs": [],
   "source": [
    "iso_reg.transform([0.01])"
   ]
  },
  {
   "cell_type": "code",
   "execution_count": null,
   "id": "4dac626b",
   "metadata": {},
   "outputs": [],
   "source": [
    "iso_reg.transform([0.1])"
   ]
  },
  {
   "cell_type": "code",
   "execution_count": null,
   "id": "6eecb195",
   "metadata": {},
   "outputs": [],
   "source": [
    "df.tail()"
   ]
  },
  {
   "cell_type": "code",
   "execution_count": null,
   "id": "3289a6d8",
   "metadata": {},
   "outputs": [],
   "source": [
    "df['bin'] = (np.arange(len(df)) // 10)\n",
    "df.head()"
   ]
  },
  {
   "cell_type": "code",
   "execution_count": null,
   "id": "22be276d",
   "metadata": {},
   "outputs": [],
   "source": [
    "bin_averages = df.groupby('bin').agg({\n",
    "    'video_lang': 'mean',\n",
    "#     'calibrated_platt': 'mean',    \n",
    "    'calibrated_isotonic': 'mean',\n",
    "    f'__label__{lang}': 'mean',}).reset_index()\n",
    "bin_averages"
   ]
  },
  {
   "cell_type": "code",
   "execution_count": null,
   "id": "941fe9c6",
   "metadata": {},
   "outputs": [],
   "source": [
    "import matplotlib.pyplot as plt\n",
    "\n",
    "# Use your DataFrame\n",
    "# df = your DataFrame with columns: 'calibrated_isotonic', 'label_arb_Arab'\n",
    "\n",
    "plt.figure(figsize=(6, 6))\n",
    "plt.plot(bin_averages[\"calibrated_isotonic\"], bin_averages[f\"video_lang\"], \"s-\", label=\"Isotonic calibrated\")\n",
    "plt.plot([0, 1], [0, 1], \"k--\", label=\"Perfect calibration\")\n",
    "plt.xlabel(\"Mean predicted probability (bin average)\")\n",
    "plt.ylabel(\"Fraction of positives\")\n",
    "plt.title(\"Calibration Curve (Isotonic)\")\n",
    "plt.legend()\n",
    "plt.grid(True)\n",
    "plt.tight_layout()\n",
    "plt.show()\n"
   ]
  },
  {
   "cell_type": "code",
   "execution_count": null,
   "id": "aab5068a",
   "metadata": {},
   "outputs": [],
   "source": [
    "# Save the model\n",
    "joblib.dump(iso_reg, f'/home/manuel/Documents/oii/moderation_workforce/data/calibration_fasttext/youtube/calibration_models/isotonic_regression_model_{lang}.joblib')"
   ]
  },
  {
   "cell_type": "code",
   "execution_count": null,
   "id": "ca162ea2",
   "metadata": {},
   "outputs": [],
   "source": []
  }
 ],
 "metadata": {
  "kernelspec": {
   "display_name": "Python 3 (ipykernel)",
   "language": "python",
   "name": "python3"
  },
  "language_info": {
   "codemirror_mode": {
    "name": "ipython",
    "version": 3
   },
   "file_extension": ".py",
   "mimetype": "text/x-python",
   "name": "python",
   "nbconvert_exporter": "python",
   "pygments_lexer": "ipython3",
   "version": "3.12.3"
  }
 },
 "nbformat": 4,
 "nbformat_minor": 5
}
