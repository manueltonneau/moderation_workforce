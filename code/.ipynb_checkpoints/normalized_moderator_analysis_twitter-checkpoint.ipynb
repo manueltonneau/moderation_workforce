{
 "cells": [
  {
   "cell_type": "code",
   "execution_count": null,
   "id": "fb199e8f",
   "metadata": {},
   "outputs": [],
   "source": [
    "import pandas as pd"
   ]
  },
  {
   "cell_type": "markdown",
   "id": "76d61351",
   "metadata": {},
   "source": [
    "## twitter"
   ]
  },
  {
   "cell_type": "code",
   "execution_count": null,
   "id": "583dc448",
   "metadata": {},
   "outputs": [],
   "source": [
    "twitter_df = pd.read_csv('/home/manuel/Documents/oii/moderation_workforce/data/twitter/normalized_data.csv')\n",
    "twitter_df.head()"
   ]
  },
  {
   "cell_type": "code",
   "execution_count": null,
   "id": "e1e2e6d9",
   "metadata": {},
   "outputs": [],
   "source": [
    "twitter_df.columns"
   ]
  },
  {
   "cell_type": "code",
   "execution_count": null,
   "id": "22a4b8e9",
   "metadata": {},
   "outputs": [],
   "source": [
    "twitter_df = twitter_df[['Primary Language', 'aug23_oct23', 'oct23_march24',\n",
    "       'apr24_sep24_primary', 'apr24_sep24_secondary']]"
   ]
  },
  {
   "cell_type": "code",
   "execution_count": null,
   "id": "284a5e63",
   "metadata": {},
   "outputs": [],
   "source": [
    "twitter_df.head()"
   ]
  },
  {
   "cell_type": "code",
   "execution_count": null,
   "id": "84382f3b",
   "metadata": {},
   "outputs": [],
   "source": [
    "from pathlib import Path\n",
    "path_data = '/home/manuel/Documents/oii/just_another_day/data/lang_detect_fasttext_count'\n",
    "fasttext_df = pd.concat([pd.read_parquet(path) for path in Path(path_data).glob('*.parquet')])\n",
    "fasttext_df.head()"
   ]
  },
  {
   "cell_type": "code",
   "execution_count": null,
   "id": "7afef597",
   "metadata": {},
   "outputs": [],
   "source": [
    "fasttext_df.columns = ['tweet_lang_fasttext', 'post_count', 'share']"
   ]
  },
  {
   "cell_type": "code",
   "execution_count": null,
   "id": "b919df52",
   "metadata": {},
   "outputs": [],
   "source": [
    "lang_map = {\n",
    "    'arb_Arab': 'Arabic',\n",
    "    'bul_Cyrl': 'Bulgarian',\n",
    "    'hrv_Latn': 'Croatian',\n",
    "    'ces_Latn': 'Czech',\n",
    "    'dan_Latn': 'Danish',\n",
    "    'nld_Latn': 'Dutch',\n",
    "    'eng_Latn': 'English',\n",
    "    'est_Latn': 'Estonian',\n",
    "    'fin_Latn': 'Finnish',\n",
    "    'fra_Latn': 'French',\n",
    "    'deu_Latn': 'German',\n",
    "    'ell_Grek': 'Greek',\n",
    "    'heb_Hebr': 'Hebrew',\n",
    "    'hun_Latn': 'Hungarian',\n",
    "    'gle_Latn': 'Irish',\n",
    "    'ita_Latn': 'Italian',\n",
    "    'lav_Latn': 'Latvian',\n",
    "    'lit_Latn': 'Lithuanian',\n",
    "    'mlt_Latn': 'Maltese',\n",
    "    'pol_Latn': 'Polish',\n",
    "    'por_Latn': 'Portuguese',\n",
    "    'ron_Latn': 'Romanian',\n",
    "    'slk_Latn': 'Slovak',\n",
    "    'slv_Latn': 'Slovenian',\n",
    "    'spa_Latn': 'Spanish',\n",
    "    'swe_Latn': 'Swedish'\n",
    "}\n"
   ]
  },
  {
   "cell_type": "code",
   "execution_count": null,
   "id": "29277e2d",
   "metadata": {},
   "outputs": [],
   "source": [
    "fasttext_df[\"Primary Language\"] = fasttext_df[\"tweet_lang_fasttext\"].map(lang_map)\n",
    "fasttext_df.head()"
   ]
  },
  {
   "cell_type": "code",
   "execution_count": null,
   "id": "261ed9c8",
   "metadata": {},
   "outputs": [],
   "source": [
    "twitter_df = twitter_df.merge(fasttext_df, on=['Primary Language'])"
   ]
  },
  {
   "cell_type": "code",
   "execution_count": null,
   "id": "af58be43",
   "metadata": {},
   "outputs": [],
   "source": [
    "twitter_df.head(50)"
   ]
  },
  {
   "cell_type": "code",
   "execution_count": null,
   "id": "3c3c865d",
   "metadata": {},
   "outputs": [],
   "source": [
    "twitter_df[\"avg_moderator_count\"] = twitter_df[[\"aug23_oct23\", \"oct23_march24\", \"apr24_sep24_primary\"]].mean(axis=1, skipna=True)"
   ]
  },
  {
   "cell_type": "code",
   "execution_count": null,
   "id": "c7b9cfa7",
   "metadata": {},
   "outputs": [],
   "source": [
    "twitter_df.head()"
   ]
  },
  {
   "cell_type": "code",
   "execution_count": null,
   "id": "928f33cd",
   "metadata": {},
   "outputs": [],
   "source": [
    "lang_mod_count_dict = twitter_df.set_index(\"tweet_lang_fasttext\")[\"avg_moderator_count\"].to_dict()\n",
    "lang_mod_count_dict"
   ]
  },
  {
   "cell_type": "code",
   "execution_count": null,
   "id": "bfd822ca",
   "metadata": {},
   "outputs": [],
   "source": [
    "import os\n",
    "import pickle\n",
    "\n",
    "def load_list(lang):\n",
    "    # Directory containing the pickle files\n",
    "    directory = f'/home/manuel/Documents/oii/moderation_workforce/data/calibration_fasttext/twitter/bootstrap_samples/{lang}'\n",
    "    \n",
    "    # Initialize an empty list to hold all elements\n",
    "    combined_list = []\n",
    "    \n",
    "    # Loop through all .pkl files in the directory\n",
    "    for filename in os.listdir(directory):\n",
    "        if filename.endswith('.pkl'):\n",
    "            filepath = os.path.join(directory, filename)\n",
    "            with open(filepath, 'rb') as f:\n",
    "                data = pickle.load(f)\n",
    "                if isinstance(data, list):\n",
    "                    combined_list.extend(data)\n",
    "                else:\n",
    "                    print(f\"Warning: {filename} does not contain a list.\")\n",
    "    \n",
    "    # Optional: check the result\n",
    "    print(f\"Combined list contains {len(combined_list)} elements.\")\n",
    "    return combined_list"
   ]
  },
  {
   "cell_type": "code",
   "execution_count": null,
   "id": "92216a1e",
   "metadata": {},
   "outputs": [],
   "source": [
    "lang_post_count_dict = dict()"
   ]
  },
  {
   "cell_type": "code",
   "execution_count": null,
   "id": "0a500bee",
   "metadata": {},
   "outputs": [],
   "source": [
    "for fast_text_lang in lang_mod_count_dict:\n",
    "    print(fast_text_lang)\n",
    "    lang = fast_text_lang.split('_')[0]\n",
    "    if lang == 'eng':\n",
    "        lang = 'eng_new'\n",
    "    if lang_mod_count_dict[fast_text_lang] > 0:\n",
    "        if lang == 'arb':\n",
    "            lang_post_count_dict[fast_text_lang] = load_list(fast_text_lang)\n",
    "        else:\n",
    "            lang_post_count_dict[fast_text_lang] = load_list(lang)\n",
    "            "
   ]
  },
  {
   "cell_type": "code",
   "execution_count": null,
   "id": "d0f445fe",
   "metadata": {},
   "outputs": [],
   "source": [
    "final_dict = dict()"
   ]
  },
  {
   "cell_type": "code",
   "execution_count": null,
   "id": "05c95c93",
   "metadata": {},
   "outputs": [],
   "source": [
    "for fast_text_lang in lang_post_count_dict:\n",
    "    value_list = list()\n",
    "    for post_count in lang_post_count_dict[fast_text_lang]:\n",
    "        value_list.append(lang_mod_count_dict[fast_text_lang]/(post_count/1000000))\n",
    "    final_dict[fast_text_lang] = value_list"
   ]
  },
  {
   "cell_type": "code",
   "execution_count": null,
   "id": "364f6101",
   "metadata": {},
   "outputs": [],
   "source": [
    "final_dict"
   ]
  },
  {
   "cell_type": "code",
   "execution_count": null,
   "id": "6d285ccb",
   "metadata": {},
   "outputs": [],
   "source": []
  },
  {
   "cell_type": "code",
   "execution_count": null,
   "id": "590efcb1",
   "metadata": {},
   "outputs": [],
   "source": [
    "32.5/1.6"
   ]
  },
  {
   "cell_type": "code",
   "execution_count": null,
   "id": "47944c5d",
   "metadata": {},
   "outputs": [],
   "source": [
    "import matplotlib.pyplot as plt\n",
    "import pandas as pd\n",
    "import numpy as np\n",
    "\n",
    "# Prepare data from final_dict\n",
    "summary_data = []\n",
    "for lang, values in final_dict.items():\n",
    "    values_array = np.array(values)\n",
    "    mean = values_array.mean()\n",
    "    lower = np.percentile(values_array, 2.5)\n",
    "    upper = np.percentile(values_array, 97.5)\n",
    "    summary_data.append({\n",
    "        \"Language\": lang,\n",
    "        \"Mean\": mean,\n",
    "        \"CI_lower\": lower,\n",
    "        \"CI_upper\": upper\n",
    "    })\n",
    "\n",
    "summary_df = pd.DataFrame(summary_data)\n",
    "\n",
    "# Sort by mean descending\n",
    "summary_df = summary_df.sort_values(by=\"Mean\", ascending=True).reset_index(drop=True)"
   ]
  },
  {
   "cell_type": "code",
   "execution_count": null,
   "id": "8aa9e7e8",
   "metadata": {},
   "outputs": [],
   "source": [
    "summary_df.head(100)"
   ]
  },
  {
   "cell_type": "code",
   "execution_count": null,
   "id": "914953f6",
   "metadata": {},
   "outputs": [],
   "source": [
    "summary_df.head(100)"
   ]
  },
  {
   "cell_type": "code",
   "execution_count": null,
   "id": "5b64faa0",
   "metadata": {},
   "outputs": [],
   "source": [
    "# Mapping from fastText codes to full names\n",
    "lang_code_to_name = {\n",
    "    \"pol_Latn\": \"Polish\",\n",
    "    \"nld_Latn\": \"Dutch\",\n",
    "    \"ita_Latn\": \"Italian\",\n",
    "    \"spa_Latn\": \"Spanish\",\n",
    "    \"arb_Arab\": \"Arabic\",\n",
    "    \"hrv_Latn\": \"Croatian\",\n",
    "    \"por_Latn\": \"Portuguese\",\n",
    "    \"heb_Hebr\": \"Hebrew\",\n",
    "    \"fra_Latn\": \"French\",\n",
    "    \"eng_Latn\": \"English\",\n",
    "    \"deu_Latn\": \"German\",\n",
    "    \"bul_Cyrl\": \"Bulgarian\"\n",
    "}\n",
    "\n",
    "# Replace language codes with full names\n",
    "summary_df[\"Language\"] = summary_df[\"Language\"].map(lang_code_to_name)"
   ]
  },
  {
   "cell_type": "code",
   "execution_count": null,
   "id": "15343401",
   "metadata": {},
   "outputs": [],
   "source": [
    "\n",
    "\n",
    "# Plot settings\n",
    "fontsize = 20\n",
    "fig, ax = plt.subplots(figsize=(12, 8))\n",
    "\n",
    "# Extract values for plotting\n",
    "y_pos = np.arange(len(summary_df))\n",
    "means = summary_df[\"Mean\"]\n",
    "errors = [\n",
    "    means - summary_df[\"CI_lower\"],\n",
    "    summary_df[\"CI_upper\"] - means\n",
    "]\n",
    "\n",
    "# Horizontal bar plot with error bars\n",
    "ax.barh(y_pos, means, xerr=errors, align='center', color='skyblue', ecolor='black', capsize=4)\n",
    "\n",
    "# Set y-ticks and labels\n",
    "ax.set_yticks(y_pos)\n",
    "ax.set_yticklabels(summary_df[\"Language\"], fontsize=fontsize)\n",
    "\n",
    "# Axis labels and title\n",
    "ax.set_xlabel(\"Moderator count per million daily posts\", fontsize=fontsize)\n",
    "ax.set_ylabel(\"Language\", fontsize=fontsize)\n",
    "ax.set_title(\"Twitter/X\", fontweight='bold', fontsize=fontsize+2)\n",
    "\n",
    "# Format ticks\n",
    "ax.tick_params(axis='x', labelsize=fontsize)\n",
    "ax.tick_params(axis='y', labelsize=fontsize)\n",
    "plt.tight_layout()\n",
    "plt.show()\n"
   ]
  },
  {
   "cell_type": "code",
   "execution_count": null,
   "id": "ef22d9ae",
   "metadata": {},
   "outputs": [],
   "source": [
    "summary_df.to_csv('/home/manuel/Documents/oii/moderation_workforce/data/plots/plot_data/bar_plot_normalized_counts_twitter_latest.csv',\n",
    "                 index=False)"
   ]
  }
 ],
 "metadata": {
  "kernelspec": {
   "display_name": "Python 3 (ipykernel)",
   "language": "python",
   "name": "python3"
  },
  "language_info": {
   "codemirror_mode": {
    "name": "ipython",
    "version": 3
   },
   "file_extension": ".py",
   "mimetype": "text/x-python",
   "name": "python",
   "nbconvert_exporter": "python",
   "pygments_lexer": "ipython3",
   "version": "3.12.3"
  }
 },
 "nbformat": 4,
 "nbformat_minor": 5
}
