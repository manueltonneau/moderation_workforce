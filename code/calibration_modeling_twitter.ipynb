{
 "cells": [
  {
   "cell_type": "code",
   "execution_count": null,
   "id": "63f2b9b2",
   "metadata": {},
   "outputs": [],
   "source": [
    "import pandas as pd"
   ]
  },
  {
   "cell_type": "code",
   "execution_count": null,
   "id": "554d6e17",
   "metadata": {},
   "outputs": [],
   "source": [
    "import joblib"
   ]
  },
  {
   "cell_type": "markdown",
   "id": "55129307",
   "metadata": {},
   "source": [
    "## german"
   ]
  },
  {
   "cell_type": "code",
   "execution_count": null,
   "id": "09d03d8d",
   "metadata": {},
   "outputs": [],
   "source": [
    "lang = 'deu'"
   ]
  },
  {
   "cell_type": "code",
   "execution_count": null,
   "id": "ce0b55b4",
   "metadata": {},
   "outputs": [],
   "source": [
    "df = pd.read_csv(f'/home/manuel/Documents/oii/moderation_workforce/data/calibration_fasttext/twitter/samples_annotated/calibration_fasttext - {lang}.csv')\n",
    "df.head()"
   ]
  },
  {
   "cell_type": "code",
   "execution_count": null,
   "id": "1710fe83",
   "metadata": {},
   "outputs": [],
   "source": [
    "import numpy as np\n",
    "import pandas as pd\n",
    "from sklearn.isotonic import IsotonicRegression\n",
    "from sklearn.linear_model import LogisticRegression\n",
    "\n",
    "# Assuming df with columns 'label_deu' (raw scores) and 'class' (binary labels)\n",
    "\n",
    "X = df[f'label_{lang}'].values.reshape(-1, 1)  # raw model scores (e.g., predicted probs or logits)\n",
    "y = df['class'].values                     # true binary labels (0/1)\n",
    "\n",
    "# Fit Platt scaling logistic regression on the raw scores\n",
    "platt_scaler = LogisticRegression(solver='lbfgs')  # default params are fine\n",
    "platt_scaler.fit(X, y)\n",
    "\n",
    "# Predict calibrated probabilities using Platt scaling\n",
    "calibrated_platt = platt_scaler.predict_proba(X)[:, 1]\n",
    "\n",
    "# Fit isotonic regression calibration (for comparison)\n",
    "iso_reg = IsotonicRegression(out_of_bounds='clip')\n",
    "calibrated_isotonic = iso_reg.fit_transform(df[f'label_{lang}'], y)\n",
    "\n",
    "# Add calibrated scores to DataFrame\n",
    "df['calibrated_platt'] = calibrated_platt\n",
    "df['calibrated_isotonic'] = calibrated_isotonic\n",
    "\n"
   ]
  },
  {
   "cell_type": "code",
   "execution_count": null,
   "id": "a50d7922",
   "metadata": {},
   "outputs": [],
   "source": [
    "iso_reg.transform([0.0000001])"
   ]
  },
  {
   "cell_type": "code",
   "execution_count": null,
   "id": "f5a9f1af",
   "metadata": {},
   "outputs": [],
   "source": [
    "df.tail()"
   ]
  },
  {
   "cell_type": "code",
   "execution_count": null,
   "id": "a6927ac1",
   "metadata": {},
   "outputs": [],
   "source": [
    "df['bin'] = (np.arange(len(df)) // 10)\n",
    "df.head()"
   ]
  },
  {
   "cell_type": "code",
   "execution_count": null,
   "id": "84301825",
   "metadata": {},
   "outputs": [],
   "source": [
    "bin_averages = df.groupby('bin').agg({\n",
    "    'class': 'mean',\n",
    "    'calibrated_platt': 'mean',    \n",
    "    'calibrated_isotonic': 'mean',\n",
    "    'label_deu': 'mean',}).reset_index()\n",
    "bin_averages"
   ]
  },
  {
   "cell_type": "code",
   "execution_count": null,
   "id": "3f4548a8",
   "metadata": {},
   "outputs": [],
   "source": [
    "import matplotlib.pyplot as plt\n",
    "\n",
    "# Use your DataFrame\n",
    "# df = your DataFrame with columns: 'calibrated_isotonic', 'label_arb_Arab'\n",
    "\n",
    "plt.figure(figsize=(6, 6))\n",
    "plt.plot(bin_averages[\"calibrated_isotonic\"], bin_averages[f\"class\"], \"s-\", label=\"Isotonic calibrated\")\n",
    "plt.plot([0, 1], [0, 1], \"k--\", label=\"Perfect calibration\")\n",
    "plt.xlabel(\"Mean predicted probability (bin average)\")\n",
    "plt.ylabel(\"Fraction of positives\")\n",
    "plt.title(\"Calibration Curve (Isotonic)\")\n",
    "plt.legend()\n",
    "plt.grid(True)\n",
    "plt.tight_layout()\n",
    "plt.show()\n"
   ]
  },
  {
   "cell_type": "code",
   "execution_count": null,
   "id": "cf068336",
   "metadata": {},
   "outputs": [],
   "source": [
    "# Save the model\n",
    "joblib.dump(iso_reg, f'/home/manuel/Documents/oii/moderation_workforce/data/calibration_fasttext/twitter/calibration_models/isotonic_regression_model_{lang}.joblib')"
   ]
  },
  {
   "cell_type": "code",
   "execution_count": null,
   "id": "2169ecec",
   "metadata": {},
   "outputs": [],
   "source": []
  },
  {
   "cell_type": "markdown",
   "id": "a19f7492",
   "metadata": {},
   "source": [
    "## fra"
   ]
  },
  {
   "cell_type": "code",
   "execution_count": null,
   "id": "96352241",
   "metadata": {},
   "outputs": [],
   "source": [
    "lang = 'fra'"
   ]
  },
  {
   "cell_type": "code",
   "execution_count": null,
   "id": "01433688",
   "metadata": {},
   "outputs": [],
   "source": [
    "df = pd.read_csv(f'/home/manuel/Documents/oii/moderation_workforce/data/calibration_fasttext/twitter/samples_annotated/calibration_fasttext - {lang}.csv')\n",
    "df.head()"
   ]
  },
  {
   "cell_type": "code",
   "execution_count": null,
   "id": "6d7bc166",
   "metadata": {},
   "outputs": [],
   "source": [
    "df['class'].value_counts(dropna=False)"
   ]
  },
  {
   "cell_type": "code",
   "execution_count": null,
   "id": "b043951e",
   "metadata": {},
   "outputs": [],
   "source": [
    "df['class'] = df['class'].apply(lambda x: x.replace('0,5', '0.5'))"
   ]
  },
  {
   "cell_type": "code",
   "execution_count": null,
   "id": "1f6c7f7a",
   "metadata": {},
   "outputs": [],
   "source": [
    "df['class'] = df['class'].astype(float)"
   ]
  },
  {
   "cell_type": "code",
   "execution_count": null,
   "id": "9b827adc",
   "metadata": {},
   "outputs": [],
   "source": [
    "import numpy as np\n",
    "import pandas as pd\n",
    "from sklearn.isotonic import IsotonicRegression\n",
    "from sklearn.linear_model import LogisticRegression\n",
    "\n",
    "# Assuming df with columns 'label_deu' (raw scores) and 'class' (binary labels)\n",
    "\n",
    "X = df[f'label_{lang}'].values.reshape(-1, 1)  # raw model scores (e.g., predicted probs or logits)\n",
    "y = df['class'].values                     # true binary labels (0/1)\n",
    "\n",
    "# # Fit Platt scaling logistic regression on the raw scores\n",
    "# platt_scaler = LogisticRegression(solver='lbfgs')  # default params are fine\n",
    "# platt_scaler.fit(X, y)\n",
    "\n",
    "# # Predict calibrated probabilities using Platt scaling\n",
    "# calibrated_platt = platt_scaler.predict_proba(X)[:, 1]\n",
    "\n",
    "# Fit isotonic regression calibration (for comparison)\n",
    "iso_reg = IsotonicRegression(out_of_bounds='clip')\n",
    "calibrated_isotonic = iso_reg.fit_transform(df[f'label_{lang}'], y)\n",
    "\n",
    "# Add calibrated scores to DataFrame\n",
    "# df['calibrated_platt'] = calibrated_platt\n",
    "df['calibrated_isotonic'] = calibrated_isotonic\n",
    "\n"
   ]
  },
  {
   "cell_type": "code",
   "execution_count": null,
   "id": "77c70ac0",
   "metadata": {},
   "outputs": [],
   "source": [
    "iso_reg.transform([0.0000001])"
   ]
  },
  {
   "cell_type": "code",
   "execution_count": null,
   "id": "4c218cbe",
   "metadata": {},
   "outputs": [],
   "source": [
    "df.tail()"
   ]
  },
  {
   "cell_type": "code",
   "execution_count": null,
   "id": "814b846b",
   "metadata": {},
   "outputs": [],
   "source": [
    "df['bin'] = (np.arange(len(df)) // 10)\n",
    "df.head()"
   ]
  },
  {
   "cell_type": "code",
   "execution_count": null,
   "id": "26ac7416",
   "metadata": {},
   "outputs": [],
   "source": [
    "bin_averages = df.groupby('bin').agg({\n",
    "    'class': 'mean',\n",
    "#     'calibrated_platt': 'mean',    \n",
    "    'calibrated_isotonic': 'mean',\n",
    "    f'label_{lang}': 'mean',}).reset_index()\n",
    "bin_averages"
   ]
  },
  {
   "cell_type": "code",
   "execution_count": null,
   "id": "90fd07cb",
   "metadata": {},
   "outputs": [],
   "source": [
    "import matplotlib.pyplot as plt\n",
    "\n",
    "# Use your DataFrame\n",
    "# df = your DataFrame with columns: 'calibrated_isotonic', 'label_arb_Arab'\n",
    "\n",
    "plt.figure(figsize=(6, 6))\n",
    "plt.plot(bin_averages[\"calibrated_isotonic\"], bin_averages[f\"class\"], \"s-\", label=\"Isotonic calibrated\")\n",
    "plt.plot([0, 1], [0, 1], \"k--\", label=\"Perfect calibration\")\n",
    "plt.xlabel(\"Mean predicted probability (bin average)\")\n",
    "plt.ylabel(\"Fraction of positives\")\n",
    "plt.title(\"Calibration Curve (Isotonic)\")\n",
    "plt.legend()\n",
    "plt.grid(True)\n",
    "plt.tight_layout()\n",
    "plt.show()\n"
   ]
  },
  {
   "cell_type": "code",
   "execution_count": null,
   "id": "b8ac2132",
   "metadata": {},
   "outputs": [],
   "source": [
    "iso_reg.transform([0.0000001])"
   ]
  },
  {
   "cell_type": "code",
   "execution_count": null,
   "id": "d912e747",
   "metadata": {},
   "outputs": [],
   "source": [
    "iso_reg.transform([0.0001])"
   ]
  },
  {
   "cell_type": "code",
   "execution_count": null,
   "id": "8a9e28f0",
   "metadata": {},
   "outputs": [],
   "source": [
    "iso_reg.transform([0.01])"
   ]
  },
  {
   "cell_type": "code",
   "execution_count": null,
   "id": "c7da7a68",
   "metadata": {},
   "outputs": [],
   "source": [
    "# Save the model\n",
    "joblib.dump(iso_reg, f'/home/manuel/Documents/oii/moderation_workforce/data/calibration_fasttext/twitter/calibration_models/isotonic_regression_model_{lang}.joblib')"
   ]
  },
  {
   "cell_type": "code",
   "execution_count": null,
   "id": "7a385238",
   "metadata": {},
   "outputs": [],
   "source": []
  },
  {
   "cell_type": "markdown",
   "id": "3dc8c8dc",
   "metadata": {},
   "source": [
    "## arb_Arab"
   ]
  },
  {
   "cell_type": "code",
   "execution_count": null,
   "id": "83c937e8",
   "metadata": {},
   "outputs": [],
   "source": [
    "lang = 'arb_Arab'"
   ]
  },
  {
   "cell_type": "code",
   "execution_count": null,
   "id": "6356f31a",
   "metadata": {},
   "outputs": [],
   "source": [
    "df = pd.read_csv(f'/home/manuel/Documents/oii/moderation_workforce/data/calibration_fasttext/twitter/samples_annotated/calibration_fasttext - {lang}.csv')\n",
    "df.head()"
   ]
  },
  {
   "cell_type": "code",
   "execution_count": null,
   "id": "877a0391",
   "metadata": {},
   "outputs": [],
   "source": [
    "df['class'].value_counts(dropna=False)"
   ]
  },
  {
   "cell_type": "code",
   "execution_count": null,
   "id": "a5e69c56",
   "metadata": {},
   "outputs": [],
   "source": [
    "df['class'] = df['class'].astype(float)"
   ]
  },
  {
   "cell_type": "code",
   "execution_count": null,
   "id": "07f28f99",
   "metadata": {},
   "outputs": [],
   "source": [
    "import numpy as np\n",
    "import pandas as pd\n",
    "from sklearn.isotonic import IsotonicRegression\n",
    "from sklearn.linear_model import LogisticRegression\n",
    "\n",
    "# Assuming df with columns 'label_deu' (raw scores) and 'class' (binary labels)\n",
    "\n",
    "X = df[f'label_{lang}'].values.reshape(-1, 1)  # raw model scores (e.g., predicted probs or logits)\n",
    "y = df['class'].values                     # true binary labels (0/1)\n",
    "\n",
    "# # Fit Platt scaling logistic regression on the raw scores\n",
    "# platt_scaler = LogisticRegression(solver='lbfgs')  # default params are fine\n",
    "# platt_scaler.fit(X, y)\n",
    "\n",
    "# # Predict calibrated probabilities using Platt scaling\n",
    "# calibrated_platt = platt_scaler.predict_proba(X)[:, 1]\n",
    "\n",
    "# Fit isotonic regression calibration (for comparison)\n",
    "iso_reg = IsotonicRegression(out_of_bounds='clip')\n",
    "calibrated_isotonic = iso_reg.fit_transform(df[f'label_{lang}'], y)\n",
    "\n",
    "# Add calibrated scores to DataFrame\n",
    "# df['calibrated_platt'] = calibrated_platt\n",
    "df['calibrated_isotonic'] = calibrated_isotonic\n",
    "\n"
   ]
  },
  {
   "cell_type": "code",
   "execution_count": null,
   "id": "76c7cd8f",
   "metadata": {},
   "outputs": [],
   "source": [
    "df.tail()"
   ]
  },
  {
   "cell_type": "code",
   "execution_count": null,
   "id": "9273260d",
   "metadata": {},
   "outputs": [],
   "source": [
    "df['bin'] = (np.arange(len(df)) // 10)\n",
    "df.head()"
   ]
  },
  {
   "cell_type": "code",
   "execution_count": null,
   "id": "35c56aa8",
   "metadata": {},
   "outputs": [],
   "source": [
    "bin_averages = df.groupby('bin').agg({\n",
    "    'class': 'mean',\n",
    "#     'calibrated_platt': 'mean',    \n",
    "    'calibrated_isotonic': 'mean',\n",
    "    f'label_{lang}': 'mean',}).reset_index()\n",
    "bin_averages"
   ]
  },
  {
   "cell_type": "code",
   "execution_count": null,
   "id": "33ae7ad6",
   "metadata": {},
   "outputs": [],
   "source": [
    "import matplotlib.pyplot as plt\n",
    "\n",
    "# Use your DataFrame\n",
    "# df = your DataFrame with columns: 'calibrated_isotonic', 'label_arb_Arab'\n",
    "\n",
    "plt.figure(figsize=(6, 6))\n",
    "plt.plot(bin_averages[\"calibrated_isotonic\"], bin_averages[\"class\"], \"s-\", label=\"Isotonic calibrated\")\n",
    "plt.plot([0, 1], [0, 1], \"k--\", label=\"Perfect calibration\")\n",
    "plt.xlabel(\"Mean predicted probability (bin average)\")\n",
    "plt.ylabel(\"Fraction of positives\")\n",
    "plt.title(\"Calibration Curve (Isotonic)\")\n",
    "plt.legend()\n",
    "plt.grid(True)\n",
    "plt.tight_layout()\n",
    "plt.show()\n"
   ]
  },
  {
   "cell_type": "code",
   "execution_count": null,
   "id": "baafb247",
   "metadata": {},
   "outputs": [],
   "source": [
    "iso_reg.transform([0.0000001])"
   ]
  },
  {
   "cell_type": "code",
   "execution_count": null,
   "id": "175ed7e6",
   "metadata": {},
   "outputs": [],
   "source": [
    "iso_reg.transform([0.01])"
   ]
  },
  {
   "cell_type": "code",
   "execution_count": null,
   "id": "3132ccd0",
   "metadata": {},
   "outputs": [],
   "source": [
    "iso_reg.transform([0.1])"
   ]
  },
  {
   "cell_type": "code",
   "execution_count": null,
   "id": "4ba706c7",
   "metadata": {},
   "outputs": [],
   "source": []
  },
  {
   "cell_type": "code",
   "execution_count": null,
   "id": "9212cab0",
   "metadata": {},
   "outputs": [],
   "source": [
    "# Save the model\n",
    "joblib.dump(iso_reg, f'/home/manuel/Documents/oii/moderation_workforce/data/calibration_fasttext/twitter/calibration_models/isotonic_regression_model_{lang}.joblib')"
   ]
  },
  {
   "cell_type": "code",
   "execution_count": null,
   "id": "e9ec8530",
   "metadata": {},
   "outputs": [],
   "source": []
  },
  {
   "cell_type": "markdown",
   "id": "4b5df11a",
   "metadata": {},
   "source": [
    "## eng"
   ]
  },
  {
   "cell_type": "code",
   "execution_count": null,
   "id": "decf9294",
   "metadata": {},
   "outputs": [],
   "source": [
    "lang = 'eng'"
   ]
  },
  {
   "cell_type": "code",
   "execution_count": null,
   "id": "ef481957",
   "metadata": {},
   "outputs": [],
   "source": [
    "df = pd.read_csv(f'/home/manuel/Documents/oii/moderation_workforce/data/calibration_fasttext/twitter/samples_annotated/calibration_fasttext - {lang}.csv')\n",
    "df.head()"
   ]
  },
  {
   "cell_type": "code",
   "execution_count": null,
   "id": "ecfbeec4",
   "metadata": {},
   "outputs": [],
   "source": [
    "df['class'].value_counts(dropna=False)"
   ]
  },
  {
   "cell_type": "code",
   "execution_count": null,
   "id": "8f82e5ec",
   "metadata": {},
   "outputs": [],
   "source": [
    "df['class'] = df['class'].astype(float)"
   ]
  },
  {
   "cell_type": "code",
   "execution_count": null,
   "id": "d54690cc",
   "metadata": {},
   "outputs": [],
   "source": [
    "import numpy as np\n",
    "import pandas as pd\n",
    "from sklearn.isotonic import IsotonicRegression\n",
    "from sklearn.linear_model import LogisticRegression\n",
    "\n",
    "# Assuming df with columns 'label_deu' (raw scores) and 'class' (binary labels)\n",
    "\n",
    "X = df[f'label_{lang}'].values.reshape(-1, 1)  # raw model scores (e.g., predicted probs or logits)\n",
    "y = df['class'].values                     # true binary labels (0/1)\n",
    "\n",
    "# # Fit Platt scaling logistic regression on the raw scores\n",
    "# platt_scaler = LogisticRegression(solver='lbfgs')  # default params are fine\n",
    "# platt_scaler.fit(X, y)\n",
    "\n",
    "# # Predict calibrated probabilities using Platt scaling\n",
    "# calibrated_platt = platt_scaler.predict_proba(X)[:, 1]\n",
    "\n",
    "# Fit isotonic regression calibration (for comparison)\n",
    "iso_reg = IsotonicRegression(out_of_bounds='clip')\n",
    "calibrated_isotonic = iso_reg.fit_transform(df[f'label_{lang}'], y)\n",
    "\n",
    "# Add calibrated scores to DataFrame\n",
    "# df['calibrated_platt'] = calibrated_platt\n",
    "df['calibrated_isotonic'] = calibrated_isotonic\n",
    "\n"
   ]
  },
  {
   "cell_type": "code",
   "execution_count": null,
   "id": "2e74b445",
   "metadata": {},
   "outputs": [],
   "source": [
    "df.tail()"
   ]
  },
  {
   "cell_type": "code",
   "execution_count": null,
   "id": "4ee710b1",
   "metadata": {},
   "outputs": [],
   "source": [
    "df['bin'] = (np.arange(len(df)) // 10)\n",
    "df.head()"
   ]
  },
  {
   "cell_type": "code",
   "execution_count": null,
   "id": "c913d777",
   "metadata": {},
   "outputs": [],
   "source": [
    "bin_averages = df.groupby('bin').agg({\n",
    "    'class': 'mean',\n",
    "#     'calibrated_platt': 'mean',    \n",
    "    'calibrated_isotonic': 'mean',\n",
    "    f'label_{lang}': 'mean',}).reset_index()\n",
    "bin_averages"
   ]
  },
  {
   "cell_type": "code",
   "execution_count": null,
   "id": "8c043289",
   "metadata": {},
   "outputs": [],
   "source": [
    "import matplotlib.pyplot as plt\n",
    "\n",
    "# Use your DataFrame\n",
    "# df = your DataFrame with columns: 'calibrated_isotonic', 'label_arb_Arab'\n",
    "\n",
    "plt.figure(figsize=(6, 6))\n",
    "plt.plot(bin_averages[\"calibrated_isotonic\"], bin_averages[\"class\"], \"s-\", label=\"Isotonic calibrated\")\n",
    "plt.plot([0, 1], [0, 1], \"k--\", label=\"Perfect calibration\")\n",
    "plt.xlabel(\"Calibrated score\")\n",
    "plt.ylabel(\"Fraction of positives\")\n",
    "plt.title(\"Calibration Curve (Isotonic)\")\n",
    "plt.legend()\n",
    "plt.grid(True)\n",
    "plt.tight_layout()\n",
    "plt.show()\n"
   ]
  },
  {
   "cell_type": "code",
   "execution_count": null,
   "id": "dc2e2888",
   "metadata": {},
   "outputs": [],
   "source": []
  },
  {
   "cell_type": "code",
   "execution_count": null,
   "id": "3fcfab29",
   "metadata": {},
   "outputs": [],
   "source": [
    "iso_reg.transform([0.0000001])"
   ]
  },
  {
   "cell_type": "code",
   "execution_count": null,
   "id": "5e6f4a82",
   "metadata": {},
   "outputs": [],
   "source": [
    "iso_reg.transform([0.01])"
   ]
  },
  {
   "cell_type": "code",
   "execution_count": null,
   "id": "f4c1ebb6",
   "metadata": {},
   "outputs": [],
   "source": [
    "iso_reg.transform([0.1])"
   ]
  },
  {
   "cell_type": "code",
   "execution_count": null,
   "id": "7efcd8d8",
   "metadata": {},
   "outputs": [],
   "source": [
    "# Save the model\n",
    "joblib.dump(iso_reg, f'/home/manuel/Documents/oii/moderation_workforce/data/calibration_fasttext/twitter/calibration_models/isotonic_regression_model_{lang}.joblib')"
   ]
  },
  {
   "cell_type": "code",
   "execution_count": null,
   "id": "c33cc0a6",
   "metadata": {},
   "outputs": [],
   "source": []
  },
  {
   "cell_type": "markdown",
   "id": "84d691af",
   "metadata": {},
   "source": [
    "## eng_new"
   ]
  },
  {
   "cell_type": "code",
   "execution_count": null,
   "id": "fe05b2f3",
   "metadata": {},
   "outputs": [],
   "source": [
    "lang = 'eng_new'"
   ]
  },
  {
   "cell_type": "code",
   "execution_count": null,
   "id": "c00ca317",
   "metadata": {},
   "outputs": [],
   "source": [
    "df = pd.read_csv(f'/home/manuel/Documents/oii/moderation_workforce/data/calibration_fasttext/twitter/samples_annotated/calibration_fasttext - {lang}.csv')\n",
    "df.head()"
   ]
  },
  {
   "cell_type": "code",
   "execution_count": null,
   "id": "09d7183c",
   "metadata": {},
   "outputs": [],
   "source": [
    "df['class'].value_counts(dropna=False)"
   ]
  },
  {
   "cell_type": "code",
   "execution_count": null,
   "id": "a4b9d32f",
   "metadata": {},
   "outputs": [],
   "source": [
    "df['class'] = df['class'].astype(float)"
   ]
  },
  {
   "cell_type": "code",
   "execution_count": null,
   "id": "5b451e5f",
   "metadata": {},
   "outputs": [],
   "source": [
    "import numpy as np\n",
    "import pandas as pd\n",
    "from sklearn.isotonic import IsotonicRegression\n",
    "from sklearn.linear_model import LogisticRegression\n",
    "\n",
    "# Assuming df with columns 'label_deu' (raw scores) and 'class' (binary labels)\n",
    "\n",
    "X = df[f'label_eng'].values.reshape(-1, 1)  # raw model scores (e.g., predicted probs or logits)\n",
    "y = df['class'].values                     # true binary labels (0/1)\n",
    "\n",
    "# # Fit Platt scaling logistic regression on the raw scores\n",
    "# platt_scaler = LogisticRegression(solver='lbfgs')  # default params are fine\n",
    "# platt_scaler.fit(X, y)\n",
    "\n",
    "# # Predict calibrated probabilities using Platt scaling\n",
    "# calibrated_platt = platt_scaler.predict_proba(X)[:, 1]\n",
    "\n",
    "# Fit isotonic regression calibration (for comparison)\n",
    "iso_reg = IsotonicRegression(out_of_bounds='clip')\n",
    "calibrated_isotonic = iso_reg.fit_transform(df[f'label_eng'], y)\n",
    "\n",
    "# Add calibrated scores to DataFrame\n",
    "# df['calibrated_platt'] = calibrated_platt\n",
    "df['calibrated_isotonic'] = calibrated_isotonic\n",
    "\n"
   ]
  },
  {
   "cell_type": "code",
   "execution_count": null,
   "id": "6c94bd3a",
   "metadata": {},
   "outputs": [],
   "source": [
    "df.tail()"
   ]
  },
  {
   "cell_type": "code",
   "execution_count": null,
   "id": "766de06c",
   "metadata": {},
   "outputs": [],
   "source": [
    "df['bin'] = (np.arange(len(df)) // 10)\n",
    "df.head()"
   ]
  },
  {
   "cell_type": "code",
   "execution_count": null,
   "id": "5ebbb174",
   "metadata": {},
   "outputs": [],
   "source": [
    "bin_averages = df.groupby('bin').agg({\n",
    "    'class': 'mean',\n",
    "#     'calibrated_platt': 'mean',    \n",
    "    'calibrated_isotonic': 'mean',\n",
    "    f'label_eng': 'mean',}).reset_index()\n",
    "bin_averages"
   ]
  },
  {
   "cell_type": "code",
   "execution_count": null,
   "id": "e7ccfa57",
   "metadata": {},
   "outputs": [],
   "source": [
    "import matplotlib.pyplot as plt\n",
    "\n",
    "# Use your DataFrame\n",
    "# df = your DataFrame with columns: 'calibrated_isotonic', 'label_arb_Arab'\n",
    "\n",
    "plt.figure(figsize=(6, 6))\n",
    "plt.plot(bin_averages[\"calibrated_isotonic\"], bin_averages[\"class\"], \"s-\", label=\"Isotonic calibrated\")\n",
    "plt.plot([0, 1], [0, 1], \"k--\", label=\"Perfect calibration\")\n",
    "plt.xlabel(\"Calibrated score\")\n",
    "plt.ylabel(\"Fraction of positives\")\n",
    "plt.title(\"Calibration Curve (Isotonic)\")\n",
    "plt.legend()\n",
    "plt.grid(True)\n",
    "plt.tight_layout()\n",
    "plt.show()\n"
   ]
  },
  {
   "cell_type": "code",
   "execution_count": null,
   "id": "c7ee30d7",
   "metadata": {},
   "outputs": [],
   "source": []
  },
  {
   "cell_type": "code",
   "execution_count": null,
   "id": "0bb5f513",
   "metadata": {},
   "outputs": [],
   "source": [
    "iso_reg.transform([0.0000001])"
   ]
  },
  {
   "cell_type": "code",
   "execution_count": null,
   "id": "262b4969",
   "metadata": {},
   "outputs": [],
   "source": [
    "iso_reg.transform([0.0000001])"
   ]
  },
  {
   "cell_type": "code",
   "execution_count": null,
   "id": "ed11354f",
   "metadata": {},
   "outputs": [],
   "source": [
    "iso_reg.transform([0.01])"
   ]
  },
  {
   "cell_type": "code",
   "execution_count": null,
   "id": "8ae722d2",
   "metadata": {},
   "outputs": [],
   "source": [
    "iso_reg.transform([0.1])"
   ]
  },
  {
   "cell_type": "code",
   "execution_count": null,
   "id": "b34c97f7",
   "metadata": {},
   "outputs": [],
   "source": [
    "# Save the model\n",
    "joblib.dump(iso_reg, f'/home/manuel/Documents/oii/moderation_workforce/data/calibration_fasttext/twitter/calibration_models/isotonic_regression_model_{lang}.joblib')"
   ]
  },
  {
   "cell_type": "markdown",
   "id": "8831e3d2",
   "metadata": {},
   "source": [
    "## bul"
   ]
  },
  {
   "cell_type": "code",
   "execution_count": null,
   "id": "e3235ad6",
   "metadata": {},
   "outputs": [],
   "source": [
    "lang = 'bul'"
   ]
  },
  {
   "cell_type": "code",
   "execution_count": null,
   "id": "b4b00ff8",
   "metadata": {},
   "outputs": [],
   "source": [
    "df = pd.read_csv(f'/home/manuel/Documents/oii/moderation_workforce/data/calibration_fasttext/twitter/samples_annotated/calibration_fasttext - {lang}.csv')\n",
    "df.head()"
   ]
  },
  {
   "cell_type": "code",
   "execution_count": null,
   "id": "8836458d",
   "metadata": {},
   "outputs": [],
   "source": [
    "df['class'].value_counts(dropna=False)"
   ]
  },
  {
   "cell_type": "code",
   "execution_count": null,
   "id": "701e1807",
   "metadata": {},
   "outputs": [],
   "source": [
    "df['class'] = df['class'].astype(float)"
   ]
  },
  {
   "cell_type": "code",
   "execution_count": null,
   "id": "57673e62",
   "metadata": {},
   "outputs": [],
   "source": [
    "import numpy as np\n",
    "import pandas as pd\n",
    "from sklearn.isotonic import IsotonicRegression\n",
    "from sklearn.linear_model import LogisticRegression\n",
    "\n",
    "# Assuming df with columns 'label_deu' (raw scores) and 'class' (binary labels)\n",
    "\n",
    "X = df[f'label_{lang}'].values.reshape(-1, 1)  # raw model scores (e.g., predicted probs or logits)\n",
    "y = df['class'].values                     # true binary labels (0/1)\n",
    "\n",
    "# # Fit Platt scaling logistic regression on the raw scores\n",
    "# platt_scaler = LogisticRegression(solver='lbfgs')  # default params are fine\n",
    "# platt_scaler.fit(X, y)\n",
    "\n",
    "# # Predict calibrated probabilities using Platt scaling\n",
    "# calibrated_platt = platt_scaler.predict_proba(X)[:, 1]\n",
    "\n",
    "# Fit isotonic regression calibration (for comparison)\n",
    "iso_reg = IsotonicRegression(out_of_bounds='clip')\n",
    "calibrated_isotonic = iso_reg.fit_transform(df[f'label_{lang}'], y)\n",
    "\n",
    "# Add calibrated scores to DataFrame\n",
    "# df['calibrated_platt'] = calibrated_platt\n",
    "df['calibrated_isotonic'] = calibrated_isotonic\n",
    "\n"
   ]
  },
  {
   "cell_type": "code",
   "execution_count": null,
   "id": "33af1add",
   "metadata": {},
   "outputs": [],
   "source": [
    "df.tail()"
   ]
  },
  {
   "cell_type": "code",
   "execution_count": null,
   "id": "07dab6a5",
   "metadata": {},
   "outputs": [],
   "source": [
    "df['bin'] = (np.arange(len(df)) // 10)\n",
    "df.head()"
   ]
  },
  {
   "cell_type": "code",
   "execution_count": null,
   "id": "b3008ddc",
   "metadata": {},
   "outputs": [],
   "source": [
    "bin_averages = df.groupby('bin').agg({\n",
    "    'class': 'mean',\n",
    "#     'calibrated_platt': 'mean',    \n",
    "    'calibrated_isotonic': 'mean',\n",
    "    f'label_{lang}': 'mean',}).reset_index()\n",
    "bin_averages"
   ]
  },
  {
   "cell_type": "code",
   "execution_count": null,
   "id": "8d175a31",
   "metadata": {},
   "outputs": [],
   "source": [
    "import matplotlib.pyplot as plt\n",
    "\n",
    "# Use your DataFrame\n",
    "# df = your DataFrame with columns: 'calibrated_isotonic', 'label_arb_Arab'\n",
    "\n",
    "plt.figure(figsize=(6, 6))\n",
    "plt.plot(bin_averages[\"calibrated_isotonic\"], bin_averages[\"class\"], \"s-\", label=\"Isotonic calibrated\")\n",
    "plt.plot([0, 1], [0, 1], \"k--\", label=\"Perfect calibration\")\n",
    "plt.xlabel(\"Mean predicted probability (bin average)\")\n",
    "plt.ylabel(\"Fraction of positives\")\n",
    "plt.title(\"Calibration Curve (Isotonic)\")\n",
    "plt.legend()\n",
    "plt.grid(True)\n",
    "plt.tight_layout()\n",
    "plt.show()\n"
   ]
  },
  {
   "cell_type": "code",
   "execution_count": null,
   "id": "d74c7a38",
   "metadata": {},
   "outputs": [],
   "source": []
  },
  {
   "cell_type": "code",
   "execution_count": null,
   "id": "0fd7445c",
   "metadata": {},
   "outputs": [],
   "source": [
    "iso_reg.transform([0.0000001])"
   ]
  },
  {
   "cell_type": "code",
   "execution_count": null,
   "id": "3095ff29",
   "metadata": {},
   "outputs": [],
   "source": [
    "iso_reg.transform([0.01])"
   ]
  },
  {
   "cell_type": "code",
   "execution_count": null,
   "id": "4279b90f",
   "metadata": {},
   "outputs": [],
   "source": [
    "iso_reg.transform([0.1])"
   ]
  },
  {
   "cell_type": "code",
   "execution_count": null,
   "id": "d4611943",
   "metadata": {},
   "outputs": [],
   "source": [
    "# Save the model\n",
    "joblib.dump(iso_reg, f'/home/manuel/Documents/oii/moderation_workforce/data/calibration_fasttext/twitter/calibration_models/isotonic_regression_model_{lang}.joblib')"
   ]
  },
  {
   "cell_type": "code",
   "execution_count": null,
   "id": "0713f0ff",
   "metadata": {},
   "outputs": [],
   "source": []
  },
  {
   "cell_type": "markdown",
   "id": "ef276917",
   "metadata": {},
   "source": [
    "## heb"
   ]
  },
  {
   "cell_type": "code",
   "execution_count": null,
   "id": "7aec3b2f",
   "metadata": {},
   "outputs": [],
   "source": [
    "lang = 'heb'"
   ]
  },
  {
   "cell_type": "code",
   "execution_count": null,
   "id": "a6748b3c",
   "metadata": {},
   "outputs": [],
   "source": [
    "df = pd.read_csv(f'/home/manuel/Documents/oii/moderation_workforce/data/calibration_fasttext/twitter/samples_annotated/calibration_fasttext - {lang}.csv')\n",
    "df.head()"
   ]
  },
  {
   "cell_type": "code",
   "execution_count": null,
   "id": "94a95061",
   "metadata": {},
   "outputs": [],
   "source": [
    "df['class'].value_counts(dropna=False)"
   ]
  },
  {
   "cell_type": "code",
   "execution_count": null,
   "id": "307b6ac7",
   "metadata": {},
   "outputs": [],
   "source": [
    "df['class'] = df['class'].astype(float)"
   ]
  },
  {
   "cell_type": "code",
   "execution_count": null,
   "id": "97ba4e19",
   "metadata": {},
   "outputs": [],
   "source": [
    "import numpy as np\n",
    "import pandas as pd\n",
    "from sklearn.isotonic import IsotonicRegression\n",
    "from sklearn.linear_model import LogisticRegression\n",
    "\n",
    "# Assuming df with columns 'label_deu' (raw scores) and 'class' (binary labels)\n",
    "\n",
    "X = df[f'label_{lang}'].values.reshape(-1, 1)  # raw model scores (e.g., predicted probs or logits)\n",
    "y = df['class'].values                     # true binary labels (0/1)\n",
    "\n",
    "# # Fit Platt scaling logistic regression on the raw scores\n",
    "# platt_scaler = LogisticRegression(solver='lbfgs')  # default params are fine\n",
    "# platt_scaler.fit(X, y)\n",
    "\n",
    "# # Predict calibrated probabilities using Platt scaling\n",
    "# calibrated_platt = platt_scaler.predict_proba(X)[:, 1]\n",
    "\n",
    "# Fit isotonic regression calibration (for comparison)\n",
    "iso_reg = IsotonicRegression(out_of_bounds='clip')\n",
    "calibrated_isotonic = iso_reg.fit_transform(df[f'label_{lang}'], y)\n",
    "\n",
    "# Add calibrated scores to DataFrame\n",
    "# df['calibrated_platt'] = calibrated_platt\n",
    "df['calibrated_isotonic'] = calibrated_isotonic\n",
    "\n"
   ]
  },
  {
   "cell_type": "code",
   "execution_count": null,
   "id": "ffc0e6d4",
   "metadata": {},
   "outputs": [],
   "source": [
    "df.tail()"
   ]
  },
  {
   "cell_type": "code",
   "execution_count": null,
   "id": "e903401d",
   "metadata": {},
   "outputs": [],
   "source": [
    "df['bin'] = (np.arange(len(df)) // 10)\n",
    "df.head()"
   ]
  },
  {
   "cell_type": "code",
   "execution_count": null,
   "id": "99b3e40a",
   "metadata": {},
   "outputs": [],
   "source": [
    "bin_averages = df.groupby('bin').agg({\n",
    "    'class': 'mean',\n",
    "#     'calibrated_platt': 'mean',    \n",
    "    'calibrated_isotonic': 'mean',\n",
    "    f'label_{lang}': 'mean',}).reset_index()\n",
    "bin_averages"
   ]
  },
  {
   "cell_type": "code",
   "execution_count": null,
   "id": "0fd228b8",
   "metadata": {},
   "outputs": [],
   "source": [
    "import matplotlib.pyplot as plt\n",
    "\n",
    "# Use your DataFrame\n",
    "# df = your DataFrame with columns: 'calibrated_isotonic', 'label_arb_Arab'\n",
    "\n",
    "plt.figure(figsize=(6, 6))\n",
    "plt.plot(bin_averages[\"calibrated_isotonic\"], bin_averages[\"class\"], \"s-\", label=\"Isotonic calibrated\")\n",
    "plt.plot([0, 1], [0, 1], \"k--\", label=\"Perfect calibration\")\n",
    "plt.xlabel(\"Mean predicted probability (bin average)\")\n",
    "plt.ylabel(\"Fraction of positives\")\n",
    "plt.title(\"Calibration Curve (Isotonic)\")\n",
    "plt.legend()\n",
    "plt.grid(True)\n",
    "plt.tight_layout()\n",
    "plt.show()\n"
   ]
  },
  {
   "cell_type": "code",
   "execution_count": null,
   "id": "a4135aa9",
   "metadata": {},
   "outputs": [],
   "source": []
  },
  {
   "cell_type": "code",
   "execution_count": null,
   "id": "46bcc93f",
   "metadata": {},
   "outputs": [],
   "source": [
    "iso_reg.transform([0.0000001])"
   ]
  },
  {
   "cell_type": "code",
   "execution_count": null,
   "id": "bd7dd68a",
   "metadata": {},
   "outputs": [],
   "source": [
    "iso_reg.transform([0.01])"
   ]
  },
  {
   "cell_type": "code",
   "execution_count": null,
   "id": "aab8ba31",
   "metadata": {},
   "outputs": [],
   "source": [
    "iso_reg.transform([0.1])"
   ]
  },
  {
   "cell_type": "code",
   "execution_count": null,
   "id": "cd8e216d",
   "metadata": {},
   "outputs": [],
   "source": [
    "# Save the model\n",
    "joblib.dump(iso_reg, f'/home/manuel/Documents/oii/moderation_workforce/data/calibration_fasttext/twitter/calibration_models/isotonic_regression_model_{lang}.joblib')"
   ]
  },
  {
   "cell_type": "code",
   "execution_count": null,
   "id": "3667e4b1",
   "metadata": {},
   "outputs": [],
   "source": []
  },
  {
   "cell_type": "markdown",
   "id": "539a86ab",
   "metadata": {},
   "source": [
    "## nld"
   ]
  },
  {
   "cell_type": "code",
   "execution_count": null,
   "id": "6ae977db",
   "metadata": {},
   "outputs": [],
   "source": [
    "lang = 'nld'"
   ]
  },
  {
   "cell_type": "code",
   "execution_count": null,
   "id": "e166561d",
   "metadata": {},
   "outputs": [],
   "source": [
    "df = pd.read_csv(f'/home/manuel/Documents/oii/moderation_workforce/data/calibration_fasttext/twitter/samples_annotated/calibration_fasttext - {lang}.csv')\n",
    "df.head()"
   ]
  },
  {
   "cell_type": "code",
   "execution_count": null,
   "id": "2765d00b",
   "metadata": {},
   "outputs": [],
   "source": [
    "df['class'].value_counts(dropna=False)"
   ]
  },
  {
   "cell_type": "code",
   "execution_count": null,
   "id": "84bd7255",
   "metadata": {},
   "outputs": [],
   "source": [
    "df['class'] = df['class'].astype(float)"
   ]
  },
  {
   "cell_type": "code",
   "execution_count": null,
   "id": "1b9728bd",
   "metadata": {},
   "outputs": [],
   "source": [
    "import numpy as np\n",
    "import pandas as pd\n",
    "from sklearn.isotonic import IsotonicRegression\n",
    "from sklearn.linear_model import LogisticRegression\n",
    "\n",
    "# Assuming df with columns 'label_deu' (raw scores) and 'class' (binary labels)\n",
    "\n",
    "X = df[f'label_{lang}'].values.reshape(-1, 1)  # raw model scores (e.g., predicted probs or logits)\n",
    "y = df['class'].values                     # true binary labels (0/1)\n",
    "\n",
    "# # Fit Platt scaling logistic regression on the raw scores\n",
    "# platt_scaler = LogisticRegression(solver='lbfgs')  # default params are fine\n",
    "# platt_scaler.fit(X, y)\n",
    "\n",
    "# # Predict calibrated probabilities using Platt scaling\n",
    "# calibrated_platt = platt_scaler.predict_proba(X)[:, 1]\n",
    "\n",
    "# Fit isotonic regression calibration (for comparison)\n",
    "iso_reg = IsotonicRegression(out_of_bounds='clip')\n",
    "calibrated_isotonic = iso_reg.fit_transform(df[f'label_{lang}'], y)\n",
    "\n",
    "# Add calibrated scores to DataFrame\n",
    "# df['calibrated_platt'] = calibrated_platt\n",
    "df['calibrated_isotonic'] = calibrated_isotonic\n",
    "\n"
   ]
  },
  {
   "cell_type": "code",
   "execution_count": null,
   "id": "56298b62",
   "metadata": {},
   "outputs": [],
   "source": [
    "df.tail()"
   ]
  },
  {
   "cell_type": "code",
   "execution_count": null,
   "id": "498e83a4",
   "metadata": {},
   "outputs": [],
   "source": [
    "df['bin'] = (np.arange(len(df)) // 10)\n",
    "df.head()"
   ]
  },
  {
   "cell_type": "code",
   "execution_count": null,
   "id": "6720768b",
   "metadata": {},
   "outputs": [],
   "source": [
    "bin_averages = df.groupby('bin').agg({\n",
    "    'class': 'mean',\n",
    "#     'calibrated_platt': 'mean',    \n",
    "    'calibrated_isotonic': 'mean',\n",
    "    f'label_{lang}': 'mean',}).reset_index()\n",
    "bin_averages"
   ]
  },
  {
   "cell_type": "code",
   "execution_count": null,
   "id": "8dd2a306",
   "metadata": {},
   "outputs": [],
   "source": [
    "import matplotlib.pyplot as plt\n",
    "\n",
    "# Use your DataFrame\n",
    "# df = your DataFrame with columns: 'calibrated_isotonic', 'label_arb_Arab'\n",
    "\n",
    "plt.figure(figsize=(6, 6))\n",
    "plt.plot(bin_averages[\"calibrated_isotonic\"], bin_averages[\"class\"], \"s-\", label=\"Isotonic calibrated\")\n",
    "plt.plot([0, 1], [0, 1], \"k--\", label=\"Perfect calibration\")\n",
    "plt.xlabel(\"Mean predicted probability (bin average)\")\n",
    "plt.ylabel(\"Fraction of positives\")\n",
    "plt.title(\"Calibration Curve (Isotonic)\")\n",
    "plt.legend()\n",
    "plt.grid(True)\n",
    "plt.tight_layout()\n",
    "plt.show()\n"
   ]
  },
  {
   "cell_type": "code",
   "execution_count": null,
   "id": "3deb6026",
   "metadata": {},
   "outputs": [],
   "source": []
  },
  {
   "cell_type": "code",
   "execution_count": null,
   "id": "53b8b4a1",
   "metadata": {},
   "outputs": [],
   "source": [
    "iso_reg.transform([0.0000001])"
   ]
  },
  {
   "cell_type": "code",
   "execution_count": null,
   "id": "fedd7490",
   "metadata": {},
   "outputs": [],
   "source": [
    "iso_reg.transform([0.01])"
   ]
  },
  {
   "cell_type": "code",
   "execution_count": null,
   "id": "13a99d13",
   "metadata": {},
   "outputs": [],
   "source": [
    "iso_reg.transform([0.1])"
   ]
  },
  {
   "cell_type": "code",
   "execution_count": null,
   "id": "13a1ae65",
   "metadata": {},
   "outputs": [],
   "source": [
    "# Save the model\n",
    "joblib.dump(iso_reg, f'/home/manuel/Documents/oii/moderation_workforce/data/calibration_fasttext/twitter/calibration_models/isotonic_regression_model_{lang}.joblib')"
   ]
  },
  {
   "cell_type": "code",
   "execution_count": null,
   "id": "aea810a4",
   "metadata": {},
   "outputs": [],
   "source": []
  },
  {
   "cell_type": "markdown",
   "id": "2e06b7fa",
   "metadata": {},
   "source": [
    "## pol"
   ]
  },
  {
   "cell_type": "code",
   "execution_count": null,
   "id": "7001e427",
   "metadata": {},
   "outputs": [],
   "source": [
    "lang = 'pol'"
   ]
  },
  {
   "cell_type": "code",
   "execution_count": null,
   "id": "213913b5",
   "metadata": {},
   "outputs": [],
   "source": [
    "df = pd.read_csv(f'/home/manuel/Documents/oii/moderation_workforce/data/calibration_fasttext/twitter/samples_annotated/calibration_fasttext - {lang}.csv')\n",
    "df.head()"
   ]
  },
  {
   "cell_type": "code",
   "execution_count": null,
   "id": "bb354670",
   "metadata": {},
   "outputs": [],
   "source": [
    "df['class'].value_counts(dropna=False)"
   ]
  },
  {
   "cell_type": "code",
   "execution_count": null,
   "id": "f3ea2403",
   "metadata": {},
   "outputs": [],
   "source": [
    "df['class'] = df['class'].astype(float)"
   ]
  },
  {
   "cell_type": "code",
   "execution_count": null,
   "id": "a36e042d",
   "metadata": {},
   "outputs": [],
   "source": [
    "import numpy as np\n",
    "import pandas as pd\n",
    "from sklearn.isotonic import IsotonicRegression\n",
    "from sklearn.linear_model import LogisticRegression\n",
    "\n",
    "# Assuming df with columns 'label_deu' (raw scores) and 'class' (binary labels)\n",
    "\n",
    "X = df[f'label_{lang}'].values.reshape(-1, 1)  # raw model scores (e.g., predicted probs or logits)\n",
    "y = df['class'].values                     # true binary labels (0/1)\n",
    "\n",
    "# # Fit Platt scaling logistic regression on the raw scores\n",
    "# platt_scaler = LogisticRegression(solver='lbfgs')  # default params are fine\n",
    "# platt_scaler.fit(X, y)\n",
    "\n",
    "# # Predict calibrated probabilities using Platt scaling\n",
    "# calibrated_platt = platt_scaler.predict_proba(X)[:, 1]\n",
    "\n",
    "# Fit isotonic regression calibration (for comparison)\n",
    "iso_reg = IsotonicRegression(out_of_bounds='clip')\n",
    "calibrated_isotonic = iso_reg.fit_transform(df[f'label_{lang}'], y)\n",
    "\n",
    "# Add calibrated scores to DataFrame\n",
    "# df['calibrated_platt'] = calibrated_platt\n",
    "df['calibrated_isotonic'] = calibrated_isotonic\n",
    "\n"
   ]
  },
  {
   "cell_type": "code",
   "execution_count": null,
   "id": "de6f1262",
   "metadata": {},
   "outputs": [],
   "source": [
    "df.tail()"
   ]
  },
  {
   "cell_type": "code",
   "execution_count": null,
   "id": "9bb40fe4",
   "metadata": {},
   "outputs": [],
   "source": [
    "df['bin'] = (np.arange(len(df)) // 10)\n",
    "df.head()"
   ]
  },
  {
   "cell_type": "code",
   "execution_count": null,
   "id": "2e10e63f",
   "metadata": {},
   "outputs": [],
   "source": [
    "bin_averages = df.groupby('bin').agg({\n",
    "    'class': 'mean',\n",
    "#     'calibrated_platt': 'mean',    \n",
    "    'calibrated_isotonic': 'mean',\n",
    "    f'label_{lang}': 'mean',}).reset_index()\n",
    "bin_averages"
   ]
  },
  {
   "cell_type": "code",
   "execution_count": null,
   "id": "a88530d0",
   "metadata": {},
   "outputs": [],
   "source": [
    "import matplotlib.pyplot as plt\n",
    "\n",
    "# Use your DataFrame\n",
    "# df = your DataFrame with columns: 'calibrated_isotonic', 'label_arb_Arab'\n",
    "\n",
    "plt.figure(figsize=(6, 6))\n",
    "plt.plot(bin_averages[\"calibrated_isotonic\"], bin_averages[\"class\"], \"s-\", label=\"Isotonic calibrated\")\n",
    "plt.plot([0, 1], [0, 1], \"k--\", label=\"Perfect calibration\")\n",
    "plt.xlabel(\"Mean predicted probability (bin average)\")\n",
    "plt.ylabel(\"Fraction of positives\")\n",
    "plt.title(\"Calibration Curve (Isotonic)\")\n",
    "plt.legend()\n",
    "plt.grid(True)\n",
    "plt.tight_layout()\n",
    "plt.show()\n"
   ]
  },
  {
   "cell_type": "code",
   "execution_count": null,
   "id": "287a68a5",
   "metadata": {},
   "outputs": [],
   "source": []
  },
  {
   "cell_type": "code",
   "execution_count": null,
   "id": "050c8053",
   "metadata": {},
   "outputs": [],
   "source": [
    "iso_reg.transform([0.0000001])"
   ]
  },
  {
   "cell_type": "code",
   "execution_count": null,
   "id": "a09505b0",
   "metadata": {},
   "outputs": [],
   "source": [
    "iso_reg.transform([0.01])"
   ]
  },
  {
   "cell_type": "code",
   "execution_count": null,
   "id": "5f9f15f8",
   "metadata": {},
   "outputs": [],
   "source": [
    "iso_reg.transform([0.1])"
   ]
  },
  {
   "cell_type": "code",
   "execution_count": null,
   "id": "18c8e6d7",
   "metadata": {},
   "outputs": [],
   "source": [
    "# Save the model\n",
    "joblib.dump(iso_reg, f'/home/manuel/Documents/oii/moderation_workforce/data/calibration_fasttext/twitter/calibration_models/isotonic_regression_model_{lang}.joblib')"
   ]
  },
  {
   "cell_type": "code",
   "execution_count": null,
   "id": "dbc55989",
   "metadata": {},
   "outputs": [],
   "source": []
  },
  {
   "cell_type": "markdown",
   "id": "3381d7ed",
   "metadata": {},
   "source": [
    "## por"
   ]
  },
  {
   "cell_type": "code",
   "execution_count": null,
   "id": "d88dd34c",
   "metadata": {},
   "outputs": [],
   "source": [
    "lang = 'por'"
   ]
  },
  {
   "cell_type": "code",
   "execution_count": null,
   "id": "fb516f38",
   "metadata": {},
   "outputs": [],
   "source": [
    "df = pd.read_csv(f'/home/manuel/Documents/oii/moderation_workforce/data/calibration_fasttext/twitter/samples_annotated/calibration_fasttext - {lang}.csv')\n",
    "df.head()"
   ]
  },
  {
   "cell_type": "code",
   "execution_count": null,
   "id": "829df59e",
   "metadata": {},
   "outputs": [],
   "source": [
    "df['class'].value_counts(dropna=False)"
   ]
  },
  {
   "cell_type": "code",
   "execution_count": null,
   "id": "47ce7672",
   "metadata": {},
   "outputs": [],
   "source": [
    "df['class'] = df['class'].astype(float)"
   ]
  },
  {
   "cell_type": "code",
   "execution_count": null,
   "id": "6ade410b",
   "metadata": {},
   "outputs": [],
   "source": [
    "import numpy as np\n",
    "import pandas as pd\n",
    "from sklearn.isotonic import IsotonicRegression\n",
    "from sklearn.linear_model import LogisticRegression\n",
    "\n",
    "# Assuming df with columns 'label_deu' (raw scores) and 'class' (binary labels)\n",
    "\n",
    "X = df[f'label_{lang}'].values.reshape(-1, 1)  # raw model scores (e.g., predicted probs or logits)\n",
    "y = df['class'].values                     # true binary labels (0/1)\n",
    "\n",
    "# # Fit Platt scaling logistic regression on the raw scores\n",
    "# platt_scaler = LogisticRegression(solver='lbfgs')  # default params are fine\n",
    "# platt_scaler.fit(X, y)\n",
    "\n",
    "# # Predict calibrated probabilities using Platt scaling\n",
    "# calibrated_platt = platt_scaler.predict_proba(X)[:, 1]\n",
    "\n",
    "# Fit isotonic regression calibration (for comparison)\n",
    "iso_reg = IsotonicRegression(out_of_bounds='clip')\n",
    "calibrated_isotonic = iso_reg.fit_transform(df[f'label_{lang}'], y)\n",
    "\n",
    "# Add calibrated scores to DataFrame\n",
    "# df['calibrated_platt'] = calibrated_platt\n",
    "df['calibrated_isotonic'] = calibrated_isotonic\n",
    "\n"
   ]
  },
  {
   "cell_type": "code",
   "execution_count": null,
   "id": "1643c778",
   "metadata": {},
   "outputs": [],
   "source": [
    "df.tail()"
   ]
  },
  {
   "cell_type": "code",
   "execution_count": null,
   "id": "1fabd893",
   "metadata": {},
   "outputs": [],
   "source": [
    "df['bin'] = (np.arange(len(df)) // 10)\n",
    "df.head()"
   ]
  },
  {
   "cell_type": "code",
   "execution_count": null,
   "id": "62830221",
   "metadata": {},
   "outputs": [],
   "source": [
    "bin_averages = df.groupby('bin').agg({\n",
    "    'class': 'mean',\n",
    "#     'calibrated_platt': 'mean',    \n",
    "    'calibrated_isotonic': 'mean',\n",
    "    f'label_{lang}': 'mean',}).reset_index()\n",
    "bin_averages"
   ]
  },
  {
   "cell_type": "code",
   "execution_count": null,
   "id": "fc2a5b1a",
   "metadata": {},
   "outputs": [],
   "source": [
    "import matplotlib.pyplot as plt\n",
    "\n",
    "# Use your DataFrame\n",
    "# df = your DataFrame with columns: 'calibrated_isotonic', 'label_arb_Arab'\n",
    "\n",
    "plt.figure(figsize=(6, 6))\n",
    "plt.plot(bin_averages[\"calibrated_isotonic\"], bin_averages[\"class\"], \"s-\", label=\"Isotonic calibrated\")\n",
    "plt.plot([0, 1], [0, 1], \"k--\", label=\"Perfect calibration\")\n",
    "plt.xlabel(\"Mean predicted probability (bin average)\")\n",
    "plt.ylabel(\"Fraction of positives\")\n",
    "plt.title(\"Calibration Curve (Isotonic)\")\n",
    "plt.legend()\n",
    "plt.grid(True)\n",
    "plt.tight_layout()\n",
    "plt.show()\n"
   ]
  },
  {
   "cell_type": "code",
   "execution_count": null,
   "id": "8cf4dae1",
   "metadata": {},
   "outputs": [],
   "source": []
  },
  {
   "cell_type": "code",
   "execution_count": null,
   "id": "5743cf2d",
   "metadata": {},
   "outputs": [],
   "source": [
    "iso_reg.transform([0.0000001])"
   ]
  },
  {
   "cell_type": "code",
   "execution_count": null,
   "id": "799102c2",
   "metadata": {},
   "outputs": [],
   "source": [
    "iso_reg.transform([0.01])"
   ]
  },
  {
   "cell_type": "code",
   "execution_count": null,
   "id": "7b3c1bd0",
   "metadata": {},
   "outputs": [],
   "source": [
    "iso_reg.transform([0.1])"
   ]
  },
  {
   "cell_type": "code",
   "execution_count": null,
   "id": "2e482238",
   "metadata": {},
   "outputs": [],
   "source": [
    "# Save the model\n",
    "joblib.dump(iso_reg, f'/home/manuel/Documents/oii/moderation_workforce/data/calibration_fasttext/twitter/calibration_models/isotonic_regression_model_{lang}.joblib')"
   ]
  },
  {
   "cell_type": "code",
   "execution_count": null,
   "id": "1c0b381f",
   "metadata": {},
   "outputs": [],
   "source": []
  },
  {
   "cell_type": "markdown",
   "id": "386e19c3",
   "metadata": {},
   "source": [
    "## spa"
   ]
  },
  {
   "cell_type": "code",
   "execution_count": null,
   "id": "cd7c908f",
   "metadata": {},
   "outputs": [],
   "source": [
    "lang = 'spa'"
   ]
  },
  {
   "cell_type": "code",
   "execution_count": null,
   "id": "ba5d4547",
   "metadata": {},
   "outputs": [],
   "source": [
    "df = pd.read_csv(f'/home/manuel/Documents/oii/moderation_workforce/data/calibration_fasttext/twitter/samples_annotated/calibration_fasttext - {lang}.csv')\n",
    "df.head()"
   ]
  },
  {
   "cell_type": "code",
   "execution_count": null,
   "id": "8cd57755",
   "metadata": {},
   "outputs": [],
   "source": [
    "df['class'].value_counts(dropna=False)"
   ]
  },
  {
   "cell_type": "code",
   "execution_count": null,
   "id": "5d3882a7",
   "metadata": {},
   "outputs": [],
   "source": [
    "df['class'] = df['class'].astype(float)"
   ]
  },
  {
   "cell_type": "code",
   "execution_count": null,
   "id": "42d9a793",
   "metadata": {},
   "outputs": [],
   "source": [
    "import numpy as np\n",
    "import pandas as pd\n",
    "from sklearn.isotonic import IsotonicRegression\n",
    "from sklearn.linear_model import LogisticRegression\n",
    "\n",
    "# Assuming df with columns 'label_deu' (raw scores) and 'class' (binary labels)\n",
    "\n",
    "X = df[f'label_{lang}'].values.reshape(-1, 1)  # raw model scores (e.g., predicted probs or logits)\n",
    "y = df['class'].values                     # true binary labels (0/1)\n",
    "\n",
    "# # Fit Platt scaling logistic regression on the raw scores\n",
    "# platt_scaler = LogisticRegression(solver='lbfgs')  # default params are fine\n",
    "# platt_scaler.fit(X, y)\n",
    "\n",
    "# # Predict calibrated probabilities using Platt scaling\n",
    "# calibrated_platt = platt_scaler.predict_proba(X)[:, 1]\n",
    "\n",
    "# Fit isotonic regression calibration (for comparison)\n",
    "iso_reg = IsotonicRegression(out_of_bounds='clip')\n",
    "calibrated_isotonic = iso_reg.fit_transform(df[f'label_{lang}'], y)\n",
    "\n",
    "# Add calibrated scores to DataFrame\n",
    "# df['calibrated_platt'] = calibrated_platt\n",
    "df['calibrated_isotonic'] = calibrated_isotonic\n",
    "\n"
   ]
  },
  {
   "cell_type": "code",
   "execution_count": null,
   "id": "fe28a0af",
   "metadata": {},
   "outputs": [],
   "source": [
    "df.tail()"
   ]
  },
  {
   "cell_type": "code",
   "execution_count": null,
   "id": "ab9bb661",
   "metadata": {},
   "outputs": [],
   "source": [
    "df['bin'] = (np.arange(len(df)) // 10)\n",
    "df.head()"
   ]
  },
  {
   "cell_type": "code",
   "execution_count": null,
   "id": "042c87f6",
   "metadata": {},
   "outputs": [],
   "source": [
    "bin_averages = df.groupby('bin').agg({\n",
    "    'class': 'mean',\n",
    "#     'calibrated_platt': 'mean',    \n",
    "    'calibrated_isotonic': 'mean',\n",
    "    f'label_{lang}': 'mean',}).reset_index()\n",
    "bin_averages"
   ]
  },
  {
   "cell_type": "code",
   "execution_count": null,
   "id": "755d108b",
   "metadata": {},
   "outputs": [],
   "source": [
    "import matplotlib.pyplot as plt\n",
    "\n",
    "# Use your DataFrame\n",
    "# df = your DataFrame with columns: 'calibrated_isotonic', 'label_arb_Arab'\n",
    "\n",
    "plt.figure(figsize=(6, 6))\n",
    "plt.plot(bin_averages[\"calibrated_isotonic\"], bin_averages[\"class\"], \"s-\", label=\"Isotonic calibrated\")\n",
    "plt.plot([0, 1], [0, 1], \"k--\", label=\"Perfect calibration\")\n",
    "plt.xlabel(\"Mean predicted probability (bin average)\")\n",
    "plt.ylabel(\"Fraction of positives\")\n",
    "plt.title(\"Calibration Curve (Isotonic)\")\n",
    "plt.legend()\n",
    "plt.grid(True)\n",
    "plt.tight_layout()\n",
    "plt.show()\n"
   ]
  },
  {
   "cell_type": "code",
   "execution_count": null,
   "id": "f98629c6",
   "metadata": {},
   "outputs": [],
   "source": []
  },
  {
   "cell_type": "code",
   "execution_count": null,
   "id": "152f7ffe",
   "metadata": {},
   "outputs": [],
   "source": [
    "iso_reg.transform([0.0000001])"
   ]
  },
  {
   "cell_type": "code",
   "execution_count": null,
   "id": "4a705f73",
   "metadata": {},
   "outputs": [],
   "source": [
    "iso_reg.transform([0.01])"
   ]
  },
  {
   "cell_type": "code",
   "execution_count": null,
   "id": "dd494ef2",
   "metadata": {},
   "outputs": [],
   "source": [
    "iso_reg.transform([0.1])"
   ]
  },
  {
   "cell_type": "code",
   "execution_count": null,
   "id": "7823fb96",
   "metadata": {},
   "outputs": [],
   "source": [
    "# Save the model\n",
    "joblib.dump(iso_reg, f'/home/manuel/Documents/oii/moderation_workforce/data/calibration_fasttext/twitter/calibration_models/isotonic_regression_model_{lang}.joblib')"
   ]
  },
  {
   "cell_type": "code",
   "execution_count": null,
   "id": "c4d79524",
   "metadata": {},
   "outputs": [],
   "source": []
  },
  {
   "cell_type": "markdown",
   "id": "91b82249",
   "metadata": {},
   "source": [
    "## arb_Latn"
   ]
  },
  {
   "cell_type": "code",
   "execution_count": null,
   "id": "dff79327",
   "metadata": {},
   "outputs": [],
   "source": [
    "lang = 'arb_Latn'"
   ]
  },
  {
   "cell_type": "code",
   "execution_count": null,
   "id": "b50b1bc5",
   "metadata": {},
   "outputs": [],
   "source": [
    "df = pd.read_csv(f'/home/manuel/Documents/oii/moderation_workforce/data/calibration_fasttext/twitter/samples_annotated/calibration_fasttext - {lang}.csv')\n",
    "df.head()"
   ]
  },
  {
   "cell_type": "code",
   "execution_count": null,
   "id": "8f7d10ee",
   "metadata": {},
   "outputs": [],
   "source": [
    "df['class'].value_counts(dropna=False)"
   ]
  },
  {
   "cell_type": "code",
   "execution_count": null,
   "id": "61e28e1a",
   "metadata": {},
   "outputs": [],
   "source": [
    "df['class'] = df['class'].astype(float)"
   ]
  },
  {
   "cell_type": "code",
   "execution_count": null,
   "id": "e88a144d",
   "metadata": {},
   "outputs": [],
   "source": [
    "import numpy as np\n",
    "import pandas as pd\n",
    "from sklearn.isotonic import IsotonicRegression\n",
    "from sklearn.linear_model import LogisticRegression\n",
    "\n",
    "# Assuming df with columns 'label_deu' (raw scores) and 'class' (binary labels)\n",
    "\n",
    "X = df[f'label_{lang}'].values.reshape(-1, 1)  # raw model scores (e.g., predicted probs or logits)\n",
    "y = df['class'].values                     # true binary labels (0/1)\n",
    "\n",
    "# # Fit Platt scaling logistic regression on the raw scores\n",
    "# platt_scaler = LogisticRegression(solver='lbfgs')  # default params are fine\n",
    "# platt_scaler.fit(X, y)\n",
    "\n",
    "# # Predict calibrated probabilities using Platt scaling\n",
    "# calibrated_platt = platt_scaler.predict_proba(X)[:, 1]\n",
    "\n",
    "# Fit isotonic regression calibration (for comparison)\n",
    "iso_reg = IsotonicRegression(out_of_bounds='clip')\n",
    "calibrated_isotonic = iso_reg.fit_transform(df[f'label_{lang}'], y)\n",
    "\n",
    "# Add calibrated scores to DataFrame\n",
    "# df['calibrated_platt'] = calibrated_platt\n",
    "df['calibrated_isotonic'] = calibrated_isotonic\n",
    "\n"
   ]
  },
  {
   "cell_type": "code",
   "execution_count": null,
   "id": "4e0a501e",
   "metadata": {},
   "outputs": [],
   "source": [
    "df.tail()"
   ]
  },
  {
   "cell_type": "code",
   "execution_count": null,
   "id": "65d3e5ce",
   "metadata": {},
   "outputs": [],
   "source": [
    "df['bin'] = (np.arange(len(df)) // 10)\n",
    "df.head()"
   ]
  },
  {
   "cell_type": "code",
   "execution_count": null,
   "id": "5c60b55e",
   "metadata": {},
   "outputs": [],
   "source": [
    "bin_averages = df.groupby('bin').agg({\n",
    "    'class': 'mean',\n",
    "#     'calibrated_platt': 'mean',    \n",
    "    'calibrated_isotonic': 'mean',\n",
    "    f'label_{lang}': 'mean',}).reset_index()\n",
    "bin_averages"
   ]
  },
  {
   "cell_type": "code",
   "execution_count": null,
   "id": "32dc2cc0",
   "metadata": {},
   "outputs": [],
   "source": [
    "import matplotlib.pyplot as plt\n",
    "\n",
    "# Use your DataFrame\n",
    "# df = your DataFrame with columns: 'calibrated_isotonic', 'label_arb_Arab'\n",
    "\n",
    "plt.figure(figsize=(6, 6))\n",
    "plt.plot(bin_averages[\"calibrated_isotonic\"], bin_averages[\"class\"], \"s-\", label=\"Isotonic calibrated\")\n",
    "plt.plot([0, 1], [0, 1], \"k--\", label=\"Perfect calibration\")\n",
    "plt.xlabel(\"Mean predicted probability (bin average)\")\n",
    "plt.ylabel(\"Fraction of positives\")\n",
    "plt.title(\"Calibration Curve (Isotonic)\")\n",
    "plt.legend()\n",
    "plt.grid(True)\n",
    "plt.tight_layout()\n",
    "plt.show()\n"
   ]
  },
  {
   "cell_type": "code",
   "execution_count": null,
   "id": "3c2fa42f",
   "metadata": {},
   "outputs": [],
   "source": []
  },
  {
   "cell_type": "code",
   "execution_count": null,
   "id": "93e609c6",
   "metadata": {},
   "outputs": [],
   "source": [
    "iso_reg.transform([0.0000001])"
   ]
  },
  {
   "cell_type": "code",
   "execution_count": null,
   "id": "f04b59b3",
   "metadata": {},
   "outputs": [],
   "source": [
    "iso_reg.transform([0.01])"
   ]
  },
  {
   "cell_type": "code",
   "execution_count": null,
   "id": "a7a94e0c",
   "metadata": {},
   "outputs": [],
   "source": [
    "iso_reg.transform([0.1])"
   ]
  },
  {
   "cell_type": "code",
   "execution_count": null,
   "id": "22b42656",
   "metadata": {},
   "outputs": [],
   "source": [
    "# Save the model\n",
    "joblib.dump(iso_reg, f'/home/manuel/Documents/oii/moderation_workforce/data/calibration_fasttext/twitter/calibration_models/isotonic_regression_model_{lang}.joblib')"
   ]
  },
  {
   "cell_type": "code",
   "execution_count": null,
   "id": "e9e70f82",
   "metadata": {},
   "outputs": [],
   "source": []
  },
  {
   "cell_type": "markdown",
   "id": "6aa2c327",
   "metadata": {},
   "source": [
    "## hrv"
   ]
  },
  {
   "cell_type": "code",
   "execution_count": null,
   "id": "89231e1a",
   "metadata": {},
   "outputs": [],
   "source": [
    "lang = 'hrv'"
   ]
  },
  {
   "cell_type": "code",
   "execution_count": null,
   "id": "746e6dc6",
   "metadata": {},
   "outputs": [],
   "source": [
    "df = pd.read_csv(f'/home/manuel/Documents/oii/moderation_workforce/data/calibration_fasttext/twitter/samples_annotated/calibration_fasttext - {lang}.csv')\n",
    "df.head()"
   ]
  },
  {
   "cell_type": "code",
   "execution_count": null,
   "id": "f9c88d16",
   "metadata": {},
   "outputs": [],
   "source": [
    "df['class'].value_counts(dropna=False)"
   ]
  },
  {
   "cell_type": "code",
   "execution_count": null,
   "id": "e24bff4b",
   "metadata": {},
   "outputs": [],
   "source": [
    "df['class'] = df['class'].apply(lambda x: x.replace('0,5', '0.5'))"
   ]
  },
  {
   "cell_type": "code",
   "execution_count": null,
   "id": "0f0c5514",
   "metadata": {},
   "outputs": [],
   "source": [
    "df['class'] = df['class'].astype(float)"
   ]
  },
  {
   "cell_type": "code",
   "execution_count": null,
   "id": "46fe11f2",
   "metadata": {},
   "outputs": [],
   "source": [
    "import numpy as np\n",
    "import pandas as pd\n",
    "from sklearn.isotonic import IsotonicRegression\n",
    "from sklearn.linear_model import LogisticRegression\n",
    "\n",
    "# Assuming df with columns 'label_deu' (raw scores) and 'class' (binary labels)\n",
    "\n",
    "X = df[f'label_{lang}'].values.reshape(-1, 1)  # raw model scores (e.g., predicted probs or logits)\n",
    "y = df['class'].values                     # true binary labels (0/1)\n",
    "\n",
    "# # Fit Platt scaling logistic regression on the raw scores\n",
    "# platt_scaler = LogisticRegression(solver='lbfgs')  # default params are fine\n",
    "# platt_scaler.fit(X, y)\n",
    "\n",
    "# # Predict calibrated probabilities using Platt scaling\n",
    "# calibrated_platt = platt_scaler.predict_proba(X)[:, 1]\n",
    "\n",
    "# Fit isotonic regression calibration (for comparison)\n",
    "iso_reg = IsotonicRegression(out_of_bounds='clip')\n",
    "calibrated_isotonic = iso_reg.fit_transform(df[f'label_{lang}'], y)\n",
    "\n",
    "# Add calibrated scores to DataFrame\n",
    "# df['calibrated_platt'] = calibrated_platt\n",
    "df['calibrated_isotonic'] = calibrated_isotonic\n",
    "\n"
   ]
  },
  {
   "cell_type": "code",
   "execution_count": null,
   "id": "eebb21f1",
   "metadata": {},
   "outputs": [],
   "source": [
    "df.tail()"
   ]
  },
  {
   "cell_type": "code",
   "execution_count": null,
   "id": "fe2412b9",
   "metadata": {},
   "outputs": [],
   "source": [
    "df['bin'] = (np.arange(len(df)) // 10)\n",
    "df.head()"
   ]
  },
  {
   "cell_type": "code",
   "execution_count": null,
   "id": "525a50b3",
   "metadata": {},
   "outputs": [],
   "source": [
    "bin_averages = df.groupby('bin').agg({\n",
    "    'class': 'mean',\n",
    "#     'calibrated_platt': 'mean',    \n",
    "    'calibrated_isotonic': 'mean',\n",
    "    f'label_{lang}': 'mean',}).reset_index()\n",
    "bin_averages"
   ]
  },
  {
   "cell_type": "code",
   "execution_count": null,
   "id": "3ffe3022",
   "metadata": {},
   "outputs": [],
   "source": [
    "import matplotlib.pyplot as plt\n",
    "\n",
    "# Use your DataFrame\n",
    "# df = your DataFrame with columns: 'calibrated_isotonic', 'label_arb_Arab'\n",
    "\n",
    "plt.figure(figsize=(6, 6))\n",
    "plt.plot(bin_averages[\"calibrated_isotonic\"], bin_averages[\"class\"], \"s-\", label=\"Isotonic calibrated\")\n",
    "plt.plot([0, 1], [0, 1], \"k--\", label=\"Perfect calibration\")\n",
    "plt.xlabel(\"Mean predicted probability (bin average)\")\n",
    "plt.ylabel(\"Fraction of positives\")\n",
    "plt.title(\"Calibration Curve (Isotonic)\")\n",
    "plt.legend()\n",
    "plt.grid(True)\n",
    "plt.tight_layout()\n",
    "plt.show()\n"
   ]
  },
  {
   "cell_type": "code",
   "execution_count": null,
   "id": "3283c20f",
   "metadata": {},
   "outputs": [],
   "source": []
  },
  {
   "cell_type": "code",
   "execution_count": null,
   "id": "0f1a30fd",
   "metadata": {},
   "outputs": [],
   "source": [
    "iso_reg.transform([0.0000001])"
   ]
  },
  {
   "cell_type": "code",
   "execution_count": null,
   "id": "459d2a79",
   "metadata": {},
   "outputs": [],
   "source": [
    "iso_reg.transform([0.01])"
   ]
  },
  {
   "cell_type": "code",
   "execution_count": null,
   "id": "5bcd55cb",
   "metadata": {},
   "outputs": [],
   "source": [
    "iso_reg.transform([0.1])"
   ]
  },
  {
   "cell_type": "code",
   "execution_count": null,
   "id": "95756bef",
   "metadata": {},
   "outputs": [],
   "source": [
    "# Save the model\n",
    "joblib.dump(iso_reg, f'/home/manuel/Documents/oii/moderation_workforce/data/calibration_fasttext/twitter/calibration_models/isotonic_regression_model_{lang}.joblib')"
   ]
  },
  {
   "cell_type": "code",
   "execution_count": null,
   "id": "18719bc3",
   "metadata": {},
   "outputs": [],
   "source": []
  },
  {
   "cell_type": "markdown",
   "id": "1512b216",
   "metadata": {},
   "source": [
    "## ita"
   ]
  },
  {
   "cell_type": "code",
   "execution_count": null,
   "id": "11a68d7d",
   "metadata": {},
   "outputs": [],
   "source": [
    "lang = 'ita'"
   ]
  },
  {
   "cell_type": "code",
   "execution_count": null,
   "id": "6499a759",
   "metadata": {},
   "outputs": [],
   "source": [
    "df = pd.read_csv(f'/home/manuel/Documents/oii/moderation_workforce/data/calibration_fasttext/twitter/samples_annotated/calibration_fasttext - {lang}.csv')\n",
    "df.head()"
   ]
  },
  {
   "cell_type": "code",
   "execution_count": null,
   "id": "54660dff",
   "metadata": {},
   "outputs": [],
   "source": [
    "df['class'].value_counts(dropna=False)"
   ]
  },
  {
   "cell_type": "code",
   "execution_count": null,
   "id": "f7f7accd",
   "metadata": {},
   "outputs": [],
   "source": [
    "df['class'] = df['class'].astype(float)"
   ]
  },
  {
   "cell_type": "code",
   "execution_count": null,
   "id": "6155bbbe",
   "metadata": {},
   "outputs": [],
   "source": [
    "import numpy as np\n",
    "import pandas as pd\n",
    "from sklearn.isotonic import IsotonicRegression\n",
    "from sklearn.linear_model import LogisticRegression\n",
    "\n",
    "# Assuming df with columns 'label_deu' (raw scores) and 'class' (binary labels)\n",
    "\n",
    "X = df[f'label_{lang}'].values.reshape(-1, 1)  # raw model scores (e.g., predicted probs or logits)\n",
    "y = df['class'].values                     # true binary labels (0/1)\n",
    "\n",
    "# # Fit Platt scaling logistic regression on the raw scores\n",
    "# platt_scaler = LogisticRegression(solver='lbfgs')  # default params are fine\n",
    "# platt_scaler.fit(X, y)\n",
    "\n",
    "# # Predict calibrated probabilities using Platt scaling\n",
    "# calibrated_platt = platt_scaler.predict_proba(X)[:, 1]\n",
    "\n",
    "# Fit isotonic regression calibration (for comparison)\n",
    "iso_reg = IsotonicRegression(out_of_bounds='clip')\n",
    "calibrated_isotonic = iso_reg.fit_transform(df[f'label_{lang}'], y)\n",
    "\n",
    "# Add calibrated scores to DataFrame\n",
    "# df['calibrated_platt'] = calibrated_platt\n",
    "df['calibrated_isotonic'] = calibrated_isotonic\n",
    "\n"
   ]
  },
  {
   "cell_type": "code",
   "execution_count": null,
   "id": "eb1bd506",
   "metadata": {},
   "outputs": [],
   "source": [
    "df.tail()"
   ]
  },
  {
   "cell_type": "code",
   "execution_count": null,
   "id": "2f31e6a4",
   "metadata": {},
   "outputs": [],
   "source": [
    "df['bin'] = (np.arange(len(df)) // 10)\n",
    "df.head()"
   ]
  },
  {
   "cell_type": "code",
   "execution_count": null,
   "id": "b1ab3d8c",
   "metadata": {},
   "outputs": [],
   "source": [
    "bin_averages = df.groupby('bin').agg({\n",
    "    'class': 'mean',\n",
    "#     'calibrated_platt': 'mean',    \n",
    "    'calibrated_isotonic': 'mean',\n",
    "    f'label_{lang}': 'mean',}).reset_index()\n",
    "bin_averages"
   ]
  },
  {
   "cell_type": "code",
   "execution_count": null,
   "id": "4c4d0d09",
   "metadata": {},
   "outputs": [],
   "source": [
    "import matplotlib.pyplot as plt\n",
    "\n",
    "# Use your DataFrame\n",
    "# df = your DataFrame with columns: 'calibrated_isotonic', 'label_arb_Arab'\n",
    "\n",
    "plt.figure(figsize=(6, 6))\n",
    "plt.plot(bin_averages[\"calibrated_isotonic\"], bin_averages[\"class\"], \"s-\", label=\"Isotonic calibrated\")\n",
    "plt.plot([0, 1], [0, 1], \"k--\", label=\"Perfect calibration\")\n",
    "plt.xlabel(\"Mean predicted probability (bin average)\")\n",
    "plt.ylabel(\"Fraction of positives\")\n",
    "plt.title(\"Calibration Curve (Isotonic)\")\n",
    "plt.legend()\n",
    "plt.grid(True)\n",
    "plt.tight_layout()\n",
    "plt.show()\n"
   ]
  },
  {
   "cell_type": "code",
   "execution_count": null,
   "id": "1df5c4eb",
   "metadata": {},
   "outputs": [],
   "source": []
  },
  {
   "cell_type": "code",
   "execution_count": null,
   "id": "af9e0f07",
   "metadata": {},
   "outputs": [],
   "source": [
    "iso_reg.transform([0.0000001])"
   ]
  },
  {
   "cell_type": "code",
   "execution_count": null,
   "id": "5f35a32d",
   "metadata": {},
   "outputs": [],
   "source": [
    "iso_reg.transform([0.01])"
   ]
  },
  {
   "cell_type": "code",
   "execution_count": null,
   "id": "c9c71073",
   "metadata": {},
   "outputs": [],
   "source": [
    "iso_reg.transform([0.1])"
   ]
  },
  {
   "cell_type": "code",
   "execution_count": null,
   "id": "dacc5471",
   "metadata": {},
   "outputs": [],
   "source": [
    "# Save the model\n",
    "joblib.dump(iso_reg, f'/home/manuel/Documents/oii/moderation_workforce/data/calibration_fasttext/twitter/calibration_models/isotonic_regression_model_{lang}.joblib')"
   ]
  },
  {
   "cell_type": "code",
   "execution_count": null,
   "id": "99146f31",
   "metadata": {},
   "outputs": [],
   "source": []
  }
 ],
 "metadata": {
  "kernelspec": {
   "display_name": "Python 3 (ipykernel)",
   "language": "python",
   "name": "python3"
  },
  "language_info": {
   "codemirror_mode": {
    "name": "ipython",
    "version": 3
   },
   "file_extension": ".py",
   "mimetype": "text/x-python",
   "name": "python",
   "nbconvert_exporter": "python",
   "pygments_lexer": "ipython3",
   "version": "3.12.3"
  }
 },
 "nbformat": 4,
 "nbformat_minor": 5
}
